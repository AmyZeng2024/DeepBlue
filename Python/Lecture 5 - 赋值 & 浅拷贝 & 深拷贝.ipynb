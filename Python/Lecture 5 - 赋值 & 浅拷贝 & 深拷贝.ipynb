{
 "cells": [
  {
   "cell_type": "markdown",
   "id": "ee2e4c47-169b-4b2e-b0fa-b0202c3f1a4e",
   "metadata": {},
   "source": [
    "## 1. 赋值\n",
    "***\n",
    "id(object)\n",
    "- 返回object唯一的标识符（一串数字）\n",
    "- 标识符和内存地址是一一对应的。\n",
    "\n"
   ]
  },
  {
   "cell_type": "markdown",
   "id": "78c3f50f-3f49-4659-bd81-5de5b2831fee",
   "metadata": {},
   "source": [
    "- ### <b>赋值</b>\n",
    "    - Python中，变量定义和赋值必须是同时进行的，比如当执行程序a=999是先在内存中开辟一块空间来存放数据999，然后定义变量名a来指向这块空间的内存地址，方便我们使用变量值，所以变量名和值其实是一种引用的关联关系。\n",
    "    - 严格来说，变量名本身没有类型，通常我们所说的变量类型指的是值的数据类型。"
   ]
  },
  {
   "cell_type": "code",
   "execution_count": 1,
   "id": "97bd11bc-b734-43a3-9d5f-d4b3d9a5b491",
   "metadata": {},
   "outputs": [
    {
     "name": "stdout",
     "output_type": "stream",
     "text": [
      "789 2593416573808\n",
      "789 2593416573808\n"
     ]
    }
   ],
   "source": [
    "a=789\n",
    "b=a\n",
    "print(a, id(a))\n",
    "print(b, id(a))"
   ]
  },
  {
   "cell_type": "code",
   "execution_count": 2,
   "id": "8196616b-2fcb-4bdc-93ad-ade34f0fc681",
   "metadata": {},
   "outputs": [
    {
     "name": "stdout",
     "output_type": "stream",
     "text": [
      "789 2593416573648\n",
      "789 2593416575696\n"
     ]
    }
   ],
   "source": [
    "a=789\n",
    "b=789\n",
    "print(a, id(a))\n",
    "print(b, id(b))"
   ]
  },
  {
   "cell_type": "markdown",
   "id": "12b6f8ae-0aef-4210-ad1f-ae8b98a144f0",
   "metadata": {},
   "source": [
    "- a=789 和 b=789，\n",
    "    - 命令行和jupyter中，或者交互式的窗口中，a和b的id不一样\n",
    "    - Pycharm 做了优化，a和b的id是一样的\n",
    "        - 所有引用同样的<font color=red>不可变</font>的数据的变量都指向一个内存地址\n",
    "        - 只申请一次内存，也只清空一次内存，提高了效率\n",
    "        - 数字不可变，所以不影响\n",
    "\n",
    "    <img src='img/id_1.png' width=500>\n",
    "\n",
    "- a=(789,) 和 b=(789,)\n",
    "    - 在Pycharm中仍做了优化，两者id一样\n",
    "\n",
    "    <img src='img/id_2.png' width=500>\n",
    "\n",
    "\n",
    "- a=[789,] 和 b=[789,]\n",
    "    - 在Pycharm中的id不一样\n",
    "    - 列表是可变的数据类型，所以不能被优化，不能指向同一内存地址\n",
    "    - a.append(x)后，a和b不一样，但两者指向同一地址会出问题\n",
    "\n",
    "    <img src='img/id_3.png' width=500>\n",
    "    \n",
    "    <img src='img/id_4.png' width=500>\n",
    "    \n",
    "- a=(789,[]) 和 b=(789,[])\n",
    "    - 元组中加入了列表，Pycharm不会优化，因为增加了可变元素\n",
    "\n",
    "    <img src='img/id_5.png' width=300>\n",
    "\n",
    "\n",
    "- a=256 和 b=256\n",
    "    - 两者id一样\n",
    "    - 不同平台执行这段代码，a和b的id不变\n",
    "    - [-5,256]这262个数字形成了<font color=red>小整数池</font>，python事先存在内存中，而且不会被清空或回收\n",
    "    - 同样情况的还有：True, False, None\n",
    "\n",
    "    <img src='img/id_6.png' width=500>"
   ]
  },
  {
   "cell_type": "markdown",
   "id": "7a35acbf-1f64-4d9a-9865-b6d7bea6c946",
   "metadata": {},
   "source": [
    "- 当一个可变类型的数据被多个变量名引用时，如果对该元数据进行修改，那么他所有的引用都会发生改变。"
   ]
  },
  {
   "cell_type": "code",
   "execution_count": 3,
   "id": "54d4f660-ee4c-4b14-8d47-c7a8992d0d34",
   "metadata": {},
   "outputs": [
    {
     "name": "stdout",
     "output_type": "stream",
     "text": [
      "2593416855616\n",
      "2593416855616\n",
      "2593416855872\n",
      "[1, 2, 3, 4]\n",
      "2593416855616\n",
      "2593416855616\n"
     ]
    }
   ],
   "source": [
    "a=[1,2,3]\n",
    "b=[1,2,3]\n",
    "c=a\n",
    "print(id(a))\n",
    "print(id(c))\n",
    "\n",
    "print(id(b))\n",
    "\n",
    "a.append(4)\n",
    "print(a)\n",
    "print(id(a))\n",
    "print(id(c))"
   ]
  },
  {
   "cell_type": "markdown",
   "id": "e289be08-037a-4b29-ab1d-57cc85576a0c",
   "metadata": {},
   "source": [
    "## 2. 浅拷贝 & 深拷贝\n",
    "***\n",
    "Python中的赋值语句不复制对象，只是建立引用关联，对于可变数据，又是我们不希望直接对它进行修改，因为这可能会导致一些意外的情况发生，所以我们就可以把它copy一份，对它的副本进行操作。\n",
    "\n",
    "这种copy操作又分为浅层copy和深层copy，我们所学的List.copy()、dict.copy()、set.copy()和切片都属于浅层copy，在copy模块中，提供了通用的浅层和深层copy操作。"
   ]
  },
  {
   "cell_type": "markdown",
   "id": "cd71c6bf-ce3f-4b0e-af35-336cb3f80ef6",
   "metadata": {},
   "source": [
    "- ### <b>浅拷贝</b>\n",
    "    - 浅层拷贝只考虑最外层的数据类型（数据本身）\n",
    "    - 如果被拷贝的对象（最外层的数据类型）是可变的，则（最外层）发生拷贝，但是其中的元素仍为引用关系(没有发生拷贝）\n",
    "    - 如果被拷贝的对象（最外层的数据类型）是不可变的，则不发生拷贝\n",
    "    - 不考虑里面的元素是否可变\n",
    "    - 不会发生拷贝的数据类型：number, string, tuple\n",
    "    - 会发生拷贝的数据类型：list, dictionary, set\n",
    "    - 判断是否发生了拷贝：id是否一样\n",
    "        - id不一样：发生了拷贝\n",
    "        - id一样：没有发生拷贝\n",
    "    - 浅层拷贝只拷贝最外层的数据类型，里面的元素没有被拷贝，所以里面的每个元素都被引用了两次"
   ]
  },
  {
   "cell_type": "markdown",
   "id": "8f315057-45a7-4b5e-a349-d5f113ba1937",
   "metadata": {},
   "source": [
    "- a,b,c,d引用同一个列表，对b改变后，将同时影响a,c,d的值\n"
   ]
  },
  {
   "cell_type": "code",
   "execution_count": 4,
   "id": "0958dab7-4871-4845-9d00-921bd5b28c2c",
   "metadata": {},
   "outputs": [
    {
     "name": "stdout",
     "output_type": "stream",
     "text": [
      "[345, 789, 123]\n",
      "[345, 789, 123]\n",
      "[345, 789, 123]\n",
      "[345, 789, 123]\n"
     ]
    }
   ],
   "source": [
    "a=[345, 789]\n",
    "b=a\n",
    "c=a\n",
    "d=a\n",
    "\n",
    "b[len(b):]=123,\n",
    "\n",
    "print(a)\n",
    "print(b)\n",
    "print(c)\n",
    "print(d)"
   ]
  },
  {
   "cell_type": "markdown",
   "id": "56afed1d-8bf1-4554-acf4-9257182cdb71",
   "metadata": {},
   "source": [
    "- 对b的副本进行修改，则不影响a,b,c,d的值\n",
    "    - 列表的copy()是浅层拷贝\n",
    "    - 字典、集合的copy()方法都是浅层拷贝\n",
    "    - 切片也是浅层拷贝\n",
    "    - import copy中的copy()也是浅层拷贝\n",
    "    - import copy中的deepcopy()是深层拷贝"
   ]
  },
  {
   "cell_type": "code",
   "execution_count": 5,
   "id": "ffade001-ad11-47c7-b15c-86b09c68dc7d",
   "metadata": {},
   "outputs": [
    {
     "name": "stdout",
     "output_type": "stream",
     "text": [
      "[345, 789]\n",
      "[345, 789, 123]\n",
      "[345, 789]\n",
      "[345, 789]\n"
     ]
    }
   ],
   "source": [
    "a=[345, 789]\n",
    "b=a\n",
    "c=a\n",
    "d=a\n",
    "\n",
    "b=b.copy()\n",
    "b[len(b):]=123,\n",
    "\n",
    "print(a)\n",
    "print(b)\n",
    "print(c)\n",
    "print(d)"
   ]
  },
  {
   "cell_type": "markdown",
   "id": "771ec767-de1f-4281-bf07-0eafd6eb170b",
   "metadata": {},
   "source": [
    "- 不会发生拷贝的数据类型有：数字，字符串、元组"
   ]
  },
  {
   "cell_type": "code",
   "execution_count": 6,
   "id": "6595fd0b-68d1-4549-930a-687a693408ea",
   "metadata": {},
   "outputs": [
    {
     "name": "stdout",
     "output_type": "stream",
     "text": [
      "789 2593416565872\n",
      "789 2593416565872\n",
      "7.89 2593416574320\n",
      "7.89 2593416574320\n",
      "True 140724277103168\n",
      "True 140724277103168\n",
      "(3+4j) 2593416574000\n",
      "(3+4j) 2593416574000\n",
      "hello world 2593416832688\n",
      "hello world 2593416832688\n",
      "(345, 'hello world') 2593416799168\n",
      "(345, 'hello world') 2593416799168\n",
      "(345, [], 'hello world') 2593416800512\n",
      "(345, [], 'hello world') 2593416800512\n"
     ]
    }
   ],
   "source": [
    "import copy\n",
    "\n",
    "# 整数：没有发生拷贝\n",
    "data=789\n",
    "new_data=copy.copy(data)\n",
    "print(data, id(data))   # 789 2676439212784\n",
    "print(new_data, id(new_data))   # 789 2676439212784\n",
    "\n",
    "#浮点数：没有发生拷贝\n",
    "data=7.89\n",
    "new_data=copy.copy(data)\n",
    "print(data, id(data))   # 7.89 2676417830800\n",
    "print(new_data, id(new_data))   # 7.89 2676417830800\n",
    "\n",
    "#布尔型：没有发生拷贝\n",
    "data=True\n",
    "new_data=copy.copy(data)\n",
    "print(data, id(data))   # True 140724277103168\n",
    "print(new_data, id(new_data))   # True 140724277103168\n",
    "\n",
    "# 复数：没有发生拷贝\n",
    "data=3+4j\n",
    "new_data=copy.copy(data)\n",
    "print(data, id(data))   # (3+4j) 2676439217456\n",
    "print(new_data, id(new_data))   # (3+4j) 2676439217456\n",
    "\n",
    "# 字符串：没有发生拷贝\n",
    "data='hello world'\n",
    "new_data=copy.copy(data)\n",
    "print(data, id(data))   # hello world 2676439473520\n",
    "print(new_data, id(new_data))   # hello world 2676439473520\n",
    "\n",
    "# 元组：没有发生拷贝\n",
    "data=(345, 'hello world')\n",
    "new_data=copy.copy(data)\n",
    "print(data, id(data))   # (345, 'hello world') 2676439441280\n",
    "print(new_data, id(new_data))   # (345, 'hello world') 2676439441280\n",
    "\n",
    "# 元组(有可变元素(list))：没有发生拷贝\n",
    "data=(345, [], 'hello world')\n",
    "new_data=copy.copy(data)\n",
    "print(data, id(data))   # (345, [], 'hello world') 2676439393408\n",
    "print(new_data, id(new_data))   # (345, [], 'hello world') 2676439393408\n"
   ]
  },
  {
   "cell_type": "markdown",
   "id": "dcf1e557-f58f-4629-80b5-54a62d8fe64b",
   "metadata": {},
   "source": [
    "- 会发生拷贝的数据类型：列表，字典、集合"
   ]
  },
  {
   "cell_type": "code",
   "execution_count": 7,
   "id": "d27f8b04-84fe-4abb-8cf4-f9ffc298e6bf",
   "metadata": {},
   "outputs": [
    {
     "name": "stdout",
     "output_type": "stream",
     "text": [
      "[345, 'hello world'] 2593416847616\n",
      "[345, 'hello world'] 2593416848128\n",
      "{345: 'hello world'} 2593416752768\n",
      "{345: 'hello world'} 2593416750656\n",
      "{345, 'hello world'} 2593416378432\n",
      "{345, 'hello world'} 2593416377312\n"
     ]
    }
   ],
   "source": [
    "# 列表：发生了拷贝\n",
    "data=[345, 'hello world']\n",
    "new_data=copy.copy(data)\n",
    "print(data, id(data))   # [345, 'hello world'] 2676439489856\n",
    "print(new_data, id(new_data))   # [345, 'hello world'] 2676439491136\n",
    "\n",
    "# 字典：发生了拷贝\n",
    "data={345: 'hello world'}\n",
    "new_data=copy.copy(data)\n",
    "print(data, id(data))   # {345: 'hello world'} 2676439508544\n",
    "print(new_data, id(new_data))   # {345: 'hello world'} 2676439508160\n",
    "\n",
    "# 集合：发生了拷贝\n",
    "data={345, 'hello world'}\n",
    "new_data=copy.copy(data)\n",
    "print(data, id(data))   # {345, 'hello world'} 2676439615520\n",
    "print(new_data, id(new_data))   # {345, 'hello world'} 2676439614400"
   ]
  },
  {
   "cell_type": "markdown",
   "id": "d13ee24e-3121-454e-95bd-9c891fc22ec0",
   "metadata": {},
   "source": [
    "- 浅拷贝只考虑数据本身是否被拷贝，里面的元元素没有被拷贝，所以里面的每个元素都被引用了两次\n",
    "- 例如list里面的元素(996, [997, 998])被引用两次(list1和list2)，但是元组里面的元素被引用一次，仅被元组引用。\n",
    "\n",
    "<img src='img/copy_1.png' width=500>"
   ]
  },
  {
   "cell_type": "code",
   "execution_count": 8,
   "id": "485f86a8-e41d-4a61-9a7d-92568416fa2e",
   "metadata": {},
   "outputs": [
    {
     "name": "stdout",
     "output_type": "stream",
     "text": [
      "2593416846656\n",
      "2593416858624\n",
      "2593416574224 2593416574224 一样\n",
      "140724277373104 140724277373104 一样\n",
      "2593416791872 2593416791872 一样\n",
      "2593416828864 2593416828864 一样\n",
      "2593416848128 2593416848128 一样\n",
      "2593416833536 2593416833536 一样\n",
      "2593416790592 2593416790592 一样\n",
      "2593416799744 2593416799744 一样\n"
     ]
    }
   ],
   "source": [
    "list1=[991, 'abc', (9, 993), [994, 995], [888, 887], {'name':'tom'}, (996, [997, 998]),(886, (886, 886))]\n",
    "list2=list1.copy()\n",
    "print(id(list1))    # 2676439497088\n",
    "print(id(list2))    # 2676439439872\n",
    "\n",
    "# 判断list1里面的元素是否也进行了复制\n",
    "# 如果元素的id一样，则没有复制，不一样则进行了复制\n",
    "for i in range(len(list1)):\n",
    "    print(id(list1[i]), id(list2[i]), '一样' if id(list1[i])==id(list2[i]) else '不一样')"
   ]
  },
  {
   "cell_type": "markdown",
   "id": "e2c4f664-4b2d-4ff1-955e-9914531ee42c",
   "metadata": {},
   "source": [
    "- 如果list1的元素发生了变化，则list1的元素指向新数据，但是list2仍指向原数据，所以List2没有发生变化\n",
    "\n",
    "<img src='img/copy_2.png' width=500>"
   ]
  },
  {
   "cell_type": "code",
   "execution_count": 9,
   "id": "c0c4a8ac-5fdd-457a-b639-083880599108",
   "metadata": {},
   "outputs": [
    {
     "name": "stdout",
     "output_type": "stream",
     "text": [
      "[991, 'abc', (9, 993), [994], [888, 887], {'name': 'tom'}, (996, [997, 998]), (886, (886, 886))]\n",
      "[991, 'abc', (9, 993), [994, 995], [888, 887], {'name': 'tom'}, (996, [997, 998]), (886, (886, 886))]\n"
     ]
    }
   ],
   "source": [
    "list1=[991, 'abc', (9, 993), [994, 995], [888, 887], {'name':'tom'}, (996, [997, 998]),(886, (886, 886))]\n",
    "list2=list1.copy()\n",
    "\n",
    "list1[3]=[994]\n",
    "print(list1)\n",
    "print(list2)"
   ]
  },
  {
   "cell_type": "markdown",
   "id": "f532717e-03fb-43cd-b098-b90e5c8d71b5",
   "metadata": {},
   "source": [
    "- 如果对List1里面的第三个元素里的元素进行改变，则list1和list2仍引用该元素，list1和list2的内容相同，都发生了改变。\n",
    "\n",
    "<img src='img/copy_3.png' width=500>"
   ]
  },
  {
   "cell_type": "code",
   "execution_count": 10,
   "id": "12157bb0-de71-433a-b82a-472b1188dd59",
   "metadata": {},
   "outputs": [
    {
     "name": "stdout",
     "output_type": "stream",
     "text": [
      "[991, 'abc', (9, 993), [994], [888, 887], {'name': 'tom'}, (996, [997, 998]), (886, (886, 886))]\n",
      "[991, 'abc', (9, 993), [994], [888, 887], {'name': 'tom'}, (996, [997, 998]), (886, (886, 886))]\n"
     ]
    }
   ],
   "source": [
    "list1=[991, 'abc', (9, 993), [994, 995], [888, 887], {'name':'tom'}, (996, [997, 998]),(886, (886, 886))]\n",
    "list2=list1.copy()\n",
    "\n",
    "del list1[3][-1]\n",
    "print(list1)\n",
    "print(list2)"
   ]
  },
  {
   "cell_type": "markdown",
   "id": "31236886-7099-463b-ab48-24e8d3735caa",
   "metadata": {},
   "source": [
    "- 如果对List1里面的第6个元素里的第二个元素的第二个元素进行改变，第二个元素指向了新的数据，但list1和list2仍引用该第六个元素，list1和list2的内容相同，都发生了改变。\n",
    "\n",
    "<img src='img/copy_4.png' width=500>"
   ]
  },
  {
   "cell_type": "code",
   "execution_count": 11,
   "id": "69d6bb6e-238c-4763-91e2-78e2fc0e2069",
   "metadata": {},
   "outputs": [
    {
     "name": "stdout",
     "output_type": "stream",
     "text": [
      "[991, 'abc', (9, 993), [994, 995], [888, 887], {'name': 'tom'}, (996, [997, 994]), (886, (886, 886))]\n",
      "[991, 'abc', (9, 993), [994, 995], [888, 887], {'name': 'tom'}, (996, [997, 994]), (886, (886, 886))]\n"
     ]
    }
   ],
   "source": [
    "list1=[991, 'abc', (9, 993), [994, 995], [888, 887], {'name':'tom'}, (996, [997, 998]),(886, (886, 886))]\n",
    "list2=list1.copy()\n",
    "\n",
    "list1[6][-1][-1]=994\n",
    "print(list1)\n",
    "print(list2)"
   ]
  },
  {
   "cell_type": "markdown",
   "id": "368c9d7f-b1e7-43ab-b101-2208a8a56d5b",
   "metadata": {},
   "source": [
    "- ### <b>深拷贝</b>\n",
    "    - 深层拷贝不仅考虑最外层的数据类型（被拷贝的数据本身），还会考虑其中的成员\n",
    "    - 如果被拷贝的对象（最外层）和里面的元素存在可变的，则发生拷贝\n",
    "    - 如果被拷贝的对象（最外层）和里面的元素都是不可变的，则不发生拷贝\n",
    "    - 被拷贝的对象，里面的元素是否被拷贝，按上面两点去判定。\n",
    "    - 不会发生拷贝的数据类型：number, string, tuple\n",
    "    - 会发生拷贝的数据类型：list, dictionary, set\n",
    "    - 判断是否发生了拷贝：id是否一样\n",
    "        - id不一样：发生了拷贝\n",
    "        - id一样：没有发生拷贝\n",
    "    - 深层拷贝不仅拷贝最外层的数据类型，同时拷贝里面的元素"
   ]
  },
  {
   "cell_type": "code",
   "execution_count": 12,
   "id": "59da7e89-e65b-4703-b134-e8486e92a43b",
   "metadata": {},
   "outputs": [
    {
     "name": "stdout",
     "output_type": "stream",
     "text": [
      "2593416565616\n",
      "2593416565616\n",
      "2593416566064\n",
      "2593416566064\n",
      "140724277103168\n",
      "140724277103168\n",
      "2593416573872\n",
      "2593416573872\n",
      "2593416869104\n",
      "2593416869104\n"
     ]
    }
   ],
   "source": [
    "import copy\n",
    "\n",
    "# 整数：没有发生拷贝\n",
    "data = 789\n",
    "new_data= copy.deepcopy(data)\n",
    "print(id(data))       # 2676439217008\n",
    "print(id(new_data))   # 2676439217008\n",
    "\n",
    "# 浮点数：没有发生拷贝\n",
    "data = 7.89\n",
    "new_data= copy.deepcopy(data)\n",
    "print(id(data))     # 2676417830256\n",
    "print(id(new_data)) # 2676417830256\n",
    "\n",
    "# 布尔型：没有发生拷贝\n",
    "data = True\n",
    "new_data= copy.deepcopy(data)\n",
    "print(id(data))     # 140724277103168\n",
    "print(id(new_data)) # 140724277103168\n",
    "\n",
    "# 复数：没有发生拷贝\n",
    "data = 3+5j\n",
    "new_data= copy.deepcopy(data)\n",
    "print(id(data))       # 2676439209456\n",
    "print(id(new_data))   # 2676439209456\n",
    "\n",
    "# 字符串：没有发生拷贝\n",
    "data = 'hello world'\n",
    "new_data= copy.deepcopy(data)\n",
    "print(id(data))      # 2676445075952\n",
    "print(id(new_data))  # 2676445075952"
   ]
  },
  {
   "cell_type": "code",
   "execution_count": 13,
   "id": "d7945bb0-807d-4d76-81e7-c0f1b8368a26",
   "metadata": {},
   "outputs": [
    {
     "name": "stdout",
     "output_type": "stream",
     "text": [
      "2593416957952\n",
      "2593416957632\n",
      "2593416887840\n",
      "2593416887840\n",
      "2593416794240\n",
      "2593416800192\n",
      "{345: 'hello world'} 2593416747776\n",
      "{345: 'hello world'} 2593416958208\n",
      "{345, 'hello world'} 2593416378880\n",
      "{345, 'hello world'} 2593416376640\n"
     ]
    }
   ],
   "source": [
    "# 列表： 发生了拷贝\n",
    "data = [345, 789]\n",
    "new_data= copy.deepcopy(data)\n",
    "print(id(data))      # 2676445144576\n",
    "print(id(new_data))  # 2676445142848\n",
    "\n",
    "# 元组（里面的元素不可变):没有发生拷贝\n",
    "data = (345, 789, 'hello', False)\n",
    "new_data= copy.deepcopy(data)\n",
    "print(id(data))     # 2676445219472\n",
    "print(id(new_data))  # 2676445219472\n",
    "\n",
    "\n",
    "# 元组（里面的元素有可变的):发生了拷贝\n",
    "data =  (345, 789, [])\n",
    "new_data= copy.deepcopy(data)\n",
    "print(id(data))        # 2676445443840\n",
    "print(id(new_data))    # 2676445164608\n",
    "\n",
    "# 字典：发生了拷贝\n",
    "data={345: 'hello world'}\n",
    "new_data=copy.deepcopy(data)\n",
    "print(data, id(data))   # {345: 'hello world'} 2676445135616\n",
    "print(new_data, id(new_data))   # {345: 'hello world'} 2676445233600\n",
    "\n",
    "# 集合：发生了拷贝\n",
    "data={345, 'hello world'}\n",
    "new_data=copy.deepcopy(data)\n",
    "print(data, id(data))   # {345, 'hello world'} 2676439614848\n",
    "print(new_data, id(new_data))   # {345, 'hello world'} 2676445315360"
   ]
  },
  {
   "cell_type": "markdown",
   "id": "fad227be-25f1-4e13-b3ca-8aeb2681af36",
   "metadata": {},
   "source": [
    "- 深拷贝\n",
    "    - 如果被拷贝的对象（最外层）和里面的元素存在可变的，则发生拷贝\n",
    "    - 如果被拷贝的对象（最外层）和里面的元素都是不可变的，则不发生拷贝\n",
    "    - 被拷贝的对象，里面的元素是否会被拷贝，按上面两点进行判断(递归的判定）\n",
    "    - 深拷贝的两个对象互相不受影响，浅拷贝的两个对象可能互相受到影响\n",
    "\n",
    "<img src='img/copy_5.png' width=500>"
   ]
  },
  {
   "cell_type": "code",
   "execution_count": 14,
   "id": "3611d7fd-9214-4067-a1ea-e5acf4c8dc95",
   "metadata": {},
   "outputs": [
    {
     "name": "stdout",
     "output_type": "stream",
     "text": [
      "2593416779712\n",
      "2593416778432\n",
      "991 : 没有拷贝 2593416566192 2593416566192\n",
      "abc : 没有拷贝 140724277373104 140724277373104\n",
      "(9, 993) : 没有拷贝 2593416827008 2593416827008\n",
      "[994, 995] : 发生拷贝 2593416778880 2593416830336\n",
      "[888, 887] : 发生拷贝 2593416779968 2593416822208\n",
      "{'name': 'tom'} : 发生拷贝 2593416752000 2593416959552\n",
      "(996, [997, 998]) : 发生拷贝 2593416532032 2593416843136\n",
      "(886, (886, 886)) : 没有拷贝 2593416788928 2593416788928\n"
     ]
    }
   ],
   "source": [
    "import copy\n",
    "list1=[991, 'abc', (9, 993), [994, 995], [888, 887], {'name':'tom'}, (996, [997, 998]),(886, (886, 886))]\n",
    "list2=copy.deepcopy(list1)\n",
    "print(id(list1))    # 2676439497088\n",
    "print(id(list2))    # 2676439439872\n",
    "\n",
    "# 判断list1里面的元素是否也进行了复制\n",
    "# 如果元素的id一样，则没有复制，不一样则进行了复制\n",
    "for i in range(len(list1)):\n",
    "    print(list1[i], ':', '没有拷贝' if id(list1[i])==id(list2[i]) else '发生拷贝', id(list1[i]), id(list2[i]))"
   ]
  }
 ],
 "metadata": {
  "kernelspec": {
   "display_name": "Python 3 (ipykernel)",
   "language": "python",
   "name": "python3"
  },
  "language_info": {
   "codemirror_mode": {
    "name": "ipython",
    "version": 3
   },
   "file_extension": ".py",
   "mimetype": "text/x-python",
   "name": "python",
   "nbconvert_exporter": "python",
   "pygments_lexer": "ipython3",
   "version": "3.11.9"
  }
 },
 "nbformat": 4,
 "nbformat_minor": 5
}
