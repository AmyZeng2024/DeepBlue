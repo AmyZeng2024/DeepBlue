{
 "cells": [
  {
   "cell_type": "markdown",
   "id": "d8819fe2",
   "metadata": {},
   "source": [
    "## 1. 什么是编程语言？\n",
    "***\n",
    "用来和计算机交流，控制计算机，让计算机按照我们的要求做事情，这样的语言叫做编程语言。"
   ]
  },
  {
   "cell_type": "markdown",
   "id": "82758de4",
   "metadata": {},
   "source": [
    "## 2. 编程语言的发展历程？\n",
    "***\n",
    "计算机语言经历了3个阶段：机器语言、汇编语言、高级语言\n",
    "\n",
    "- <b>机器语言</b>：用二进制编码表示的机器指令、是CPU能直接识别并执行的唯一一种语言。\n",
    "    - 二进制编码：0和1，逢二进一 （十进制是逢十进一）\n",
    "        - 10：二进制：2\n",
    "        - 10：十进制：10        \n",
    "        <img src='img/binary_1.png' width=200 height=400>\n",
    "               \n",
    "    - CPU：中央处理器，类似人的大脑\n",
    "    - 机器语言是计算机的母语。\n",
    "    - 缺点：\n",
    "        - 计算机的架构不同（不同的设备），会有不同的机器语言指令集，对开发人员要求高：既懂硬件，又懂软件，不利于推广和发展。\n",
    "        - 不能实现通用，对开发人员来说，工作效率会很低。\n",
    "    - 优点：对于机器来说，如果直接写出正确的指令，执行效率是非常高的。\n",
    "- <b>汇编语言</b>：符号语言，用与机器指令含义相近的英文缩写、字母和数值等符号来取代机器指令。\n",
    "    - 对二进制代码做了抽象，把原本晦涩难懂的0101抽象成某一个对应的单词（缩写），进行符号化。\n",
    "    - 程序员容易理解。\n",
    "    - 最终要把符号化的词汇翻译成机器语言。\n",
    "        - 把助记符通过汇编器变成对应的0和1\n",
    "        - 每个助记符和一组01组合是一一对应的。\n",
    "    - 不能实现通用：不同的计算机架构会有不同的指令集，这意味着将有不同的汇编集。\n",
    "- <b>高级语言</b>：机器语言和汇编语言都是面向机器（硬件）的语言，占用内存空间少，运行速度快，但用起来繁琐费时，通用性差；而高级语言是面向用户的语言，更接近人类的自然有语言，且无论何种机型的计算机，只要配备上相应的高级语言的编译或者解释程序，就可以实现通用。\n",
    "    - 高级语言进一步进行了抽象：直接用接近于人类的自然语言，像写英文句子一样，更高度的符号化。\n",
    "    - 解决了通用性的问题：高级语言编写的程序，所有机器都可以执行。\n",
    "        - 怎样实现通用：\n",
    "            - 编译：一个文件x.cpp（源代码文件），通过翻译软件，对不同的设备架构进行翻译，翻译成不同的目标程序文件（二进制文件或者机器指令），然后在不同的设备上直接执行，这样的翻译形式我们佳作“编译”，翻译软件叫做“编译器”。\n",
    "            - 解释：源代码文件：x.py，通过解释器，逐句输入，逐句翻译，然后在机器上直接执行。\n",
    "            - 编译与解释的区别：\n",
    "                - 有没有目标文件的产生（请补充）。\n",
    "                - 如果设备相同，编译的目标文件可以直接拿到另一台设备上用。\n",
    "                - 如果设备不一样，需要源码文件拿到新设备上重新编译。\n",
    "                - 解释文件需要把源码文件给对方。\n",
    "            \n",
    "        <img src='img\\compiler_1.png' width=500 height=300 align=left>\n",
    "        "
   ]
  },
  {
   "cell_type": "markdown",
   "id": "96847b5c",
   "metadata": {},
   "source": [
    "## 3. 编译型语言 & 解释型语言？\n",
    "***\n",
    "用任何编程语言来开发程序，都是为了让计算机干活，而计算机干活的CPU只认识机器指令，所以，尽管不同的编程语言差异极大，最后都得“翻译”成CPU可以执行的机器指令，这种“翻译”通常有两种方式，即编译方式和解释方式。\n",
    "\n",
    "- <b>编译方式</b>：源代码文件经过编译器翻译成目标程序文件（机器语言表示），然后计算机在执行该目标程序。\n",
    "- <b>解释方式</b>：源代码问价经过解释器主句输入主句翻译，且计算机一句一句执行，并不产生目标程序文件。\n"
   ]
  },
  {
   "cell_type": "markdown",
   "id": "59dbe95e",
   "metadata": {},
   "source": [
    "## 4. 低级语言与高级语言的区别？\n",
    "***\n",
    "- 机器语言和汇编语言是低级语言。\n",
    "- C++, Java，Python等都属于高级语言。\n",
    "    - c++, java：编译语言\n",
    "    - python：解释语言\n",
    "- 低级语言\n",
    "    - 对于硬件来讲，执行效率非常高，运行的快。（没有编译的环节）\n",
    "    - 对开发人员来说难度高。\n",
    "    - 不能实现通用，不好迁移。\n",
    "- 高级语言\n",
    "    - 执行效率比不上低级语言\n",
    "    - 对开发人员友好，容易推广\n",
    "    - 可以实现通用\n",
    "    \n",
    "## 5. 另一种分类？\n",
    "***\n",
    "- 低级语言：机器语言和汇编语言\n",
    "- 中级语言：C和C++\n",
    "- 高级语言：Python, Java\n",
    "- 越高级的语言越好学，越简单\n",
    "- 越低级的语言，越靠近计算机底层，越接近硬件，考虑底层的问题越多\n",
    "- 学习Python时，不需要考虑底层问题，封装的很厉害，高级抽象，看不到底层的东西\n",
    "- 学习C++时，需要考虑一些底层的问题了：内存怎么分配等。\n",
    "- 工作之余可以进一步考虑学习计算机组成原理和操作系统，现在不需要。\n",
    "- 做工程不需要考虑，只需要完成工程的交付。\n",
    "- 做研究可以深入学习，做科学家。"
   ]
  },
  {
   "cell_type": "markdown",
   "id": "a8bff9ba",
   "metadata": {},
   "source": [
    "## 6. Python是什么样的语言？\n",
    "***\n",
    "Python是著名的龟叔Guido van Rossum(吉多.范罗苏姆，出生成长于荷兰，先美国国籍）在1989年圣诞节期间，为了打发无聊的圣诞节而编写的一个编程语言。\n",
    "\n",
    "现在全世界差不多有600多种编程语言，但流行的编程语言也就那么20来种，TIOBE排行耪（每月更新一次）很好的反应了各个编程语言的人们程度。\n",
    "\n",
    "TIOBE排行榜：https://www.tiobe.com/tiobe-index/\n",
    "<img src='img/tiobe.png' width=600 height=800>\n",
    "\n",
    "                    "
   ]
  },
  {
   "cell_type": "markdown",
   "id": "b307cb63",
   "metadata": {},
   "source": [
    "<img src='img/tiobe_2.png' width=600 height=800>\n",
    "\n",
    "Python 于2018年走势开始快速上升：\n",
    "- 2016年随着大数据的发展，算力的提升\n",
    "- 2017年人工智能，尤其是深度学习有了非常的进步\n",
    "- 之前深度学习是机器学习的一个小的分支，现在机器学习单独分了出来\n",
    "- 2018作为深度学习的首选语言，有了很大的流行"
   ]
  },
  {
   "cell_type": "markdown",
   "id": "3a2ef05b",
   "metadata": {},
   "source": [
    "<img src='img/tiobe_3.png' width=600 height=800>\n",
    "\n",
    "C++ 于2018年之后开始上升：\n",
    "- 2018年之前处于低迷状态\n",
    "- 2018年后，有了一个小高峰\n",
    "- 2020年之后，一直向上走，甚至现在超过了java\n",
    "- C++流行的原因，一部分归功于2020年AI大批量开始落地\n",
    "    - AI 2017年开始发展\n",
    "    - 2018、19年很少落地\n",
    "    - 2020年慢慢开始真正落地，涉及到软硬件的问题和效率问题，就需要用C++。\n",
    "    "
   ]
  },
  {
   "cell_type": "markdown",
   "id": "77c4524a-b3dc-418c-b1f2-2be4ec115920",
   "metadata": {},
   "source": [
    "## 7. Python 环境的搭建\n",
    "***\n",
    "- <b>Python安装</b>\n",
    "    - 官方宣布，2020年1月1日，停止Python 2的更新，Python 2.7被确定为最后一个Python 2.x版本。Python 3和 Python 2还是有差别的，所以现在学习Python,通常选择Python 3.x。大家可以根据情况选择不同的Python 3.x版本的安装。\n",
    "    - python 安装地址：https://www.python.org\n",
    "    - 建议直接安装anaconda，它是一个开源的Python 发行版本，其包含了conda,Python等180多个科学包及其依赖项，这样会比单独安装Python，再去安装一堆的工具包更省事。\n",
    "        - 自带Python环境\n",
    "        - 常用的第三方的库（numpy,pandas等）\n",
    "        - 方便对多个环境进行管理\n",
    "    - anaconda 官方下载地址：https://www.anaconda.com/blog/individual\n",
    "        - 不建议安装最新版本\n",
    "        - 安装最新版本后几个靠前的版本，经过验证的版本\n",
    "            - 安装2021.05的版本，大概前四五个版本（课程时间：20231113）\n",
    "            - 苹果电脑安装\n",
    "                - 资深用户通过命令行：Anaconda3-2021.05-MacOSX-x86_64.sh\n",
    "                - 不懂命令行，用有图形化界面的安装包：Anaconda3-2021.05-MacOSX-x86_64.pkg\n",
    "            - Windows系统：Anaconda3-2021.05-Windows-x86_64.exe\n",
    "        - 新版本可能有兼容等问题\n",
    "        - 工程师的特点：稳，一定要使用最稳定的版本\n",
    "        - 也不建议安装太老旧的版本\n",
    "        - 右键点击exe文件，选择Run as Administrator\n",
    "        - 安装时，不要使用默认路径\n",
    "            - 安装在C盘外的另一个磁盘D:上，建立MySoftwares文件夹，安装到D:\\MySoftwares\\Anaconda3下。\n",
    "            - 如果没有另外磁盘，在C:下建立文件夹C:\\Anaconda3，用此路径进行安装\n",
    "            - 新建文件夹：不要用空格等特殊字符，可以用下划线，不要用数字开头\n",
    "         - 勾选Add Anaconda3 to the system PATH environment variable.\n",
    "            - 进行安装"
   ]
  },
  {
   "cell_type": "markdown",
   "id": "cc62d47e",
   "metadata": {},
   "source": [
    "\n",
    "- <b>IDE安装</b>\n",
    "***\n",
    "- 安装好Python之后就可以在命令行写程序了，但是会发现用命令行写代码不是很方便，所以就可以使用IDE(继承开发环境)来写代码，因为IDE继承了代码编写功能、分析功能、编译功能、测试功能等一体化的开发软件服务，可以大大提升我们的工作效率\n",
    "  \n",
    "  例一：命令行执行python语句：\n",
    "<img src='img/commandline.png' width=500 height=300>\n",
    "\n",
    "- 主流的Python IDE有：Vim、VSCode、PyCharm、Jupyter等等\n",
    "- 完全可以根据个人的习惯选择不同的IDE。\n",
    "- PyCharm官方下载地址：https://www.jetbrains.com/pycharm/download/?section=windows\n",
    "    - 安装免费的PyCharm Community Edition。\n",
    "        - 苹果电脑：根据芯片不同安装不同的后缀软件\n",
    "            - intel芯片：.dmg(Intel)\n",
    "            - 苹果芯片：.dmg(Apple Silicon)\n",
    "    - windows操作系统：直接点download"
   ]
  },
  {
   "cell_type": "markdown",
   "id": "106cda7d-074b-48a9-bd80-109e0da7e877",
   "metadata": {},
   "source": [
    "## 8. 进制转换\n",
    "***\n",
    "参考：\n",
    "\n",
    "https://blog.csdn.net/qq_39719507/article/details/89001030\n",
    "\n",
    "https://www.cnblogs.com/ysocean/p/7513061.html\n",
    "- <b>进位计数制的要素</b>\n",
    "\n",
    "　　　　①、数码：用来表示进制数的元素。比如二进制数的数码为：0,1。十进制数的数码为：0,1,2,3,4,5,6,7,8,9。十六进制数的数码为：0,1,2,3,4,5,6,7,8,9，A,B,C,D,E,F\n",
    "\n",
    "　　　　②、基数：数码的个数。比如二进制数的基数为2。十进制数的基数为10。十六进制数的基数为 16.\n",
    "\n",
    "　　　　③、位权：数制中每一固定位置对应的单位值称为位权。例如十进制第2位的位权为10，第3位的位权为100；而二进制第2位的位权为2，第3位的位权为4，对于 N进制数，整数部分第 i位的位权为N^(i-1)，而小数部分第j位的位权为N^-j。\n",
    "\n",
    "　　那么我们可以说：每个数码所表示的数值=该数码值 * 所处位置的位权。上面的内容概括起来可以看一下下面这张图：\n",
    "  \n",
    "<img src='img/number_systems_11.png' width=400 height=300>"
   ]
  },
  {
   "cell_type": "markdown",
   "id": "f2959be2-2eae-4dad-919b-f4dfcde83811",
   "metadata": {},
   "source": [
    "- <b>将其它进制转换为十进制</b>\n",
    "    - 按权展开成多项式和的形式，和数就是对应的十进制\n",
    "\n",
    "<img src='img/number_systems_10.png' width=400 height=300>\n",
    "\n"
   ]
  },
  {
   "cell_type": "markdown",
   "id": "47917cda",
   "metadata": {
    "jp-MarkdownHeadingCollapsed": true
   },
   "source": [
    "- <b>将十进制转为其它进制</b>\n",
    "    - 除整后，取余数的倒序\n",
    "\n",
    "<font color=blue>十进制到二进制</font>\n",
    "\n",
    "<img src='img/number_systems_12.png' width=400 height=500>\n",
    "\n",
    "<font color=blue>十进制到八进制</font>\n",
    "\n",
    "<img src='img/number_systems_16.png' width=400 height=500><img \n",
    "\n",
    "<font color=blue>十进制到十六进制</font>\n",
    "\n",
    "<img src='img/number_systems_13.png' width=400 height=500><img \n",
    "\n",
    "例子：将十进制150转换为其他进制\n",
    "\n",
    "十进制：150\n",
    "\n",
    "二进制：10010110\n",
    "\n",
    "八进制：226\n",
    "\n",
    "十六进制：96\n",
    "\n",
    "<img src='img/number_systems_9.jpg' width=400 height=500><img src='img/number_systems_5.jpg' width=400 height=500>\n",
    "\n",
    "例子：将十进制125转换为16进制\n",
    "\n",
    "十进制：125\n",
    "\n",
    "十六进制：7D\n",
    "\n",
    "<img src='img/number_systems_2.jpg' width=300 height=500>"
   ]
  },
  {
   "cell_type": "markdown",
   "id": "28f69f86-fd6d-4889-85f6-c4047ed2f066",
   "metadata": {},
   "source": [
    "- <b>将二进制转换为八进制</b>\n",
    "    - $2^3$=8，二进制的三位，等价于八进制的三位\n",
    "    - 二进制三位一组，每一组为一个八进制的数值，最后一组不足八位时在前面补零\n",
    "      \n",
    "<img src='img/number_systems_14.png' width=200 height=300>\n",
    "\n",
    "<img src='img/number_systems_15.png' width=400 height=300>\n",
    "\n",
    "例子：\n",
    "\n",
    "十进制：150\n",
    "\n",
    "二进制：10010110\n",
    "\n",
    "八进制：226\n",
    "      \n",
    "<img src='img/number_systems_2_to_8.jpg' width=400 height=300>\n",
    "\n",
    "- <b>将八进制转换为二进制</b>\n",
    "    - 八进制的每一位数，转换为二进制的三位\n",
    "\n",
    "<img src='img/number_systems_8_to_2.png' width=300 height=300>\n",
    "\n",
    "例子：\n",
    "\n",
    "十进制：150\n",
    "\n",
    "八进制：226\n",
    "\n",
    "二进制：10010110\n",
    "      \n",
    "<img src='img/number_systems_8_to_2.jpg' width=400 height=300>\n"
   ]
  },
  {
   "cell_type": "markdown",
   "id": "d543b38d-4b7a-458b-aa7e-540f5d2d8bf2",
   "metadata": {},
   "source": [
    "- <b>将二进制转换为十六进制</b>\n",
    "    - $2^4$=16，二进制的四位，等价于16进制的一位\n",
    "\n",
    "例子：\n",
    "\n",
    "十进制：150\n",
    "\n",
    "二进制：10010110\n",
    "\n",
    "十六进制：12C\n",
    "      \n",
    "<img src='img/number_systems_2_to_16.jpg' width=400 height=300>\n",
    "\n",
    "- <b>将十六进制转换为二进制</b>\n",
    "\n",
    "例子1：\n",
    "\n",
    "<img src='img/number_systems_16_to_2_2.png' width=400 height=300>\n",
    "\n",
    "例子2：\n",
    "\n",
    "十进制：150\n",
    "\n",
    "十六进制：12C\n",
    "\n",
    "二进制：10010110      \n",
    "      \n",
    "<img src='img/number_systems_16_to_2.jpg' width=400 height=300>"
   ]
  },
  {
   "cell_type": "markdown",
   "id": "e23159a3-35c9-465e-bc3c-67022fb0633b",
   "metadata": {},
   "source": [
    "- <b>将八进制转换为十六进制</b>\n",
    "\n",
    "例子：\n",
    "\n",
    "八进制：327\n",
    "\n",
    "十六进制：D7      \n",
    "      \n",
    "<img src='img/number_systems_8_to_16.jpg' width=200 height=300>\n",
    "\n",
    "- <b>将十六进制转换为八进制</b>\n",
    "\n",
    "例子1： \n",
    "\n",
    "<img src='img/number_systems_16_to_2_to_8.png' width=300 height=300>\n",
    "\n",
    "例子2：\n",
    "\n",
    "十六进制：D7\n",
    "\n",
    "八进制：327      \n",
    "      \n",
    "<img src='img/number_systems_16_to_8.jpg' width=200 height=300>"
   ]
  },
  {
   "cell_type": "markdown",
   "id": "d13a814f-92f1-4373-babc-6d2774ef09cf",
   "metadata": {},
   "source": [
    "## 9. PyCharm基本操作\n",
    "***\n",
    "- <b>新增项目</b>\n",
    "    - 点击Add new project\n",
    "    - Name：PythonFile ，项目名称，实际为一个文件夹\n",
    "    - Location：可以建立一个文件夹，比如：C:/projects/\n",
    "    - 指定解释器：Custom environment->选中Select existing->选择Python path: C:/MyApps/anaconda3/envs/ml/python.exe\n",
    "\n",
    "<img src='img/pycharm_create_new_project.png' width=500 height=300>"
   ]
  },
  {
   "cell_type": "markdown",
   "id": "d63e5a3b-3773-4a98-8490-e409eebec989",
   "metadata": {},
   "source": [
    "- <b>插件</b>\n",
    "    - 安装插件\n",
    "        - 点击左上角图标  <img src='img/plugins.png' width=15> 进入主菜单\n",
    "        - 点设置 Settings--> Plugins --> 选Marketplace面板--》左上部搜索框进行搜索插件\n",
    "        - 对插件的任何更改（安装、更新、禁用、卸载），都需要重启PyCharm后才会生效-->安装完点Restart IDE\n",
    "    - 禁用插件\n",
    "        - 主菜单-->Settings-->Plugins-->Installed面板-->选在要禁用的插件，点右部的禁用\n",
    "    - 卸载插件\n",
    "        - 主菜单-->Settings-->Plugins-->Installed面板-->选在要禁用的插件，在右部的禁用的下拉菜单选uninstall"
   ]
  },
  {
   "cell_type": "markdown",
   "id": "518b5bd5-c0bd-45d8-8cfe-e0f3a487475e",
   "metadata": {},
   "source": [
    "- <b>恢复界面(layout)</b>\n",
    "    - 主菜单-->windows-->Restore Current Layout"
   ]
  },
  {
   "cell_type": "markdown",
   "id": "5ddf8c65-46aa-4927-85dd-bd8373ec551d",
   "metadata": {},
   "source": [
    "- <b>新建python文件</b>\n",
    "    - 点项目名，右键-->New-->Python File-->输入文件名py01\n",
    "    - 或者在本地创建-->打开项目的文件夹-->创建一个python file: py02.py\n",
    "      \n",
    "<img src='img/python_file_layout.png' width=500 height=300>\n",
    "\n",
    "- <b>拆分程序的窗口</b>：\n",
    "    - 左键拖动python 文件的名字，可以把python文件拖动到不同位置，比如拖动成上下对齐的。\n",
    "    - 右键点python 文件名py03.py-->split right-->可以观赏左边的py03.py\n",
    "    - 右键点python 文件名py03.py-->split down\n",
    "    \n",
    "<img src='img/pycharm_file_split.png' width=500 height=300>\n",
    "      "
   ]
  },
  {
   "cell_type": "markdown",
   "id": "529efe6c-bbac-43fe-99d2-cc4486a48f08",
   "metadata": {},
   "source": [
    "- <b>建立新的子文件夹</b>\n",
    "    - 右键项目名->New->Folder\n",
    "    - 或者在本地的项目文件夹下直接创建子文件夹"
   ]
  },
  {
   "cell_type": "markdown",
   "id": "06f8d5c5-bd79-4922-99e5-358c72fef931",
   "metadata": {},
   "source": [
    "- <b>调整程序的字体大小</b>\n",
    "    - 主菜单-->设置 Settings--> Editor -->展开下拉菜单-->Font-->调整字体的大小、样式和行间距"
   ]
  },
  {
   "cell_type": "code",
   "execution_count": 1,
   "id": "fbafab1a-d295-4dde-b482-6d6693254368",
   "metadata": {},
   "outputs": [
    {
     "data": {
      "text/plain": [
       "2.99853515625"
      ]
     },
     "execution_count": 1,
     "metadata": {},
     "output_type": "execute_result"
    }
   ],
   "source": [
    "# py02.py\n",
    "# 幂运算优先级高于其他计算\n",
    "1+2-0.5*3/4**5"
   ]
  },
  {
   "cell_type": "markdown",
   "id": "b4934091-c433-4234-93d5-127448c3104c",
   "metadata": {},
   "source": [
    "- <b>Python的注释</b>\n",
    "    - 解释器不会去执行，给人看的，不是给机器看的\n",
    "    - 种类：\n",
    "        - 单行注释：井号加空格\n",
    "        - 多行注释：三个引号（单双引号都可以）"
   ]
  },
  {
   "cell_type": "code",
   "execution_count": 2,
   "id": "754c06dc-9d5a-4bb4-ad5b-98d399e887f2",
   "metadata": {},
   "outputs": [
    {
     "data": {
      "text/plain": [
       "'\\nctrl + c ：复制\\nctrl + v ：粘贴\\nctrl + x : 剪切\\nctrl + a : 全选\\nctrl + d : 相当于ctrl+c和ctrl+v，将选中的内容直接复制\\nalt + 移动光标 ：可以得到多光标，在多光标处同时输入或操作\\n'"
      ]
     },
     "execution_count": 2,
     "metadata": {},
     "output_type": "execute_result"
    }
   ],
   "source": [
    "# 这是单行注释\n",
    "'''\n",
    "这是多行注释\n",
    "只要引号里的内容，会被解释器忽视\n",
    "'''\n",
    "\n",
    "\"\"\"\n",
    "ctrl + c ：复制\n",
    "ctrl + v ：粘贴\n",
    "ctrl + x : 剪切\n",
    "ctrl + a : 全选\n",
    "ctrl + d : 相当于ctrl+c和ctrl+v，将选中的内容直接复制\n",
    "alt + 移动光标 ：可以得到多光标，在多光标处同时输入或操作\n",
    "\"\"\""
   ]
  },
  {
   "cell_type": "markdown",
   "id": "1a28acbc-5cd1-49d0-a2bd-49fe1a11ad90",
   "metadata": {},
   "source": [
    "- <b>快捷键</b>\n",
    "    - ctrl + c ：复制\n",
    "    - ctrl + v ：粘贴\n",
    "    - ctrl + x : 剪切\n",
    "    - ctrl + a : 全选\n",
    "    - ctrl + d : 相当于ctrl+c和ctrl+v，将选中的内容直接复制\n",
    "    - alt + 移动光标 ：多光标，在多光标处同时输入或操作\n",
    "    - ctrl + f : 查找\n",
    "    - ctrl + r ：替换\n",
    "    - ctrl + z : 撤销\n",
    "    - ctrl + y : 重做（恢复）\n",
    "    - ctrl + shift + 上下光标键（↑↓） ：上下移动当前行\n",
    "    - shift + enter : 在下面新建一行\n",
    "    - ctrl + alt + enter ：在上方新建一行 (改为了alt + enter)\n",
    "    - Home : 移动光标当行头\n",
    "    - End : 移动光标到行尾\n",
    "    - ctrl + shift + F10 ： 执行当前python文件(改为了ctrl + enter)\n",
    "    - ctrl + / ：注释当前行或者选中的多行\n",
    "\n",
    "按alt可以得到多光标：\n",
    "\n",
    "<img src='img/multiple_cursors.png'>"
   ]
  },
  {
   "cell_type": "markdown",
   "id": "080d5631-d89f-4de0-9516-0adc59fff540",
   "metadata": {},
   "source": [
    "- <b>设置快捷键</b>\n",
    "    - 主菜单-->setting-->keymap-->查找：start new line\n",
    "    - 右键选：start new line before current-->Remove Ctrl+Alt+Enter\n",
    "    - 右键选：start new line before current-->Add Keyboard Shortcut-->直接按快捷键\n",
    "    - 如果已经将这个快捷键用在其他action上，可以在弹出框中选择移除\n",
    "    - OK\n",
    "- <b>自己设置的快捷键</b>\n",
    "    - ctrl + enter : 执行当前文件\n",
    "    - alt + enter : 在上方新建一行\n",
    "    - ctrl + ↑ ：加大字体\n",
    "    - ctrl + ↓ : 减小字体"
   ]
  },
  {
   "cell_type": "markdown",
   "id": "4c2f9820-8899-497c-b762-48a33437c160",
   "metadata": {},
   "source": [
    "- <b>同时打开多个项目</b>\n",
    "    - 打开第一个Project:PythonFile\n",
    "    - 主菜单-->Open-->选择第二个Project（目录）：PythonFile2-->New-->只打开最新的项目，旧的将关闭\n",
    "    - 主菜单-->Open-->选择第二个Project（目录）：PythonFile2-->New Window-->两个项目在两个窗口打开\n",
    "    - 主菜单-->Open-->选择第二个Project（目录）：PythonFile2-->Attach-->两个项目将叠加的打开\n",
    "\n",
    "<img src='img/pycharm_open_projects.png' width=200 height=300>\n",
    "\n",
    "- <b>从项目列表中移出一个项目</b>\n",
    "    - 右键选中项目名-->Remove From Project View"
   ]
  },
  {
   "cell_type": "markdown",
   "id": "b0960f31-1f72-4f2e-9f2a-e64c4ac9e83e",
   "metadata": {},
   "source": [
    "## 10. Python 之禅\n",
    "***\n",
    "这是Python的一个小彩蛋，执行import this,会输出一段文字，这段文字可以解释为Python中的【八荣八耻】，Python之禅列出了Python设计的原则与哲学，有助于理解与使用这种语言，作者是Time Peters。"
   ]
  },
  {
   "cell_type": "code",
   "execution_count": 3,
   "id": "a10e2db9-ac5f-4596-9d99-d32117f08c84",
   "metadata": {},
   "outputs": [
    {
     "name": "stdout",
     "output_type": "stream",
     "text": [
      "The Zen of Python, by Tim Peters\n",
      "\n",
      "Beautiful is better than ugly.\n",
      "Explicit is better than implicit.\n",
      "Simple is better than complex.\n",
      "Complex is better than complicated.\n",
      "Flat is better than nested.\n",
      "Sparse is better than dense.\n",
      "Readability counts.\n",
      "Special cases aren't special enough to break the rules.\n",
      "Although practicality beats purity.\n",
      "Errors should never pass silently.\n",
      "Unless explicitly silenced.\n",
      "In the face of ambiguity, refuse the temptation to guess.\n",
      "There should be one-- and preferably only one --obvious way to do it.\n",
      "Although that way may not be obvious at first unless you're Dutch.\n",
      "Now is better than never.\n",
      "Although never is often better than *right* now.\n",
      "If the implementation is hard to explain, it's a bad idea.\n",
      "If the implementation is easy to explain, it may be a good idea.\n",
      "Namespaces are one honking great idea -- let's do more of those!\n"
     ]
    }
   ],
   "source": [
    "import this"
   ]
  },
  {
   "cell_type": "markdown",
   "id": "ad4d375a-1d42-41b3-8ba3-20caf0d9bb90",
   "metadata": {},
   "source": [
    "Python之禅 by Tim Peters\n",
    " \n",
    "优美胜于丑陋（Python 以编写优美的代码为目标）\n",
    "明了胜于晦涩（优美的代码应当是明了的，命名规范，风格相似）\n",
    "简洁胜于复杂（优美的代码应当是简洁的，不要有复杂的内部实现）\n",
    "复杂胜于凌乱（如果复杂不可避免，那代码间也不能有难懂的关系，要保持接口简洁）\n",
    "扁平胜于嵌套（优美的代码应当是扁平的，不能有太多的嵌套）\n",
    "间隔胜于紧凑（优美的代码有适当的间隔，不要奢望一行代码解决问题）\n",
    "可读性很重要（优美的代码是可读的）\n",
    "即便假借特例的实用性之名，也不可违背这些规则（这些规则至高无上）\n",
    " \n",
    "不要包容所有错误，除非你确定需要这样做（精准地捕获异常，不写 except:pass 风格的代码）\n",
    " \n",
    "当存在多种可能，不要尝试去猜测\n",
    "而是尽量找一种，最好是唯一一种明显的解决方案（如果不确定，就用穷举法）\n",
    "虽然这并不容易，因为你不是 Python 之父（这里的 Dutch 是指 Guido ）\n",
    " \n",
    "做也许好过不做，但不假思索就动手还不如不做（动手之前要细思量）\n",
    " \n",
    "如果你无法向人描述你的方案，那肯定不是一个好方案；反之亦然（方案测评标准）\n",
    " \n",
    "命名空间是一种绝妙的理念，我们应当多加利用（倡导与号召）"
   ]
  },
  {
   "cell_type": "markdown",
   "id": "df53f1fd-7f20-4691-aeee-53d693f970ff",
   "metadata": {},
   "source": [
    "- <b>关键字</b>\n",
    "    - 官方定义好的特定的单词或者缩写\n",
    "    - 关键字要么本身具有特殊的含义，要么可以参与特定的一些语法\n",
    "    - import是关键字，可以导入模块、包或者库"
   ]
  },
  {
   "cell_type": "markdown",
   "id": "0cc9fbcb-01f3-459c-9459-06cf871ff14a",
   "metadata": {},
   "source": [
    "- <b>import的目的</b>\n",
    "    - <b>模块</b>\n",
    "        - Python文件\n",
    "        - 模块名是没有扩展名的python文件名\n",
    "        - py02.py=模块名(py02) + 扩展名（.py)\n",
    "        - import py02\n",
    "    \n",
    "    - <b>包</b>\n",
    "        - 文件夹\n",
    "    \n",
    "    - <b>库</b>\n",
    "        - 库就是包\n",
    "        - 是功能相对集中的包\n",
    "        - 可以有子包，子文件夹\n",
    "        - 车库、金库、水库\n",
    "    - 导入某个模块/包，是为了使用其中定义的某些成员。\n",
    "        - import this -->导入文件 this.py\n",
    "        - import numpy/matplotlib/pandas --> 导入库（包）\n",
    "            - numpy：高纬度计算，矢量计算\n",
    "            - pandas: 将数据转化为结构特殊的数据，用于数据分析\n",
    "            - matplotlib；可视化\n",
    "        - 在pycharm里，按ctrl，点this，将进入this文件（文件夹）\n",
    "        - 光标在文件（模块）名时，会显示该模块的物理位置。\n",
    "        - 当某个模块被导入时，将首先执行该模块，this.py里有print命令，所以import this时，文字被打印在终端。\n",
    "\n",
    "<img src='img\\pycharm_this.png'>\n",
    "\n",
    "- <b>多行注释和多行字符串区别</b>\n",
    "    - 三个引号中的内容是否赋值，\n",
    "    - 赋值到变量，则是多行字符串\n",
    "    - 没有赋值到变量，则是多行注释。"
   ]
  },
  {
   "cell_type": "code",
   "execution_count": 4,
   "id": "42bd73b4-8698-4e66-b2f4-caeb93650a2e",
   "metadata": {},
   "outputs": [
    {
     "name": "stdout",
     "output_type": "stream",
     "text": [
      "{'A': 'N', 'B': 'O', 'C': 'P', 'D': 'Q', 'E': 'R', 'F': 'S', 'G': 'T', 'H': 'U', 'I': 'V', 'J': 'W', 'K': 'X', 'L': 'Y', 'M': 'Z', 'N': 'A', 'O': 'B', 'P': 'C', 'Q': 'D', 'R': 'E', 'S': 'F', 'T': 'G', 'U': 'H', 'V': 'I', 'W': 'J', 'X': 'K', 'Y': 'L', 'Z': 'M', 'a': 'n', 'b': 'o', 'c': 'p', 'd': 'q', 'e': 'r', 'f': 's', 'g': 't', 'h': 'u', 'i': 'v', 'j': 'w', 'k': 'x', 'l': 'y', 'm': 'z', 'n': 'a', 'o': 'b', 'p': 'c', 'q': 'd', 'r': 'e', 's': 'f', 't': 'g', 'u': 'h', 'v': 'i', 'w': 'j', 'x': 'k', 'y': 'l', 'z': 'm'}\n",
      "\n",
      "Gur Mra bs Clguba, ol Gvz Crgref\n",
      "\n",
      "Ornhgvshy vf orggre guna htyl.\n",
      "Rkcyvpvg vf orggre guna vzcyvpvg.\n",
      "Fvzcyr vf orggre guna pbzcyrk.\n",
      "Pbzcyrk vf orggre guna pbzcyvpngrq.\n",
      "Syng vf orggre guna arfgrq.\n",
      "Fcnefr vf orggre guna qrafr.\n",
      "Ernqnovyvgl pbhagf.\n",
      "Fcrpvny pnfrf nera'g fcrpvny rabhtu gb oernx gur ehyrf.\n",
      "Nygubhtu cenpgvpnyvgl orngf chevgl.\n",
      "Reebef fubhyq arire cnff fvyragyl.\n",
      "Hayrff rkcyvpvgyl fvyraprq.\n",
      "Va gur snpr bs nzovthvgl, ershfr gur grzcgngvba gb thrff.\n",
      "Gurer fubhyq or bar-- naq cersrenoyl bayl bar --boivbhf jnl gb qb vg.\n",
      "Nygubhtu gung jnl znl abg or boivbhf ng svefg hayrff lbh'er Qhgpu.\n",
      "Abj vf orggre guna arire.\n",
      "Nygubhtu arire vf bsgra orggre guna *evtug* abj.\n",
      "Vs gur vzcyrzragngvba vf uneq gb rkcynva, vg'f n onq vqrn.\n",
      "Vs gur vzcyrzragngvba vf rnfl gb rkcynva, vg znl or n tbbq vqrn.\n",
      "Anzrfcnprf ner bar ubaxvat terng vqrn -- yrg'f qb zber bs gubfr!\n"
     ]
    }
   ],
   "source": [
    "# 使用 this 中的成员\n",
    "# 因为this.py已经执行过了,所以可以使用其中的成员\n",
    "print(this.d)\n",
    "print()\n",
    "print(this.s)"
   ]
  },
  {
   "cell_type": "markdown",
   "id": "9650b291-33c2-4800-b64d-0fd1b587dddd",
   "metadata": {},
   "source": [
    "- <b>this模块解释</b>\n",
    "    - 将一段文字（s）通过字典（d）翻译成英文\n",
    "\n",
    "<img src='img\\zen_of_python_1.png'>"
   ]
  },
  {
   "cell_type": "markdown",
   "id": "da794f56-eeba-498e-9036-bd358f31b6b5",
   "metadata": {},
   "source": [
    "## 11. 函数简介\n",
    "***\n",
    "- <b>数学函数</b>：\n",
    "\n",
    "定义f(x,y,z)=2x+3y-4+z\n",
    "\n",
    "求f(3,2,1)=???  \n",
    "2 * 3 + 3 * 2 - 4 + 1 = 15\n",
    "\n",
    "求f(1,2,3)=???  \n",
    "2 * 1 + 3 * 2 - 4 + 3 = 9\n",
    "\n"
   ]
  },
  {
   "cell_type": "markdown",
   "id": "cc418a4e-d617-4f37-bfb8-12ef3385a8af",
   "metadata": {},
   "source": [
    "- <b>函数的要素</b>：\n",
    "    - def：关键字\n",
    "    - 形参：arg1, arg2,...\n",
    "    - 冒号：开始函数的内容\n",
    "    - 缩进：\n",
    "        - 行开头处的空白，通常一次缩进4个空格，或者用Tab键\n",
    "        - 用来表示程序的层级关系"
   ]
  },
  {
   "cell_type": "markdown",
   "id": "8d44cb8f-ad71-4cd7-89b3-dfbdca38c371",
   "metadata": {},
   "source": [
    "- <b>自定义函数的格式</b>：\n",
    "\n",
    "    def func_name([arg1, arg2, ...]):    \n",
    "    \n",
    "        \"\"\"\n",
    "        []：表示里面的内容是可选的，optional\n",
    "        \"\"\"        \n",
    "        func_body\n",
    "\n",
    "- <b>调用函数的格式</b>：\n",
    "\n",
    "  func_name([实参1，实参2，...])\n",
    "\n",
    "\n",
    "    - 函数没有调用时，不会执行函数体，函数被调用时，会执行函数体\n",
    "    - 实参传递方式\n",
    "        - 位置参数：按照从左往右的顺序分别传给对应的形参，f(3, 2, 1)\n",
    "        - 关键字参数：根据参数名字传给对应的形参\n",
    "            - f(x=3,y=2,z=1)与f(y=2, x=3, z=1)是一样的\n",
    "            - 函数的结果与参数传递的位置无关\n",
    "        - 如果位置参数和关键字参数同时存在，则关键词参数必须放在位置参数的后方。\n",
    "            - f(1,z=3,y=2)，默认1为参数x的值\n",
    "            - 错误传递方式：f(1,x=3,y=2)，1默认为x的值，x两次赋值\n",
    "            - 错误传递方式：f(x=1, 2, 3)，位置参数应放在前面。\n",
    "    "
   ]
  },
  {
   "cell_type": "markdown",
   "id": "ba39c442-8cf7-4b9a-9305-505e6c45e410",
   "metadata": {},
   "source": [
    "- <b>数学函数与Python自定义函数，两者可以一一对应项</b>：\n",
    "\n",
    "<img src='img\\func_1.png'>"
   ]
  },
  {
   "cell_type": "markdown",
   "id": "971787e0-dd15-4a9b-a1de-cd2017ae2539",
   "metadata": {},
   "source": [
    "- <b>自定义函数例子</b>"
   ]
  },
  {
   "cell_type": "code",
   "execution_count": 5,
   "id": "13ed1cc8-f753-4468-a49a-fb047214d9e6",
   "metadata": {},
   "outputs": [
    {
     "name": "stdout",
     "output_type": "stream",
     "text": [
      "2.0\n",
      "2.0\n",
      "1.3333333333333333\n"
     ]
    }
   ],
   "source": [
    "#  定义一个函数实现简单打印除法结果\n",
    "print(4/2) # Python 的除法，无论是否整除，都返回小数。\n",
    "def f(x,y):\n",
    "    print(x/y)\n",
    "\n",
    "f(4,2)\n",
    "f(4,3)"
   ]
  },
  {
   "cell_type": "code",
   "execution_count": 6,
   "id": "5ed5b306-94c3-4df6-be57-c11ff9aa626e",
   "metadata": {},
   "outputs": [
    {
     "name": "stdout",
     "output_type": "stream",
     "text": [
      "15\n",
      "9\n"
     ]
    }
   ],
   "source": [
    "# 实现数学函数f(x,y,z)=2*x+3*y-z+4\n",
    "def f(x,y,z):\n",
    "    print(2*x+3*y-z+4)\n",
    "\n",
    "f(x=3,y=2,z=1)\n",
    "f(1,2,3)"
   ]
  },
  {
   "cell_type": "markdown",
   "id": "4bf563a5-acc4-4ebd-b909-6ec00f6ea844",
   "metadata": {},
   "source": [
    "- <b>有返回值的函数</b>\n",
    "    - 函数是否有返回值，有关键字return决定\n",
    "    - return的作用：\n",
    "        - 将后面跟着的对象返回给函数调用方\n",
    "        - 表示函数的结束\n",
    "    - 如果函数体没有return，则默认返回None\n",
    "    - 什么时候用return，什么时候不用？\n",
    "        - 以后程序需要用到返回结果的时候，用return"
   ]
  },
  {
   "cell_type": "code",
   "execution_count": 7,
   "id": "dc045b2d-1014-4da5-91ac-7051488ddec4",
   "metadata": {},
   "outputs": [
    {
     "name": "stdout",
     "output_type": "stream",
     "text": [
      "15\n",
      "225\n"
     ]
    }
   ],
   "source": [
    "# 有返回值的函数\n",
    "def f(x, y, z):\n",
    "    return 2*x+3*y-z+4\n",
    "\n",
    "r = f(3, 2, 1)\n",
    "print(r)\n",
    "print(r**2)"
   ]
  },
  {
   "cell_type": "code",
   "execution_count": 8,
   "id": "a300ea93-603c-44d9-ae8c-4be753c30419",
   "metadata": {},
   "outputs": [
    {
     "name": "stdout",
     "output_type": "stream",
     "text": [
      "None\n"
     ]
    }
   ],
   "source": [
    "# 没有return的函数，默认return None\n",
    "def f(x, y, z):\n",
    "    2*x+3*y-z+4\n",
    "\n",
    "r = f(3, 2, 1)\n",
    "print(r)"
   ]
  },
  {
   "cell_type": "code",
   "execution_count": 9,
   "id": "587530a0-dcdc-4d53-af58-72fab0790faa",
   "metadata": {},
   "outputs": [
    {
     "name": "stdout",
     "output_type": "stream",
     "text": [
      "3.0\n",
      "5.0\n",
      "6.0\n",
      "8.0\n"
     ]
    }
   ],
   "source": [
    "# 有返回值的例子，以后多次用到返回结果\n",
    "def div(a,b):\n",
    "    return a/b\n",
    "\n",
    "ret=div(2,1)\n",
    "print(ret+1)\n",
    "print(ret+3)\n",
    "print(ret*3)\n",
    "print(ret**3)"
   ]
  },
  {
   "cell_type": "markdown",
   "id": "883bbfc5-fdb1-42b3-ba6c-f22f3d1ba879",
   "metadata": {},
   "source": [
    "## 12. PyCharm基本操作\n",
    "- 通过Pycharm查看Python语法提示、报错提示以及调式代码（debug)"
   ]
  },
  {
   "attachments": {},
   "cell_type": "markdown",
   "id": "b03fc943-9c6c-40b8-a573-01f94c4098ba",
   "metadata": {},
   "source": [
    "- <b>内置函数</b>\n",
    "    - 官方事先定义好的函数，比如：print\n",
    "        - 光标移到print上，按ctrl键，左键单击print，即转到print函数的定义代码（定义在内置模块builtins.py内)。\n",
    "- <b>报错</b>：\n",
    "    - IDE先检查简单的语法错误\n",
    "    - 没有语法错误后，解释器开始执行程序\n",
    "      \n",
    "    <img src='img\\error_1.png'>\n",
    "\n",
    "- <b>调试</b>\n",
    "    - 让代码一行一行的执行，每一步结果都可以看到\n",
    "    - 意义：\n",
    "        - 发现错误\n",
    "        - 学习他人代码\n",
    "    - 断点：\n",
    "        - 希望从哪儿调试：在行号处，左键单击，把红点点实。\n",
    "    - 开始调试：\n",
    "        - 点右键，选菜单中-->Debug 'p01.py'\n",
    "        - 下面出现调试面板，程序会执行到断点处暂停\n",
    "        - 调试面板上有两个子面板：\n",
    "            - 展示变量(Threads & Vriables):调试过程中变量的变化\n",
    "            - 控制台(Console)：调试过程中输出的结果(print的结果），相当于终端\n",
    "            - 菜单说明：\n",
    "              \n",
    "                <img src='img\\debug_4.png'>\n",
    "                \n",
    "                - 第一个环形箭头：恢复调试(Rerun 'p01.py')\n",
    "                - 红色方块：停止调试(Stop 'p01.py')\n",
    "                - 白色向下箭头：单步进入调试（Step into）：\n",
    "                    - 按顺序一步一步执行程序\n",
    "                    - 可进入自定义函数内部\n",
    "                    - 可以在控制台(console)看每一步执行结果\n",
    "                    - 可以在Treads & Variables面板内看每一个变量的内容\n",
    "                - 白色折线：单步跳过(step over)：\n",
    "                    - 按顺序一步一步执行程序\n",
    "                    - 不进入函数内部\n",
    "                    - 程序量很大，函数没有问题时，不需要进入查看\n",
    "                - 白色向上箭头：单步跳出（Step Out)\n",
    "                    - 多用于调试函数内部时\n",
    "                    - 从函数内一级一级往外跳\n",
    "                    - 只关心函数体的其中几行，后面的不必要继续调试，可以step out，跳到上一级程序\n",
    "                - 蓝色向下箭头：单步进入调试（Step into My Code）：\n",
    "                    - 按顺序一步一步执行程序\n",
    "                    - 可进入自定义函数内部\n",
    "                    - 可以进入官方的源代码内部\n",
    "                - 绿色右箭头：（Resume Program）：\n",
    "                    - 程序有多个断点，只对断点处的输出结果感兴趣\n",
    "                    - 在多个断点跳转，断点间的断码多行一起执行\n",
    "                - 红双圆环：（View Breakpoints）：\n",
    "                    - 程序有多个断点，只对断点处的输出结果感兴趣\n",
    "                    - 在多个断点跳转，断点间的断码多行一起执行\n",
    "                - 白色斜线划过红色圆环：(Mute Breakpoints)\n",
    "                    - 让断点暂时不起作用，暂停调试\n",
    "                - 移除断点：\n",
    "                    - 在View Breakpoints的弹出窗口中，选中Python Exception Breakpoint，点减号，即移除所有断点。\n",
    "                    - 点Done\n",
    "                - 监听单独（几个）变量：\n",
    "                    - 在Threads & Variables 面板下的右上角Layouts（白色网格）按钮，点中后有下拉菜单\n",
    "                    - 选Seperate Watches 和 Show Tab Labels\n",
    "                    - 选中左边变量列表中需要监测的变量名，右键菜单中选中Add to Watches，则这个变量会加入到右边Watches窗口中，单独进行监测。\n",
    "                    - 如果想把变量移出Watches窗口，可以选中变量名，然后点减号，或者右键菜单中Remove Watch。\n",
    "                    - 恢复可选Restore Default Layout\n",
    "\n",
    "        右键菜单中debug 'p01.py'执行调试。 \n",
    "        \n",
    "        <img src='img\\break_1.png'>\n",
    "        \n",
    "        设置断点：点行号变为红色实心圆\n",
    "        \n",
    "        <img src='img\\debug_2.png'>\n",
    "        \n",
    "        调试面板上有两个子面板\n",
    "        \n",
    "        <img src='img\\debug_3.png'>\n",
    "        \n",
    "        展示变量(Threads & Vriables)面板可查看调试过程中变量的内容\n",
    "        \n",
    "        add 函数存放的地址，0B为二进制开头，0O为八进制开头，0X为十六进制开头\n",
    "        \n",
    "        <img src='img\\debug_5.png'>\n",
    "        \n",
    "        Resume Program可以在多断点间转跳，View Breakpoints可以查看所有断点信息\n",
    "        \n",
    "        <img src='img\\debug_6.png'>\n",
    "        \n",
    "        在View Breakpoints的弹出窗口中，选中Python Exception Breakpoint，点减号，即移除所有断点。\n",
    "        \n",
    "        <img src='img\\remove_breakpoints.png'>\n",
    "        \n",
    "        Mute Breakpoints，会让所有断点变成灰色，暂时不起作用；如果想恢复，则再次按这个按钮，断点会变成红色\n",
    "        \n",
    "        <img src='img\\debug_7.png'>\n",
    "        \n",
    "        调试时，可以在Threads & Variables 面板的右上部输入框中进行简单的变量运算：比如a+b+c\n",
    "        \n",
    "        <img src='img\\debug_8.png'>\n",
    "        \n",
    "        变量较多时，可以打开Watches窗口，只监听几个变量\n",
    "        \n",
    "        <img src='img\\debug_9.png'>\n",
    "        \n",
    "        单独监测变量b\n",
    "        \n",
    "        <img src='img\\watches_1.png'>\n",
    "        \n",
    "        将变量移出Watches窗口，可以点减号，或者右键菜单中的Remove Watch。\n",
    "        \n",
    "        <img src='img\\watches_2.png'>"
   ]
  },
  {
   "cell_type": "code",
   "execution_count": 10,
   "id": "6d1b0d74-f696-4167-aa5b-f5e1096b6d9b",
   "metadata": {},
   "outputs": [
    {
     "name": "stdout",
     "output_type": "stream",
     "text": [
      "执行第一行啦\n",
      "2.0\n",
      "执行第3行啦\n",
      "123\n",
      "执行第13行啦\n",
      "执行第9行啦\n",
      "执行第10行啦 7\n",
      "124\n",
      "执行第17行啦\n"
     ]
    }
   ],
   "source": [
    "print(\"执行第一行啦\")\n",
    "print(2/1)\n",
    "print(\"执行第3行啦\")\n",
    "a=123\n",
    "print(a)\n",
    "\n",
    "\n",
    "def add(left, right):\n",
    "    print(\"执行第9行啦\")\n",
    "    print(\"执行第10行啦\", left+right)\n",
    "\n",
    "\n",
    "print(\"执行第13行啦\")\n",
    "add(3,4)\n",
    "a=124\n",
    "print(a)\n",
    "print(\"执行第17行啦\")"
   ]
  },
  {
   "cell_type": "markdown",
   "id": "3a88b229-1c84-480c-b481-3d20861d0220",
   "metadata": {},
   "source": [
    "程序执行顺序\n",
    "        \n",
    "<img src='img\\debug_1.png'>"
   ]
  },
  {
   "cell_type": "markdown",
   "id": "1d87ba67-ff0d-4bb2-aa29-6b1047b07efb",
   "metadata": {},
   "source": [
    "## 13. PyCharm 技巧：\n",
    "- <b>PyCharm技巧：如何关闭对实参名的自动提示</b>\n",
    "    - PyCharm调用函数时，会自动提示参数名：f(x:3,y:2,z:1) 和 f(x:1, y: 2, z:3)\n",
    "    - 如何关闭？\n",
    "        - 主菜单-->Settings-->Editor-->Inlay Hints--> 不选Parameter names-->OK\n",
    "     \n",
    "- <b>PyCharm技巧：如何关闭对使用次数(Usages)的自动提示</b>\n",
    "    - PyCharm会在函数定义前加上此函数被调用过几次\n",
    "    - 如何关闭？\n",
    "        - 主菜单-->Settings-->Inlay Hints-->Code vision-->不选Usages\n",
    "- <b>PyCharm技巧：如何关闭对错误英语单词的提示</b>\n",
    "    - 光标放在提示的单词下（绿色波浪下划线），出现弹出窗口，点More options\n",
    "\n",
    "    <img src='img/inspection.png'>\n",
    "    \n",
    "    - 点Save 'wrong_word' to dictionary右边的三个点（设置）-->Disable Inspection\n",
    "\n",
    "    <img src='img/inspection_1.png'>\n",
    "    \n",
    "    - 或者点Save 'wrong_word' to dictionary右边的三个点（设置）-->Edit inpection profile setting --> 弹出窗口中右下部的Severity的下拉菜单中-->No highlighting (fix available)\n",
    "\n",
    "    <img src='img/inspection_2.png'>\n",
    "    \n",
    "    <img src='img/inspection_3.png'>\n",
    "    \n",
    "- <b>PyCharm技巧：代码格式的警告（黄色波浪下划线）</b>\n",
    "    - 黄色波浪线是警告，光标移动到黄色波浪线上时，会弹出窗口显示警告内容。\n",
    "    - PEP8是Python的书写规范：说明如何写代码是符合Python编码规范的，内容大概两页A4纸。\n",
    "- <b>Python的书写规范</b>：\n",
    "    - 函数定义前和定义后都空两行\n",
    "    - 逗号后加一空格再继续写\n",
    "    - 代码行后边加注释，先空两格空格后再写 # 注释"
   ]
  }
 ],
 "metadata": {
  "kernelspec": {
   "display_name": "Python 3 (ipykernel)",
   "language": "python",
   "name": "python3"
  },
  "language_info": {
   "codemirror_mode": {
    "name": "ipython",
    "version": 3
   },
   "file_extension": ".py",
   "mimetype": "text/x-python",
   "name": "python",
   "nbconvert_exporter": "python",
   "pygments_lexer": "ipython3",
   "version": "3.11.9"
  }
 },
 "nbformat": 4,
 "nbformat_minor": 5
}
