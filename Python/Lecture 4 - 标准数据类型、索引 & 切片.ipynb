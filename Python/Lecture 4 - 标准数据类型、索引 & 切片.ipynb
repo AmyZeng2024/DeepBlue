{
 "cells": [
  {
   "cell_type": "markdown",
   "id": "813c54a3-1d1a-4f1e-9e5b-69e25232e4c8",
   "metadata": {},
   "source": [
    "## 1. 标准数据类型\n",
    "***\n",
    "Python 3 中有六个标准数据类型\n",
    "- 数字(Number)\n",
    "- 字符串(String)\n",
    "- 列表(List)\n",
    "- 元组(Tuple)\n",
    "- 字段(Dictionary)\n",
    "- 集合(Set)"
   ]
  },
  {
   "cell_type": "markdown",
   "id": "ac426c89-9c69-4bfc-8751-aa5f25337458",
   "metadata": {},
   "source": [
    "- ### <b>数字（Number）</b>\n",
    "    - 特点: 数字是不可变的，不是序列\n",
    "        - Number是不可变的(immutable)\n",
    "            - 对数字进行加减乘除等操作，不会改变数字本身，而是产生新的数字，占据新的空间\n",
    "        - Number不是序列(not a sequence)\n",
    "            - 没有元素，是一个整体\n",
    "    - 分类：整数(int)、浮点数(float)、布尔型(bool)、复数(complex)\n",
    "    - 内置函数：type(object)\n",
    "       - 返回object的类型\n",
    "\n",
    "        - <font color=blue>整数（int）</font>\n",
    "          - 数字越大需要的内存越大，例如：-129、0、99、128\n",
    "          - int([x],base=10)\n",
    "            - 将x转换为整数并返回，如果没有指定x，则返回0\n",
    "            - int()是只保留整数部分，而不是向上或向下取整\n",
    "            - x: 数字或字符串，可选\n",
    "            - base: 进制数，默认为十进制\n",
    "            - x可传：\n",
    "                - 整数\n",
    "                - 浮点数\n",
    "                - 布尔类型(True or False)\n",
    "                - 可以直接转成数字的字符串，前后可以加空格 （如：'123'，' 123  ')\n",
    "            - x不能传\n",
    "                - 复数\n",
    "                - 一般字符串\n",
    "        \n",
    "        - <font color=blue>浮点数（float）</font>\n",
    "            - 带一个小数点，例如: 1.23、1.\n",
    "            - 也可以加一个科学计数标志e或者E，例如: 3.14e-10、4E210、4.0e+210（科学计数法：ax10^b表示为aEb或者aeb)\n",
    "            - float([x])\n",
    "                - x:数字或者数字型字符串\n",
    "                - 将x转换为浮点数并返回，不传参数的话，则返回0.0\n",
    "                - 字符串两头的空格不影响\n",
    "        \n",
    "        - <font color=blue>布尔型（bool）</font>\n",
    "          - 在Python2中，没有布尔型，它用数字0表示False，用1表示True;\n",
    "          - 在Python3中，把True和False定义为关键字了，但是它们的值还是1和0，它们可以和数字相加\n",
    "          - bool([x])\n",
    "              - 将给定参数转换为布尔类型，True 或者 False\n",
    "              - 如果l没有参数，则返回False\n",
    "              - 没有参数的话，默认转为False\n",
    "              - 以下数据的布尔值为False:\n",
    "                  - 数字0, 0.0, 0J\n",
    "                  - False\n",
    "                  - 空字符串，空列表，空元组，空字典，空集合，关键字None\n",
    "              - 其他数据一般为True\n",
    "            \n",
    "        - <font color=blue>复数（complex）</font>\n",
    "          - 实部+虚部，和数学中的a+bi是一样的，只不过这里的虚部是以j或者J结尾，例如：a=2+1j、b=1J（注意：j或者J前面的系数1不能省略）\n",
    "          - complex([real],[imag])\n",
    "              - 创建一个值为real+imag*j的复数，或者转化一个字符串或数为复数\n",
    "              - 如果没有参数，则返回0j\n",
    "    - 位(bit)和字节(byte)：\n",
    "        - 计算机的（二进制）数据单位是位(bit)和字节(byte)\n",
    "        - 1 byte = 8 bit\n",
    "        - 1Kb =2^10 Bytes = 1024 Bytes\n",
    "        - 1Mb = 2^10 Kb = 1024 KB\n",
    "        - 1Gb= 2^10 Mb = 1024 Mb\n",
    "        - 1Tb = 2^10 Gb = 1024 Gb\n",
    "    - 一般32位电脑的整数是4个字节，64位电脑的整数是8个字节\n",
    "\n",
    "    <img src='img\\byte_2.gif' width=500>\n",
    "    \n",
    "    - 整数的分类：\n",
    "        - <font color=blue>无符号整数</font>（1个字节举例）\n",
    "            - 最大：11111111 （255）\n",
    "            - 最小：00000000 （0）\n",
    "        - <font color=blue>有符号整数</font>（1个字节举例）\n",
    "            - 第一位为符号位：0表示整数、1表示负数\n",
    "            - 最大：011111111 （127）\n",
    "            - 最小：111111111  (-127)，10000000（-128）\n",
    "            - 注意：<font color=red>00000000是0，10000000是-128</font>\n",
    "\n",
    "\n",
    "        <img src='img/byte_1.png' width=500>\n"
   ]
  },
  {
   "cell_type": "code",
   "execution_count": 1,
   "id": "c75bd7ab-0a64-4a5b-9626-7408aa98612d",
   "metadata": {},
   "outputs": [
    {
     "name": "stdout",
     "output_type": "stream",
     "text": [
      "7.0\n",
      "2000.0\n",
      "2000.0\n"
     ]
    }
   ],
   "source": [
    "# python中，小数点后的0可以省略\n",
    "num=7.\n",
    "print(num)\n",
    "\n",
    "# python 默认科学计数法为浮点数\n",
    "num = 2e3\n",
    "print(num)\n",
    "\n",
    "num = 2E3\n",
    "print(num)"
   ]
  },
  {
   "cell_type": "code",
   "execution_count": 2,
   "id": "0d7a9f45-08a4-45ec-baa3-46d4bcc0a266",
   "metadata": {},
   "outputs": [
    {
     "name": "stdout",
     "output_type": "stream",
     "text": [
      "789\n",
      "789\n",
      "790\n",
      "789 2373133432176\n",
      "790 2373133423408\n"
     ]
    }
   ],
   "source": [
    "# 数字不可变\n",
    "\n",
    "# 对数字进行加减等操作，不会改变数字本身，而会产生一个新的数据，占据新的空间\n",
    "# a 指向789\n",
    "a = 789  \n",
    "a + 1\n",
    "# a+1后，产生新的数据, 但是a仍指向789\n",
    "print(a) \n",
    "\n",
    "b = a + 1\n",
    "print(a)\n",
    "print(b)\n",
    "\n",
    "a=789\n",
    "print(a, id(a)) # 789 2363521054416\n",
    "a=a+1\n",
    "print(a,id(a))  #790 2363521054800"
   ]
  },
  {
   "cell_type": "code",
   "execution_count": 3,
   "id": "d652ebfc-8ce8-46df-8cf3-afc30077f3e4",
   "metadata": {},
   "outputs": [],
   "source": [
    "# 数字是序列：有顺序排列的数据结构，内存是连续的\n"
   ]
  },
  {
   "cell_type": "code",
   "execution_count": 4,
   "id": "197fd649-fca5-4447-b0b4-cfe70f0a8e30",
   "metadata": {},
   "outputs": [
    {
     "name": "stdout",
     "output_type": "stream",
     "text": [
      "4\n"
     ]
    }
   ],
   "source": [
    "# True 和 False 按1和0进行计算\n",
    "print(True + False +3 )"
   ]
  },
  {
   "cell_type": "code",
   "execution_count": 5,
   "id": "bcb9cd5b-755e-4a2c-a728-1d6b045419d3",
   "metadata": {},
   "outputs": [
    {
     "name": "stdout",
     "output_type": "stream",
     "text": [
      "<class 'complex'>\n",
      "(3+4j)\n",
      "(3+1j)\n",
      "True\n",
      "<class 'complex'>\n",
      "<class 'bool'>\n"
     ]
    }
   ],
   "source": [
    "# 复数：虚部默认显示为小写的j\n",
    "num = 3 + 4J\n",
    "print(type(num))  # <class 'complex'>\n",
    "print(num)  # (3+4j)\n",
    "\n",
    "# num = 3 + J :错误表示\n",
    "num = 3 + 1J\n",
    "print(num)  # (3+1j)\n",
    "\n",
    "# 0J大小和0一样，但是类型是负数\n",
    "num = 0J\n",
    "print(num==0)  # True\n",
    "print(type(num))  # <class 'complex'>\n",
    "\n",
    "num = True\n",
    "print(type(num))  # <class 'bool'>"
   ]
  },
  {
   "cell_type": "code",
   "execution_count": 6,
   "id": "cc7d0840-f9ee-4924-a95d-1916e090ce78",
   "metadata": {},
   "outputs": [
    {
     "name": "stdout",
     "output_type": "stream",
     "text": [
      "0\n",
      "345\n",
      "3\n",
      "3\n",
      "-3\n",
      "-4\n",
      "3\n",
      "-3\n",
      "4\n",
      "1\n",
      "0\n",
      "12343\n",
      "233432\n"
     ]
    }
   ],
   "source": [
    "# 整数例子\n",
    "\n",
    "# 没有参数时, 默认为0\n",
    "print(int())  # 0\n",
    "\n",
    "num = 345\n",
    "print(int(num))  # 345\n",
    "\n",
    "# int对浮点是只保留整数部分, 而不是向下取整\n",
    "num = 3.45 \n",
    "print(int(num))  # 3\n",
    "\n",
    "num = 3.88\n",
    "print(int(num))  # 3\n",
    "\n",
    "num = -3.01\n",
    "print(int(num))  # -3， 如果向下取整应该为 -4\n",
    "\n",
    "# math模块中有很多与数据操作相关的函数\n",
    "import math\n",
    "# 向下取整\n",
    "print(math.floor(-3.01))  # -4\n",
    "print(math.floor(3.01))   # 3\n",
    "# 向上取整\n",
    "print(math.ceil(-3.01))  # -3\n",
    "print(math.ceil(3.01))  # 4\n",
    "\n",
    "print(int(True))  # 1\n",
    "print(int(False))  # 0\n",
    "\n",
    "print(int('12343'))    # 12343\n",
    "print(int('  233432'))  # 233432\n",
    "\n",
    "# print(int('hello world')) # 不能传字符串\n",
    "# print(int('2.34'))"
   ]
  },
  {
   "cell_type": "code",
   "execution_count": 7,
   "id": "83eb07af-0fe8-4ce0-b30b-09cd39a76c98",
   "metadata": {},
   "outputs": [
    {
     "name": "stdout",
     "output_type": "stream",
     "text": [
      "85\n",
      "85\n",
      "85\n",
      "85\n",
      "86\n",
      "86\n",
      "86\n",
      "86\n",
      "38\n",
      "38\n",
      "38\n",
      "38\n"
     ]
    }
   ],
   "source": [
    "# base不是10的话, x一定是字符串\n",
    "# 把二进制的字符串转为十进制\n",
    "print(int('1010101', base=2))  # 85\n",
    "print(int('1010101', 2))  # 85\n",
    "print(int('0b1010101', base=2))  # 85\n",
    "print(int('0b1010101', 2))  # 85\n",
    "\n",
    "# 把八进制的126转为十进制，然后返回\n",
    "print(int('126', base=8))  # 86\n",
    "print(int('126', 8))  # 86\n",
    "\n",
    "print(int('0o126', base=8))  # 86\n",
    "print(int('0o126', 8))  # 86\n",
    "\n",
    "\n",
    "# 把十六进制的26转为十进制，然后返回\n",
    "print(int('26', base=16))  # 38\n",
    "print(int('26', 16))  # 38\n",
    "print(int('0x26', base=16))  # 38\n",
    "print(int('0x26', 16))  # 38"
   ]
  },
  {
   "cell_type": "code",
   "execution_count": 8,
   "id": "5ec12047-abc1-496a-ba2d-e40c19d497c2",
   "metadata": {},
   "outputs": [
    {
     "name": "stdout",
     "output_type": "stream",
     "text": [
      "<class 'float'>\n",
      "True\n",
      "3.456\n",
      "3.456\n",
      "3456.0\n",
      "1.0\n",
      "0.0\n",
      "12343.0\n",
      "233432.0\n"
     ]
    }
   ],
   "source": [
    "# 浮点数例子\n",
    "\n",
    "num1 = 3.456\n",
    "num2 = '3.456'\n",
    "num3 = '3456'\n",
    "print(type(num1))  # <class 'float'>\n",
    "print(type(num1) is float)  # True\n",
    "\n",
    "print(float(num1))   # 3.456\n",
    "print(float(num2))   # 3.456\n",
    "print(float(num3))   # 3456.0\n",
    "\n",
    "print(float(True))  # 1.0\n",
    "print(float(False))  # 0.0\n",
    "\n",
    "print(float('12343'))    # 12343.0\n",
    "print(float('  233432'))  # 233432.0"
   ]
  },
  {
   "cell_type": "code",
   "execution_count": 9,
   "id": "0dd70f04-0279-484f-a263-d18a904bd95f",
   "metadata": {},
   "outputs": [
    {
     "name": "stdout",
     "output_type": "stream",
     "text": [
      "False\n",
      "False\n",
      "False\n",
      "False\n",
      "False\n",
      "False\n",
      "False\n",
      "True\n"
     ]
    }
   ],
   "source": [
    "# 布尔型例子\n",
    "\n",
    "print(bool())   # False\n",
    "print(bool(0))   # False\n",
    "print(bool(0.0))   # False\n",
    "print(bool(0j))   # False\n",
    "print(bool(False))   # False\n",
    "print(bool(''))   # False\n",
    "print(bool([]))   # False\n",
    "\n",
    "print(bool(' '))   # True"
   ]
  },
  {
   "cell_type": "code",
   "execution_count": 10,
   "id": "8aed3da6-92cf-4a5a-836a-7729429a0c35",
   "metadata": {},
   "outputs": [
    {
     "name": "stdout",
     "output_type": "stream",
     "text": [
      "0j\n",
      "(3+4j)\n",
      "(3+0j)\n",
      "(2.56+0j)\n",
      "(2.56+7j)\n"
     ]
    }
   ],
   "source": [
    "# 复数例子\n",
    "\n",
    "print(complex())  # 0j\n",
    "print(complex(3,4))  # (3+4j)\n",
    "print(complex(3))   # (3+0j)\n",
    "print(complex('2.56'))   # (2.56+0j)\n",
    "print(complex('2.56+7j'))   # (2.56+7j)"
   ]
  },
  {
   "cell_type": "markdown",
   "id": "5aa07e46-2733-495c-a4a7-adbc44a3a942",
   "metadata": {},
   "source": [
    "- ### <b>字符串1</b>\n",
    "    - 特点：String是不可变的(immutable)，它是序列(sequence)\n",
    "    - 单行字符串：用一堆单引号或一对双引号定义\n",
    "    - 多行字符串：用一对三引号（单双都可）来定义\n",
    "    - 一对三引号还可以用于多行注释\n",
    "    - 转义字符串\n",
    "        - 反斜杠和特定的字符或数字可以组成转义字符（打组合拳）\n",
    "        - 如果不希望字符串转义，比如网址字符串，可以在定义字符串前加一个r，表示原始字符串，所有转义都不进行，也就起到了抑制转义的作用。\n",
    "    \n",
    "    <img src='img/string_1.png' width=500>\n",
    "\n",
    "    - str(object='')\n",
    "        - 返回object的字符串格式，object默认为空字符串，所以不传参数时，返回为空字符串"
   ]
  },
  {
   "cell_type": "code",
   "execution_count": 11,
   "id": "1d92150a-b92d-4d23-bc04-51a37b9e7987",
   "metadata": {},
   "outputs": [
    {
     "name": "stdout",
     "output_type": "stream",
     "text": [
      "<class 'int'>\n",
      "123\n",
      "<class 'str'>\n",
      "123\n",
      "[123, 1.23, True, False, 4j, '123', '123']\n"
     ]
    }
   ],
   "source": [
    "# 定义字符串：用单引号，或者双引号\n",
    "name='张三'\n",
    "\n",
    "# 如果数字用单、双引号括起来，则是字符串类型，而不是整数类型\n",
    "a=123\n",
    "print(type(a))\n",
    "print(a)\n",
    "b='123'\n",
    "print(type(b))\n",
    "print(b)\n",
    "\n",
    "# 在列表中，字符串元素有单引号\n",
    "lst=[123, 1.23, True, False, 4j, '123', \"123\"]\n",
    "print(lst)"
   ]
  },
  {
   "cell_type": "code",
   "execution_count": 12,
   "id": "3889b63b-0aab-42f9-ae08-48adcc4af6d7",
   "metadata": {},
   "outputs": [],
   "source": [
    "# 字符串不可变\n",
    "# 对字符串进行增改删，字符串本身不会修改，而会产生一个新的字符串，占据新的空间\n",
    "a='hello world'\n"
   ]
  },
  {
   "cell_type": "code",
   "execution_count": 13,
   "id": "f81eac3a-59e1-4ac0-8cb0-6cd5a50fb378",
   "metadata": {},
   "outputs": [],
   "source": [
    "# 字符串是序列\n",
    "# 1. 有元素\n",
    "# 2. 元素是顺序排列的\n",
    "# a是由'1'、'2'、'3'、'4'组成\n",
    "a='1234'\n"
   ]
  },
  {
   "cell_type": "code",
   "execution_count": 14,
   "id": "3eaa9b10-60dd-4cf7-898f-b16c4ffa79d3",
   "metadata": {},
   "outputs": [
    {
     "name": "stdout",
     "output_type": "stream",
     "text": [
      "\n",
      "张三，\n",
      "李四，\n",
      "王五\n",
      "\n",
      "['\\n张三，\\n李四，\\n王五\\n']\n",
      "\n",
      "张三，\n",
      "李四，\n",
      "王五\n",
      "\n"
     ]
    },
    {
     "data": {
      "text/plain": [
       "'\\n张三，\\n李四，\\n王五\\n'"
      ]
     },
     "execution_count": 14,
     "metadata": {},
     "output_type": "execute_result"
    }
   ],
   "source": [
    "# 多行字符串：三个引号(单双都可）\n",
    "names=\"\"\"\n",
    "张三，\n",
    "李四，\n",
    "王五\n",
    "\"\"\"\n",
    "print(names)\n",
    "print([names])  # ['\\n张三，\\n李四，\\n王五\\n']\n",
    "\n",
    "# 可以用转义字符进行多行输出, 下面的定义和上面多行字符串定义一样\n",
    "names='\\n张三，\\n李四，\\n王五\\n'\n",
    "print(names) \n",
    "\n",
    "# 多行注释，没有赋值给变量\n",
    "\"\"\"\n",
    "张三，\n",
    "李四，\n",
    "王五\n",
    "\"\"\""
   ]
  },
  {
   "cell_type": "code",
   "execution_count": 15,
   "id": "4727afc4-bbac-42fa-b91b-26077070df1d",
   "metadata": {},
   "outputs": [
    {
     "name": "stdout",
     "output_type": "stream",
     "text": [
      "\n",
      "['']\n",
      " \n",
      "[' ']\n",
      "<class 'str'>\n"
     ]
    }
   ],
   "source": [
    "# 空字符串\n",
    "str1=\"\"\n",
    "print(str1)\n",
    "print([str1])   # ['']\n",
    "\n",
    "# 空格字符，不是空的\n",
    "str2=\" \"\n",
    "print(str2)\n",
    "print([str2])   # [' ']\n",
    "\n",
    "# Python中没有字符的概念，字符为长度为1的字符串\n",
    "char='c'\n",
    "print(type(char)) # <class 'str'>"
   ]
  },
  {
   "cell_type": "code",
   "execution_count": 16,
   "id": "779981e7-6acb-4fd6-adb8-bbc52b49aacf",
   "metadata": {},
   "outputs": [
    {
     "name": "stdout",
     "output_type": "stream",
     "text": [
      "今天天气很好，老妈对我说：'把衣服洗了'\n",
      "今天天气很好，老妈对我说：\"把衣服洗了\"，我说：'好的！'\n",
      "今天天气很好，老妈对我说：\"把衣服洗了\"，我说：'好的！'\n"
     ]
    }
   ],
   "source": [
    "# 定义字符串：今天天气很好，老妈对我说：'把衣服洗了'\n",
    "# 字符串里有单引号, 所以定义时用单引号\n",
    "str1=\"今天天气很好，老妈对我说：'把衣服洗了'\"\n",
    "print(str1)   # 今天天气很好，老妈对我说：'把衣服洗了'\n",
    "\n",
    "# 定义字符串：今天天气很好，老妈对我说：\"把衣服洗了\"，我说：'好的！'\n",
    "# 字符串里有单引号和双引号, 所以定义时用三引号\n",
    "str1=\"\"\"今天天气很好，老妈对我说：\"把衣服洗了\"，我说：'好的！'\"\"\"\n",
    "print(str1)   # 今天天气很好，老妈对我说：\"把衣服洗了\"，我说：'好的！'\n",
    "\n",
    "# 利用转义字符来输出单双引号\n",
    "str1=\"今天天气很好，老妈对我说：\\\"把衣服洗了\\\"，我说：\\'好的！\\'\"\n",
    "print(str1)   # 今天天气很好，老妈对我说：\"把衣服洗了\"，我说：'好的！'"
   ]
  },
  {
   "cell_type": "code",
   "execution_count": 17,
   "id": "051a8e94-9167-40be-a733-ddff958b7b08",
   "metadata": {},
   "outputs": [
    {
     "name": "stdout",
     "output_type": "stream",
     "text": [
      "this is a ...\n",
      " cat\n",
      "A\n",
      "B\n",
      "C\n",
      "\\9\n",
      "\u0007\n",
      "\\\n"
     ]
    }
   ],
   "source": [
    "# 转义字符\n",
    "str2='this is a ...\\n cat'\n",
    "print(str2)\n",
    "# this is a ...\n",
    "#  cat\n",
    "\n",
    "# \\加101 等于大写A\n",
    "num1='\\101'  \n",
    "# \\加102 等于大写B\n",
    "num2='\\102' \n",
    "# \\加103 等于大写B\n",
    "num3='\\103'\n",
    "# 没有转义\n",
    "num4='\\9'\n",
    "print(num1)  # A\n",
    "print(num2)  # B\n",
    "print(num3)  # C\n",
    "print(num4)  # \\9\n",
    "\n",
    "# 转义字符，给电脑发出声响\n",
    "print('\\a')\n",
    "\n",
    "# 输出反斜杠\n",
    "print('\\\\')  # \\"
   ]
  },
  {
   "cell_type": "code",
   "execution_count": 18,
   "id": "d3d36e03-8063-4bfb-938e-4a120157cac0",
   "metadata": {},
   "outputs": [
    {
     "name": "stdout",
     "output_type": "stream",
     "text": [
      "ab cdef\n",
      "abc def\n",
      "ab\tcdef\n",
      "abc\tdef\n",
      "abetyyrty\tcdef\n",
      "abcetert\tdef\n"
     ]
    }
   ],
   "source": [
    "str1 = 'ab cdef'\n",
    "str2= 'abc def'\n",
    "print(str1)\n",
    "print(str2)\n",
    "\n",
    "# /t：横向制表符，重新启动8个字符的一组，可以将\\t后面的字符重新对齐\n",
    "# PyCharm中，\\t是重新启动4个字符的一组\n",
    "str1 = 'ab\\tcdef'\n",
    "str2= 'abc\\tdef'\n",
    "print(str1)  # ab\tcdef\n",
    "print(str2)  # abc\tdef\n",
    "\n",
    "str1 = 'abetyyrty\\tcdef'\n",
    "str2= 'abcetert\\tdef'\n",
    "print(str1)  # ab\tcdef\n",
    "print(str2)  # abc\tdef\n"
   ]
  },
  {
   "cell_type": "markdown",
   "id": "5bc33208-2ada-4ad4-8a11-497e14ca3c1f",
   "metadata": {},
   "source": [
    "<img src='img/tab.png' width=400>"
   ]
  },
  {
   "cell_type": "code",
   "execution_count": 19,
   "id": "5fc5a5ae-db18-4474-b418-6432df8da331",
   "metadata": {},
   "outputs": [
    {
     "name": "stdout",
     "output_type": "stream",
     "text": [
      "www.baidu.com\\n\n",
      "https://www.abc.com\\ntu\\aut\\12033\n"
     ]
    }
   ],
   "source": [
    "#原始字符串\n",
    "str1=r'www.baidu.com\\n'\n",
    "str2=R'https://www.abc.com\\ntu\\aut\\12033'\n",
    "print(str1)  # www.baidu.com\\n\n",
    "print(str2)  # https://www.abc.com\\ntu\\aut\\12033"
   ]
  },
  {
   "cell_type": "code",
   "execution_count": 20,
   "id": "169c4b97-3aaa-48e4-996d-c711202101be",
   "metadata": {},
   "outputs": [
    {
     "name": "stdout",
     "output_type": "stream",
     "text": [
      "123456789 they are numbers\n",
      "123456789 they are numbers\n"
     ]
    }
   ],
   "source": [
    "# 一行数个字符串可以自动拼接\n",
    "str3 = '123' '456' \"789\" \" they are numbers\"\n",
    "print(str3)  # 123456789 they are numbers\n",
    "\n",
    "# 一般写法: 用加号拼接\n",
    "str4 = '123' + '456' + \"789\" + \" they are numbers\"\n",
    "print(str4)  # 123456789 they are numbers"
   ]
  },
  {
   "cell_type": "code",
   "execution_count": 21,
   "id": "9c029cf5-4e9c-4c8e-b7c3-4c6a6ea401a7",
   "metadata": {},
   "outputs": [
    {
     "name": "stdout",
     "output_type": "stream",
     "text": [
      "\n",
      "1343\n",
      "234\n",
      "False\n",
      "(3+4j)\n"
     ]
    }
   ],
   "source": [
    "str1 = 'hello world'\n",
    "print(str())\n",
    "print(str(1343))    # '1343'\n",
    "print(str('234'))   # '234'\n",
    "print(str(False))  # 'False'\n",
    "print(str(3+4J))   # '(3+4j)'"
   ]
  },
  {
   "cell_type": "markdown",
   "id": "0b1bde7f-096d-4879-bb92-d0cf2647e96d",
   "metadata": {},
   "source": [
    "- ### <b>字符串2 -- 格式化</b>"
   ]
  },
  {
   "cell_type": "code",
   "execution_count": 22,
   "id": "6a57f106-d1ed-4cf9-a7a0-f29594581344",
   "metadata": {},
   "outputs": [
    {
     "name": "stdin",
     "output_type": "stream",
     "text": [
      "请输入您的姓名:  李四\n",
      "请输入您的体重(kg):  72.7\n",
      "请输入您的升高(m):  1.77\n"
     ]
    },
    {
     "name": "stdout",
     "output_type": "stream",
     "text": [
      "23.205336908295827\n"
     ]
    }
   ],
   "source": [
    "name = input('请输入您的姓名: ')\n",
    "\n",
    "# int('107.5') 会报错，因为int函数的base参数默认为10进制\n",
    "\n",
    "weight = float(input('请输入您的体重(kg): '))\n",
    "height = float(input('请输入您的升高(m): '))\n",
    "bmi = weight/height ** 2  # 除了括号，指数运算(**)的优先级是最高的\n",
    "print(bmi)     # 23.205336908295827\n"
   ]
  },
  {
   "cell_type": "code",
   "execution_count": 23,
   "id": "5b89f2ef-8444-4e32-b4c2-c6bd542bd4e9",
   "metadata": {},
   "outputs": [
    {
     "data": {
      "text/plain": [
       "'\\n李四，您好！\\n您的体重是：72.7kg\\n您的身高是：1.77m\\n您的bmi值为：23.205336908295827\\n'"
      ]
     },
     "execution_count": 23,
     "metadata": {},
     "output_type": "execute_result"
    }
   ],
   "source": [
    "\"\"\"\n",
    "李四，您好！\n",
    "您的体重是：72.7kg\n",
    "您的身高是：1.77m\n",
    "您的bmi值为：23.205336908295827\n",
    "\"\"\""
   ]
  },
  {
   "cell_type": "code",
   "execution_count": 24,
   "id": "feded304-0f78-4fca-8285-7d6661a40fa9",
   "metadata": {},
   "outputs": [
    {
     "name": "stdout",
     "output_type": "stream",
     "text": [
      "李四，您好！\n",
      "您的体重是：72.7kg\n",
      "您的身高是：1.77m\n",
      "您的bmi值为：23.205336908295827\n",
      "\n"
     ]
    }
   ],
   "source": [
    "print(name, '，您好！\\n您的体重是：',weight, 'kg\\n您的身高是：', height, 'm\\n您的bmi值为：', bmi\n",
    "      , sep='')\n",
    "print() # 空行"
   ]
  },
  {
   "cell_type": "markdown",
   "id": "ed815733-bf5e-4475-b44d-28b0d36945e5",
   "metadata": {},
   "source": [
    "- <font color=blue> %格式化符号（传统格式化方法）</font>\n",
    "\n",
    "    字符串格式化符号：（标亮部份要求掌握，其他作为了解即可）\n",
    "\n",
    "    <img src='img/formatting_1.png'>\n",
    "    \n",
    "    - %s 为占位符，将对应的数据转为字符串\n",
    "    - 传多个数据时, 在 % 后加多个元素的<font color=red>元组</font>\n",
    "    - 输出的实参只有一个，整个为一个格式化的字符串：\n",
    "        - '%s，您好！\\n您的体重是：%skg\\n您的身高是：%sm\\n您的bmi值为：%s\\n' % (name, height, weight, bmi)\n",
    "    - 所以不需要设置 sep参数\n",
    "    - 其他的占位符：\n",
    "        - %d, %D：仅适用于数字，将数据转化为十进制的整数(转为int)\n",
    "        - %f, %F: 仅适用于数字，将数据转为浮点数，默认小数点后6位\n",
    "        - %c：适用于整数和字符（长度为1的字符串），转化为对应的字符(ASCII码，基于unicode，收集了全世界所有国家的字符，包括中文），如果是字符，输出不变。\n",
    "            - chr(i)：返回Unicode码位为整数i的字符\n",
    "            - ord(c)： 返回单字符c对应的Unicode码位\n",
    "        - %o：仅适用于整数，将整数格式化为八进制数\n",
    "        - %x, %X：仅适用于整数，将整数格式化为十六进制数\n",
    "        - %e, %E：仅适用于数字，把数据格式化为科学计数法\n",
    "        - %g, %G：仅适用于数字，保留6位有效数字，整数部分大于6位则用科学计数法，考虑四舍五入\n",
    "          \n",
    "        <img src='img/ascii.png'>\n",
    "    - 辅助指令（了解）：\n",
    "        - -：左对齐显示，默认为右对齐\n",
    "        - +：在整数前显示+\n",
    "        - #: 在八进制数前显示'0o'，在十六进制前显示'0x'或者'0X'（取决于用的是'x'还是'X')\n",
    "        - 0: 显示的数字前面填充'0'，而不是默认的空格\n",
    "        - m.n：m和n为整数，可以组合或单独使用，其中m表示最小显示的总宽度，如果超出，则原样输出；n表示可保留的小数点后的位数或者字符串个个数\n",
    "        - *: 定义最小显示宽度或者小数位数\n",
    "        "
   ]
  },
  {
   "cell_type": "code",
   "execution_count": 25,
   "id": "347a4d6e-8b10-492d-b597-eb5327251d6a",
   "metadata": {},
   "outputs": [
    {
     "name": "stdout",
     "output_type": "stream",
     "text": [
      "李四，您好！\n",
      "您的体重是：72.7kg\n",
      "您的身高是：1.77m\n",
      "您的bmi值为：23.205336908295827\n",
      "\n"
     ]
    }
   ],
   "source": [
    "# %s 转义符\n",
    "print('%s，您好！\\n您的体重是：%skg\\n您的身高是：%sm\\n您的bmi值为：%s\\n' % (name, weight, height, bmi))"
   ]
  },
  {
   "cell_type": "code",
   "execution_count": 26,
   "id": "b3794f64-ffa3-433f-b879-c64162fda912",
   "metadata": {},
   "outputs": [
    {
     "name": "stdout",
     "output_type": "stream",
     "text": [
      "59\n"
     ]
    }
   ],
   "source": [
    "string='%s，您好！\\n您的体重是：%skg\\n您的身高是：%sm\\n您的bmi值为：%s\\n' % (name, weight, height, bmi)\n",
    "print(len(string))"
   ]
  },
  {
   "cell_type": "code",
   "execution_count": 27,
   "id": "9346d6a9-28fb-4c2f-a49f-2b648956c466",
   "metadata": {},
   "outputs": [
    {
     "name": "stdout",
     "output_type": "stream",
     "text": [
      "李四，您好！\n",
      "您的体重是：72kg\n",
      "您的身高是：1m\n",
      "您的bmi值为：23\n",
      "\n"
     ]
    }
   ],
   "source": [
    "# %d 转义符\n",
    "print('%s，您好！\\n您的体重是：%dkg\\n您的身高是：%dm\\n您的bmi值为：%d\\n' % (name, weight, height, bmi))"
   ]
  },
  {
   "cell_type": "code",
   "execution_count": 28,
   "id": "b772517d-2e24-45f2-af1d-d57602189e3c",
   "metadata": {},
   "outputs": [
    {
     "name": "stdout",
     "output_type": "stream",
     "text": [
      "李四，您好！\n",
      "您的体重是：72.700000kg\n",
      "您的身高是：1.770000m\n",
      "您的bmi值为：23.205337\n",
      "\n"
     ]
    }
   ],
   "source": [
    "# %f 转义符\n",
    "print('%s，您好！\\n您的体重是：%fkg\\n您的身高是：%fm\\n您的bmi值为：%f\\n' % (name, weight, height, bmi))"
   ]
  },
  {
   "cell_type": "code",
   "execution_count": 29,
   "id": "c49f28a6-d17e-43a1-83eb-1990961cd0a0",
   "metadata": {},
   "outputs": [
    {
     "name": "stdout",
     "output_type": "stream",
     "text": [
      "b\n",
      "A\n",
      "w\n",
      "嗰\n",
      "嗻\n",
      "姚\n"
     ]
    }
   ],
   "source": [
    "# %c\n",
    "print('%c' % 'b')\n",
    "print('%c' % 65)  # A\n",
    "print('%c' % 119)  # w\n",
    "print('%c' % 22000)  # 嗰\n",
    "print('%c' % 22011)  # 嗻\n",
    "print('%c' % 23002)  # 姚"
   ]
  },
  {
   "cell_type": "code",
   "execution_count": 30,
   "id": "bc67aa03-90da-47e3-a5ce-ca2bb7488ed1",
   "metadata": {},
   "outputs": [
    {
     "name": "stdout",
     "output_type": "stream",
     "text": [
      "姚\n",
      "21016\n",
      "24187\n",
      "25307\n"
     ]
    }
   ],
   "source": [
    "print(chr(23002))  #  姚\n",
    "print(ord('刘'))  # 21016\n",
    "print(ord('幻'))  # 24187\n",
    "print(ord('招'))   # 25307"
   ]
  },
  {
   "cell_type": "code",
   "execution_count": 31,
   "id": "4db105a9-0614-418c-8f1b-23a7a0973639",
   "metadata": {},
   "outputs": [
    {
     "name": "stdout",
     "output_type": "stream",
     "text": [
      "大家好，我叫刘幻招，很高兴认识大家\n",
      "大家好，我叫刘幻招，很高兴认识大家\n"
     ]
    }
   ],
   "source": [
    "print('大家好，我叫%c%c%c，很高兴认识大家' % ('刘', '幻', '招'))\n",
    "print('大家好，我叫%c%c%c，很高兴认识大家' % (21016, 24187, 25307))"
   ]
  },
  {
   "cell_type": "code",
   "execution_count": 32,
   "id": "47b05422-6921-4748-8d11-6e7f8ea7d84e",
   "metadata": {},
   "outputs": [
    {
     "name": "stdout",
     "output_type": "stream",
     "text": [
      "十进制47转化为八进制是：57\n",
      "十进制47转化为十六进制是：2f\n"
     ]
    }
   ],
   "source": [
    "# %o, %x：把数据转化为八进制、十进制\n",
    "print('十进制%d转化为八进制是：%o' % (47,47))  # 十进制47转化为八进制是：57\n",
    "print('十进制%d转化为十六进制是：%x' % (47,47))  # 十进制47转化为十六进制是：2f"
   ]
  },
  {
   "cell_type": "code",
   "execution_count": 33,
   "id": "a9094122-aa7b-4d70-806c-1d886f5d0b2d",
   "metadata": {},
   "outputs": [
    {
     "name": "stdout",
     "output_type": "stream",
     "text": [
      "3141592653用科学计数法表示为：3.141593e+09\n",
      "3141592653用科学计数法表示为：3.141593E+09\n"
     ]
    }
   ],
   "source": [
    "# %e %E：把数据转为科学计数法\n",
    "print('%s用科学计数法表示为：%e' % (3141592653,3141592653))  # 3.141593e+09\n",
    "print('%s用科学计数法表示为：%E' % (3141592653,3141592653))  # 3.141593E+09"
   ]
  },
  {
   "cell_type": "code",
   "execution_count": 34,
   "id": "b141f010-b5b2-423a-8fbe-47bd48be1f96",
   "metadata": {},
   "outputs": [
    {
     "name": "stdout",
     "output_type": "stream",
     "text": [
      "314.1592653保留六位有效数字为：314.159\n",
      "314.1592653保留六位有效数字为：314.159\n"
     ]
    }
   ],
   "source": [
    "# %g, %G：保留六位有效数字\n",
    "# 有效数字：从第一个不为零的数字开始计算\n",
    "print('%s保留六位有效数字为：%g' % (314.1592653,314.1592653))  # 314.159\n",
    "print('%s保留六位有效数字为：%G' % (314.1592653,314.1592653))  # 314.159"
   ]
  },
  {
   "cell_type": "code",
   "execution_count": 35,
   "id": "a1de408e-5dff-48f6-8066-8b19942ee1f7",
   "metadata": {},
   "outputs": [
    {
     "name": "stdout",
     "output_type": "stream",
     "text": [
      "31415926.53保留六位有效数字为：3.14159e+07\n",
      "31415926.53保留六位有效数字为：3.14159E+07\n"
     ]
    }
   ],
   "source": [
    "print('%s保留六位有效数字为：%g' % (31415926.53,31415926.53))  # 3.141593e+07\n",
    "print('%s保留六位有效数字为：%G' % (31415926.53,31415926.53))  # 3.141593E+07"
   ]
  },
  {
   "cell_type": "code",
   "execution_count": 36,
   "id": "7b05b541-a57a-48bf-8fec-ce16116dbd9a",
   "metadata": {},
   "outputs": [
    {
     "name": "stdout",
     "output_type": "stream",
     "text": [
      "     3.142\n",
      "3.142\n",
      "3.14159\n",
      "3.14159\n",
      "    3.141593\n",
      "3.142      是PI\n",
      "    +3.142 是PI\n",
      "14\n",
      "1f\n",
      "1F\n",
      "0o14\n",
      "0x1f\n",
      "0X1F\n"
     ]
    }
   ],
   "source": [
    "# 辅助指令：\n",
    "PI = 3.141592653\n",
    "\n",
    "# 精确到小数点后三位最小显示总宽度为10\n",
    "# 3.142是5个字符，没有达到最小下限\n",
    "# 把3.142右对齐，左边填充5个空格\n",
    "print('%10.3f' % PI)   # '     3.142'\n",
    "\n",
    "# 如果字符数超出下限m, 则m不起作用\n",
    "print('%4.3f' % PI)   # '3.142'\n",
    "\n",
    "# .*为占位符，此处表示.n，n传入实参5，小数点后保留5位\n",
    "print('%.*f' % (5, PI)) # '3.14159'\n",
    "print('%.5f' % PI) # 3.14159  # 要求掌握这种用法\n",
    "\n",
    "# *为m，最小宽度为12，默认保留6位，前面填充4个空格\n",
    "print('%*f' % (12, PI))   # '    3.141593'\n",
    "\n",
    "# -：左对齐，右边加空格\n",
    "print('%-10.3f 是PI' % PI)   #  '3.142      是PI'\n",
    "\n",
    "# +：正数前面加正号\n",
    "print('%+10.3f 是PI' % PI)   # '     +3.142 是PI'\n",
    "\n",
    "# 八进制和十六进制\n",
    "print('%o' % 12) # '14'\n",
    "print('%x' % 31) # '1f'\n",
    "print('%X' % 31) # '1F'\n",
    "\n",
    "# # 加前缀\n",
    "print('%#o' % 12) # '0o14'\n",
    "print('%#x' % 31) # '0x1f'\n",
    "print('%#X' % 31) # '0X1F'"
   ]
  },
  {
   "cell_type": "markdown",
   "id": "ce6b732f-1647-4383-a7e8-0b85ad60fe4c",
   "metadata": {},
   "source": [
    "- <font color=blue>format格式化方法</font>\n",
    "    - 是字符串（str）类下定义的一个函数（方法）\n",
    "    - 方法的调用：string.format()\n",
    "    - 用{}表示占位符\n",
    "    - 辅助指令：\n",
    "        - ：：后面可以附带填充的字符，默认为空格\n",
    "        - ^、<、>、分别表示剧中、左对齐、右对齐、后面附带宽度限定值\n",
    "        - 使用b、d、o、x分别输出二进制、十进制、八进制、十六进制数字\n",
    "        - 使用逗号(,)输出金额的千分位分隔符\n",
    "        - 参数下标和关键字参数都写在冒号前面，辅助指令写在冒号后面"
   ]
  },
  {
   "cell_type": "code",
   "execution_count": 37,
   "id": "824368fe-6432-486d-89e7-00eb44bf54db",
   "metadata": {},
   "outputs": [
    {
     "name": "stdout",
     "output_type": "stream",
     "text": [
      "李四，您好！\n",
      "您的体重是：72.7kg\n",
      "您的身高是：1.77m\n",
      "您的bmi值为：23.205336908295827\n",
      "\n"
     ]
    }
   ],
   "source": [
    "print('{}，您好！\\n您的体重是：{}kg\\n您的身高是：{}m\\n您的bmi值为：{}\\n'.format(name, weight, height, bmi))"
   ]
  },
  {
   "cell_type": "code",
   "execution_count": 38,
   "id": "4e599171-73c4-4011-a939-953b75b1fb3e",
   "metadata": {},
   "outputs": [
    {
     "name": "stdout",
     "output_type": "stream",
     "text": [
      "李四，您好！\n",
      "您的体重是：72.7kg\n",
      "您的身高是：1.77m\n",
      "您的bmi值为：23.205336908295827\n",
      "\n"
     ]
    }
   ],
   "source": [
    "# 可以用参数的下标占位，参数可以不按出现顺序传入\n",
    "print('{1}，您好！\\n您的体重是：{0}kg\\n您的身高是：{2}m\\n您的bmi值为：{3}\\n'.format(weight,name, height, bmi))"
   ]
  },
  {
   "cell_type": "code",
   "execution_count": 39,
   "id": "62a75b03-55fc-4f1c-915f-0ec2e8ee247c",
   "metadata": {},
   "outputs": [
    {
     "name": "stdout",
     "output_type": "stream",
     "text": [
      "李四，您好！\n",
      "您的体重是：72.7kg\n",
      "您的身高是：1.77m\n",
      "您的bmi值为：23.205336908295827\n",
      "\n",
      "李四，您好！\n",
      "您的体重是：72.7kg\n",
      "您的身高是：72.7m\n",
      "您的bmi值为：23.205336908295827\n",
      "\n",
      "李四，您好！\n",
      "您的体重是：72.7kg\n",
      "您的身高是：72.7m\n",
      "您的bmi值为：23.205336908295827\n",
      "\n"
     ]
    }
   ],
   "source": [
    "# 可以传入关键字参数，根据关键字指定传入哪个实参\n",
    "print('{n}，您好！\\n您的体重是：{w}kg\\n您的身高是：{h}m\\n您的bmi值为：{bmi}\\n'.format(w=weight,n=name, h=height,bmi= bmi))\n",
    "\n",
    "# 可以重复使用：比如身高和体重一样，则传入一个数据两次\n",
    "print('{1}，您好！\\n您的体重是：{0}kg\\n您的身高是：{0}m\\n您的bmi值为：{3}\\n'.format(weight,name, height, bmi))\n",
    "print('{n}，您好！\\n您的体重是：{w}kg\\n您的身高是：{w}m\\n您的bmi值为：{bmi}\\n'.format(w=weight,n=name, h=height,bmi= bmi))"
   ]
  },
  {
   "cell_type": "code",
   "execution_count": 40,
   "id": "cecc0668-6914-4a69-a6a7-c69c3a21f50b",
   "metadata": {},
   "outputs": [
    {
     "name": "stdout",
     "output_type": "stream",
     "text": [
      "       1\n",
      "1       \n",
      "00000001\n",
      "aaaaaaa1\n",
      "3.14\n",
      "    3.14\n",
      "3.14    \n",
      "3.14aaaa\n",
      "1100100\n",
      "100\n",
      "144\n",
      "64\n"
     ]
    }
   ],
   "source": [
    "# 辅助指令\n",
    "# 参数下标和关键字参数都写在冒号前面，冒号后面都是辅助指令\n",
    "\n",
    "# 最小显示宽度为8，右对齐和左对齐\n",
    "print('{a:>8}'.format(a='1'))  # '       1'\n",
    "print('{a:<8}'.format(a='1'))  # '1       '\n",
    "\n",
    "# 前面填充0和a\n",
    "print('{:0>8}'.format('1')) # '00000001'\n",
    "print('{:a>8}'.format('1')) # 'aaaaaaa1'\n",
    "\n",
    "print('{:.2f}'.format(3.141592653))  # '3.14'\n",
    "print('{:8.2f}'.format(3.141592653))  # '    3.14'\n",
    "print('{:<8.2f}'.format(3.141592653))  # '3.14    '\n",
    "print('{:a<8.2f}'.format(3.141592653))  # '3.14aaaa'\n",
    "\n",
    "\n",
    "num = 100 # 64+32+2-->1000000+100000+100\n",
    "print('{:b}'.format(num))  # 1100100\n",
    "print('{:d}'.format(num))  # 100\n",
    "print('{:o}'.format(num))  # 144\n",
    "print('{:x}'.format(num))  # 64  #1100100-->01100100-->0110-->6+0100->4"
   ]
  },
  {
   "cell_type": "markdown",
   "id": "1896fb86-487f-4ec9-9cb5-25c77d9e1b2e",
   "metadata": {},
   "source": [
    "- <font color=blue>f-string格式化 （推荐使用）</font>\n",
    "    - Python 3.6新增\n",
    "    - 辅助指令和format方法一样"
   ]
  },
  {
   "cell_type": "code",
   "execution_count": 41,
   "id": "cc9afc2a-de78-4668-ac6f-b5770fd61b4e",
   "metadata": {},
   "outputs": [
    {
     "name": "stdout",
     "output_type": "stream",
     "text": [
      "李四，您好！\n",
      "您的体重是：72.7kg\n",
      "您的身高是：1.77m\n",
      "您的bmi值为：23.205336908295827\n",
      "\n"
     ]
    }
   ],
   "source": [
    "# f-string格式化\n",
    "print(f'{name}，您好！\\n您的体重是：{weight}kg\\n您的身高是：{height}m\\n您的bmi值为：{bmi}\\n')"
   ]
  },
  {
   "cell_type": "code",
   "execution_count": 42,
   "id": "ca2ba570-91a0-47ff-9d88-653a92b89f05",
   "metadata": {},
   "outputs": [
    {
     "name": "stdout",
     "output_type": "stream",
     "text": [
      "李四，您好！\\n您的体重是：72.7kg\\n您的身高是：1.77m\\n您的bmi值为：23.205336908295827\\n\n"
     ]
    }
   ],
   "source": [
    "# f和r一起使用：格式化，并不转义\n",
    "print(fr'{name}，您好！\\n您的体重是：{weight}kg\\n您的身高是：{height}m\\n您的bmi值为：{bmi}\\n')"
   ]
  },
  {
   "cell_type": "code",
   "execution_count": 43,
   "id": "eb0a7c19-38ac-4d9b-9fb2-06425b72634c",
   "metadata": {},
   "outputs": [
    {
     "name": "stdout",
     "output_type": "stream",
     "text": [
      "       1\n",
      "1       \n",
      "00000001\n",
      "aaaaaaa1\n",
      "3.14\n",
      "    3.14\n",
      "3.14    \n",
      "3.14aaaa\n",
      "1100100\n",
      "100\n",
      "144\n",
      "64\n"
     ]
    }
   ],
   "source": [
    "# 辅助指令\n",
    "# 参数下标和关键字参数都写在冒号前面，冒号后面都是辅助指令\n",
    "\n",
    "# 最小显示宽度为8，右对齐和左对齐\n",
    "c='1'\n",
    "print(f'{c:>8}')  # '       1'\n",
    "print(f'{c:<8}')  # '1       '\n",
    "\n",
    "# 前面填充0和a\n",
    "print(f'{c:0>8}') # '00000001'\n",
    "print(f'{c:a>8}') # 'aaaaaaa1'\n",
    "\n",
    "n=3.141592653\n",
    "print(f'{n:.2f}')  # '3.14'\n",
    "print(f'{n:8.2f}')  # '    3.14'\n",
    "print(f'{n:<8.2f}')  # '3.14    '\n",
    "print(f'{n:a<8.2f}')  # '3.14aaaa'\n",
    "\n",
    "\n",
    "num = 100 # 64+32+2-->1000000+100000+100\n",
    "print(f'{num:b}')  # 1100100\n",
    "print(f'{num:d}')  # 100\n",
    "print(f'{num:o}')  # 144\n",
    "print(f'{num:x}')  # 64  #1100100-->01100100-->0110-->6+0100->4"
   ]
  },
  {
   "cell_type": "markdown",
   "id": "da6924b6-4a60-48b4-9167-1ac8f2ba9e87",
   "metadata": {},
   "source": [
    "- ### <b>字符串3 -- 字符串对象方法</b>\n",
    "字符串类型下的定义的函数"
   ]
  },
  {
   "cell_type": "markdown",
   "id": "972d98d9-d4a3-4e81-bd8e-e1306662b4be",
   "metadata": {},
   "source": [
    "- <font color=blue>str.replace(old, new[, count])</font>\n",
    "    - 用新字符串替换旧字符串\n",
    "    - old：旧字符串\n",
    "    - new：新字符串\n",
    "    - count：要替换的最大次数，默认为-1，替换所有的能替换的\n",
    "    - 字符串类型是不可变的，所以修改的是复制体\n",
    "    - 返回修改后的新字符串\n",
    "      \n",
    "    <img src='img/replace.png' width=300>"
   ]
  },
  {
   "cell_type": "code",
   "execution_count": 44,
   "id": "05a8ae40-54e6-4e5e-b64f-8a22e0092a87",
   "metadata": {},
   "outputs": [
    {
     "name": "stdout",
     "output_type": "stream",
     "text": [
      "hello world\n",
      "heBBo worBd\n",
      "heBlo world\n",
      "🍎h🍎e🍎l🍎l🍎o🍎 🍎w🍎o🍎r🍎l🍎d🍎\n",
      "helBo worBd\n",
      "helBo worBd\n"
     ]
    }
   ],
   "source": [
    "string='hello world'\n",
    "# 将全部的'l'替换成'B'\n",
    "new_string=string.replace('l','B')\n",
    "print(string) # 原字符串没有发生改变\n",
    "print(new_string)  # hello world\n",
    "\n",
    "new_string=string.replace('l','B',1)\n",
    "print(new_string)   # heBlo world\n",
    "\n",
    "\n",
    "new_string=string.replace('','🍎') # 所有字符的前后都是空字符\n",
    "print(new_string)   # 🍎h🍎e🍎l🍎l🍎o🍎 🍎w🍎o🍎r🍎l🍎d🍎\n",
    "\n",
    "#将最后两个l替换成B\n",
    "str2=string[::-1]\n",
    "str3=str2.replace('l','B',2)\n",
    "str4=str3[::-1]\n",
    "print(str4)     # helBo worBd\n",
    "# 不用中间字符串，直接多次替换\n",
    "str5=(string[::-1].replace('l','B',2))[::-1]\n",
    "print(str5)     # helBo worBd"
   ]
  },
  {
   "cell_type": "markdown",
   "id": "7c39047a-ff1b-4aad-9c51-fb103ce6d0da",
   "metadata": {},
   "source": [
    "- <font color=blue>str.strip([chars])</font>\n",
    "    - 从字符互传左右两边删除指定的字符序列（会考虑chars的所有组合）\n",
    "    - chars: 指定要移除的字符序列，如果没有指定，则默认为移除<font color='red'><b>空字符</font></b>（<font color='red'>空格、换行符、制表符</font>等）\n",
    "    - chars不是stirngs，而是一个个独立的字符，移除str两边的chars中的任何一个或者任意组合。\n",
    "    - str.lstrp([chars])、str.rstrip([chars])也是同理，只不过一个是从左边删除，一个从右边删除而已。"
   ]
  },
  {
   "cell_type": "code",
   "execution_count": 45,
   "id": "e4b0fe33-27f5-4e9c-9484-aabcebdbc09d",
   "metadata": {},
   "outputs": [
    {
     "name": "stdout",
     "output_type": "stream",
     "text": [
      "hello world\n",
      "ello world\n",
      "llo worl\n",
      "o wor\n",
      "\\n \\t he\\tll o el\\n\\nhd world \\t\n"
     ]
    }
   ],
   "source": [
    "string='\\thello world\\n'\n",
    "print(string.strip())       # hello world\n",
    "\n",
    "string='hello world'\n",
    "print(string.strip('h'))    # ello world\n",
    "\n",
    "# 移除字符串前后的'h''e''d'或者组合\n",
    "print(string.strip('hed'))  # 'llo worl'\n",
    "\n",
    "print(string.strip('elhd'))   # o wor\n",
    "\n",
    "# raw字符的\\n和\\t不移除，只移除空格\n",
    "string=r' \\n \\t he\\tll o el\\n\\nhd world \\t'  # \\n \\t he\\tll o el\\n\\nhd world \\t\n",
    "\n",
    "print(string.strip())"
   ]
  },
  {
   "cell_type": "markdown",
   "id": "841890c4-2295-48c7-925f-15127592e858",
   "metadata": {},
   "source": [
    "- <font color=blue>str.center(width[,fillchar])</font>\n",
    "    - width: 指定字符串长度\n",
    "    - fillchar: 填充的字符，必须是单个字符，默认为空格\n",
    "    - 返回长度为width的字符串，原字符串在其正中，使用指定的fillchar填充两边的空格：如果width小于等于len(s)则返回原字符串。\n",
    "    - 当作有填充不平衡时，原字符串长度为奇数时，左边填充的更少，原字符串长度为偶数时，左边填充更多。"
   ]
  },
  {
   "cell_type": "markdown",
   "id": "d3f94b82-6ebb-46a0-8c93-dc041a86d3e6",
   "metadata": {},
   "source": [
    "- <font color=blue>str.ljust(width[,fillchar])</font>\n",
    "    - width: 指定字符串长度\n",
    "    - fillchar: 填充的字符，必须是单个字符，默认为空格\n",
    "    - 返回长度为width的字符串，原字符串在其中靠左对齐，使用指定的fillchar填充两边的空格：如果width小于等于len(s)则返回原字符串。\n",
    "    - <font color=blue>str.ljust(width[,fillchar])</font>也是同理，只不过原字符串在其中靠右对齐。"
   ]
  },
  {
   "cell_type": "code",
   "execution_count": 46,
   "id": "ec4d7e9b-b307-434c-b712-6b20f5db9deb",
   "metadata": {},
   "outputs": [
    {
     "name": "stdout",
     "output_type": "stream",
     "text": [
      "    hello world     \n",
      "🍎🍎🍎🍎hello world🍎🍎🍎🍎🍎\n",
      "🍎🍎secur🍎🍎🍎\n",
      "🍎🍎secure🍎\n"
     ]
    }
   ],
   "source": [
    "string='hello world'\n",
    "print(string.center(20))  # '    hello world     '\n",
    "print(string.center(20,'🍎'))   # '🍎🍎🍎🍎hello world🍎🍎🍎🍎🍎'\n",
    "\n",
    "# 奇数的字符串居中后右边空字符多\n",
    "string='secur'\n",
    "print(string.center(10,'🍎'))   # ‘🍎🍎secur🍎🍎🍎’\n",
    "\n",
    "# 偶数的字符串居中后右边空字符多\n",
    "string='secure'\n",
    "print(string.center(9,'🍎'))   # ‘🍎🍎secure🍎’"
   ]
  },
  {
   "cell_type": "markdown",
   "id": "4b02f3bf-e71c-40c2-a89f-a5efc50e2eeb",
   "metadata": {},
   "source": [
    " 举例：打印：\n",
    "\n",
    " <img src='img/center.png' width=300>"
   ]
  },
  {
   "cell_type": "code",
   "execution_count": 47,
   "id": "60d03e8f-e8f8-4122-99f5-08d01dad735d",
   "metadata": {},
   "outputs": [
    {
     "name": "stdout",
     "output_type": "stream",
     "text": [
      "   ^   \n",
      "  ^^^  \n",
      " ^^^^^ \n",
      "^^^^^^^\n",
      "      ^\n",
      "    ^^^\n",
      "  ^^^^^\n",
      "^^^^^^^\n"
     ]
    }
   ],
   "source": [
    "print('^'.center(7))\n",
    "print('^^^'.center(7))\n",
    "print('^^^^^'.center(7))\n",
    "print('^^^^^^^'.center(7))\n",
    "\n",
    "# 直角三角形\n",
    "print('^'.rjust(7))\n",
    "print('^^^'.rjust(7))\n",
    "print('^^^^^'.rjust(7))\n",
    "print('^^^^^^^'.rjust(7))"
   ]
  },
  {
   "cell_type": "markdown",
   "id": "56eb1e5d-1378-4922-9699-9e5b416a4d1a",
   "metadata": {},
   "source": [
    "- <font color=blue>str.partition(sep)</font>\n",
    "    - sep：分隔符，可以是字符或者字符串\n",
    "    - 在sep<font color=red>首次出现的位置</font>拆分字符串，返回一个包含三个元素的元组，元素分别是分隔符之前的部分、分隔符本身、以及分隔符之后的部分。如果分隔符未找到，则返回的元组包含原字符串本身以及两个空字符串。\n",
    "    - <font color=blue>str.rpartition(sep)</font>也是同理，只不过时从最后一次出现的位置拆分：未找到分隔符则返回的元组包含两个字符串以及原字符串本身，其他一样。"
   ]
  },
  {
   "cell_type": "code",
   "execution_count": 48,
   "id": "46994c8f-2fb8-4159-96c9-b20953742b79",
   "metadata": {},
   "outputs": [
    {
     "name": "stdout",
     "output_type": "stream",
     "text": [
      "('he', 'l', 'lo world')\n",
      "('hel', 'lo', ' world')\n",
      "('hello world', '', '')\n",
      "('hello wor', 'l', 'd')\n",
      "('hel', 'lo', ' world')\n",
      "('', '', 'hello world')\n"
     ]
    }
   ],
   "source": [
    "string='hello world'\n",
    "# 从左到右，找到第一个'l'，然后进行分割\n",
    "print(string.partition('l'))     # ('he', 'l', 'lo world')\n",
    "\n",
    "print(string.partition('lo'))     # ('hel', 'lo', ' world')\n",
    "\n",
    "# 如果分隔符不存在，则返回（原字符串,'','')\n",
    "print(string.partition('ab'))     # ('hello world', '', '')\n",
    "\n",
    "# rpartition是从右往左找到第一个分隔符，进行分割\n",
    "print(string.rpartition('l'))     # ('hello wor', 'l', 'd')\n",
    "print(string.rpartition('lo'))     # ('hel', 'lo', ' world')\n",
    "\n",
    "# 如果分隔符不存在，则返回（‘’，‘’，原字符串）\n",
    "print(string.rpartition('ol'))     # ('', '', 'hello world')"
   ]
  },
  {
   "cell_type": "markdown",
   "id": "7dfe2a0f-660c-44e1-a57a-b1c399431cd3",
   "metadata": {},
   "source": [
    "- <font color=blue>str.stratswith(prefix[,start[,end[]])</font>\n",
    "    - prefix: 匹配的前缀，可以是字符、字符串或者他们组成的元组（元组中只要一个元素满足即可）\n",
    "    - start: 开始索引，默认为0\n",
    "    - end：结束索引，默认为len(end)\n",
    "    - 如果字符串以指定的prefix开始，则返回True，否则返回False：如果有可选项start，将从所指定的位置开始检查：如果有可选项end，将在所指定的位置停止比较。"
   ]
  },
  {
   "cell_type": "code",
   "execution_count": 49,
   "id": "9f38bef9-4ca0-4474-ab5f-fe560968a894",
   "metadata": {},
   "outputs": [
    {
     "name": "stdout",
     "output_type": "stream",
     "text": [
      "True\n",
      "True\n",
      "True\n",
      "True\n",
      "False\n",
      "True\n"
     ]
    }
   ],
   "source": [
    "string='hello world'\n",
    "print(string.startswith('h'))         # True\n",
    "print(string.startswith('hel'))         # True\n",
    "\n",
    "# 以元组中的任何一个元素开头则返回True\n",
    "print(string.startswith(('lo','wo','h')))         # True\n",
    "\n",
    "# string.startswith(prefix, start, end), start和end\n",
    "print(string.startswith('wo',6))     # True\n",
    "\n",
    "print(string.startswith('wo',6,7))  # False\n",
    "print(string.startswith('wo',6,8))  # True"
   ]
  },
  {
   "cell_type": "markdown",
   "id": "2dbb80a5-d522-4343-b4ee-14db7359bd3b",
   "metadata": {},
   "source": [
    "- <font color=blue>str.endswith(suffix[,start[,end[]])</font>\n",
    "    - suffix: 匹配的后缀，可以是字符、字符串或者他们组成的元组（元组中只要一个元素满足即可）\n",
    "    - start: 开始索引\n",
    "    - end：结束索引\n",
    "    - 如果字符串以指定的suffix结束，则返回True，否则返回False：如果有可选项start，将从所指定的位置开始检查：如果有可选项end，将在所指定的位置停止比较。"
   ]
  },
  {
   "cell_type": "markdown",
   "id": "59909c8d-465b-4696-b423-d12f4b17ca3e",
   "metadata": {},
   "source": [
    "- <font color=blue>str.isalnum()</font>\n",
    "    - 判定字符串中的所有字符是否都是字母、文字或数字，返回bool值"
   ]
  },
  {
   "cell_type": "markdown",
   "id": "4c36a117-2b2f-4b3a-acf2-db240d59476b",
   "metadata": {},
   "source": [
    "- <font color=blue>str.isalpha()</font>\n",
    "    - 判定字符串中的所有字符是否都是字母或文字，返回bool值"
   ]
  },
  {
   "cell_type": "markdown",
   "id": "0d76d1e6-71bb-460b-a4e3-481420af5abe",
   "metadata": {},
   "source": [
    "- <font color=blue>str.isdigit()</font>\n",
    "    - 判定字符串中的所有字符是否都是数字，返回bool值"
   ]
  },
  {
   "cell_type": "markdown",
   "id": "08748cb5-f07f-457e-aa93-d30b33087a01",
   "metadata": {},
   "source": [
    "- <font color=blue>str.isspace()</font>\n",
    "    - 判定字符串中的所有字符是否都是<font color='red'><b>空字符</font></b>（<font color='red'>空格、换行符、制表符</font>等），返回bool值"
   ]
  },
  {
   "cell_type": "code",
   "execution_count": 50,
   "id": "e905dfc3-a161-4dca-9bab-5924d2a789dc",
   "metadata": {},
   "outputs": [
    {
     "name": "stdout",
     "output_type": "stream",
     "text": [
      "False\n",
      "True\n",
      "True\n",
      "True\n",
      "False\n"
     ]
    }
   ],
   "source": [
    "string='hello world'\n",
    "print(string.isalpha())    # False：还有空格\n",
    "\n",
    "string='helloworld你好世界Bonjourこんにちは안녕하세요'\n",
    "print(string.isalpha())    # True\n",
    "\n",
    "string='helloworld你好世界Bonjourこんにちは안녕하세요12'  \n",
    "print(string.isalnum())   # True\n",
    "\n",
    "string='123'\n",
    "print(string.isdigit())    # True\n",
    "string='-123'\n",
    "print(string.isdigit())    # False : 一个一个字符进行判断"
   ]
  },
  {
   "cell_type": "markdown",
   "id": "73e9156d-6d81-4ad4-965f-09e9d564c313",
   "metadata": {},
   "source": [
    "- <font color=blue>str.split(sep=None, maxsplit=-1)</font>\n",
    "    - 通过指定分隔符对字符串进行分割，返回字符串列表（分割结果不包括分隔符）\n",
    "    - sep: 用于分隔字符串的分隔符，默认为所有的空白符（空格、换行、制表符等），并丢弃结果中的空字符串。\n",
    "    - maxsplit：最大分隔次数，默认为-1，即分隔所有\n",
    "    - <font color=blue>str.rsplit(sep=None, maxsplit=-1)</font>也是同理，只不过是maxsplit从右边开始"
   ]
  },
  {
   "cell_type": "markdown",
   "id": "5b2df709-f827-45ce-b6d6-d1c6906cdb7e",
   "metadata": {},
   "source": [
    "<img src='img/split.png' width=300>"
   ]
  },
  {
   "cell_type": "code",
   "execution_count": 51,
   "id": "fb3edf98-f01d-4c91-a7cf-e1ec1ed33fe3",
   "metadata": {},
   "outputs": [
    {
     "name": "stdout",
     "output_type": "stream",
     "text": [
      "['he', '', 'o wor', 'd']\n"
     ]
    }
   ],
   "source": [
    "string='hello world'\n",
    "print(string.split('l'))   # ['he', '', 'o wor', 'd']"
   ]
  },
  {
   "cell_type": "code",
   "execution_count": 52,
   "id": "fb69c011-ef0c-4dea-ba3d-83e7a604d854",
   "metadata": {},
   "outputs": [
    {
     "name": "stdout",
     "output_type": "stream",
     "text": [
      "['hel', ' world']\n",
      "['he', '', 'o world']\n",
      "['hello worl', '']\n"
     ]
    }
   ],
   "source": [
    "string='hello world'\n",
    "print(string.split('lo'))   # ['hel', ' world']\n",
    "print(string.split('l',2))   # ['he', '', 'o world'] ：从左到右找两个，返回三个字符\n",
    "print(string.split('d'))   # ['hello worl', '']\n",
    "# 默认为分隔空格符"
   ]
  },
  {
   "cell_type": "markdown",
   "id": "cc19323e-8c76-406c-8d64-da853c562781",
   "metadata": {},
   "source": [
    "<img src='img/split_1.png' width=400>"
   ]
  },
  {
   "cell_type": "code",
   "execution_count": 53,
   "id": "79bce472-600d-4b7d-9cdc-0072b9a8d80d",
   "metadata": {},
   "outputs": [
    {
     "name": "stdout",
     "output_type": "stream",
     "text": [
      "['', 'Line1-abcdef', '', '\\nLine2-abc', '\\nLine4-abcd']\n"
     ]
    }
   ],
   "source": [
    "string=' Line1-abcdef  \\nLine2-abc \\nLine4-abcd'\n",
    "print(string.split(' '))   # ['', 'Line1-abcdef', '', '\\nLine2-abc', '\\nLine4-abcd']"
   ]
  },
  {
   "cell_type": "markdown",
   "id": "1df41dcb-3c22-4abc-a929-cede90e564c3",
   "metadata": {},
   "source": [
    "<img src='img/split_2.png' width=400>"
   ]
  },
  {
   "cell_type": "code",
   "execution_count": 54,
   "id": "f038176f-0c7d-4a8a-8648-d11d3b8df1b0",
   "metadata": {},
   "outputs": [
    {
     "name": "stdout",
     "output_type": "stream",
     "text": [
      "['Line1-abcdef', 'Line2-abc', 'Line4-abcd']\n"
     ]
    }
   ],
   "source": [
    "# 使用默认分隔符时，结果中的空字符串会被丢弃\n",
    "string=' Line1-abcdef  \\nLine2-abc \\nLine4-abcd'\n",
    "print(string.split())      # ['Line1-abcdef', 'Line2-abc', 'Line4-abcd'] "
   ]
  },
  {
   "cell_type": "code",
   "execution_count": 55,
   "id": "5046ca13-6073-4fec-96b4-a4592d8af456",
   "metadata": {},
   "outputs": [
    {
     "name": "stdout",
     "output_type": "stream",
     "text": [
      "['he', '', 'o wor', 'd']\n",
      "['he', '', 'o wor', 'd']\n",
      "['he', '', 'o world']\n",
      "['hel', 'o wor', 'd']\n"
     ]
    }
   ],
   "source": [
    "# rsplit和split的结果一般一样\n",
    "string='hello world'\n",
    "print(string.split('l'))   # ['he', '', 'o wor', 'd']\n",
    "print(string.rsplit('l'))   # ['he', '', 'o wor', 'd']\n",
    "\n",
    "# rsplit和split只有指定maxsplit时，结果可能不一样\n",
    "print(string.split('l', 2))   # ['he', '', 'o world']\n",
    "print(string.rsplit('l', 2))   # ['hel', 'o wor', 'd']"
   ]
  },
  {
   "cell_type": "markdown",
   "id": "7aacd093-8bda-4735-8802-52cb1e4c3406",
   "metadata": {},
   "source": [
    "- <font color=blue>str.join(iterable)</font>\n",
    "    - iterable:\n",
    "        - 可迭代对象\n",
    "        - 除了数字以外，其他基础类型(<font color=red>String</font>, <font color=red>List</font>, <font color=red>Tuple</font>, <font color=red>Dictionary</font>和<font color=red>Set</font>)都是<font color=red>可迭代对象</font>\n",
    "        - 包括string、split、tuple、dict、set等等\n",
    "    - 将可迭代对象中的<font color=red>元素</font>（元素必须是字符串类型）以指定的字符串连接，返回新的字符串\n",
    "        - 如果一个操作要求传入可迭代对象，通常是对可迭代对象的元素进行操作"
   ]
  },
  {
   "cell_type": "code",
   "execution_count": 56,
   "id": "6e00b759-6f9e-4c94-be9d-5f264b01deee",
   "metadata": {},
   "outputs": [
    {
     "name": "stdout",
     "output_type": "stream",
     "text": [
      "🍎h🍎e🍎l🍎l🍎o🍎 🍎w🍎o🍎r🍎l🍎d🍎\n",
      "h🍎e🍎l🍎l🍎o🍎 🍎w🍎o🍎r🍎l🍎d\n",
      "h-e-l-l-o- -w-o-r-l-d\n",
      "1^V^2^V^3^V^4\n"
     ]
    }
   ],
   "source": [
    "string='hello world'\n",
    "# 用replace空格的方法拼接字符串，字符串两头也将加入str。\n",
    "print(string.replace('','🍎'))  # '🍎h🍎e🍎l🍎l🍎o🍎 🍎w🍎o🍎r🍎l🍎d🍎'\n",
    "print('🍎'.join(string))    # 'h🍎e🍎l🍎l🍎o🍎 🍎w🍎o🍎r🍎l🍎d'\n",
    "print('-'.join(string))    # 'h-e-l-l-o- -w-o-r-l-d'\n",
    "\n",
    "lst=['1','2','3','4']\n",
    "print('^V^'.join(lst))    # 1^V^2^V^3^V^4"
   ]
  },
  {
   "cell_type": "markdown",
   "id": "b7b6413c-c857-467c-987a-7d91c1025189",
   "metadata": {},
   "source": [
    "- <font color=blue>str.count(sub,[start[,end]])</font>\n",
    "    - sub: 指定的子字符串\n",
    "    - start: 字符串开始搜索的位置索引，默认为0\n",
    "    - end: 字符串中结束搜索的位置索引（不包括在[start:end]的切片里），默认为len(str)\n",
    "    - 返回子字符串在字符串中出现的<font color=red>非重叠</font>的次数（默认为全局搜索）"
   ]
  },
  {
   "cell_type": "code",
   "execution_count": 57,
   "id": "eb0892d4-79a2-4894-9821-00c8f7307e55",
   "metadata": {},
   "outputs": [
    {
     "name": "stdout",
     "output_type": "stream",
     "text": [
      "3\n",
      "1\n",
      "0\n",
      "2\n",
      "1\n",
      "2\n"
     ]
    }
   ],
   "source": [
    "string='hello world'\n",
    "print(string.count('l'))   # 3\n",
    "print(string.count('lo'))   # 1\n",
    "print(string.count('ol'))   # 0\n",
    "\n",
    "string='llll'\n",
    "print(string.count('ll'))   # 2  返回非重叠的次数\n",
    "\n",
    "string='hello world'\n",
    "print(string.count('l', 5))   # 1\n",
    "print(string.count('l', 2, 6))   # 2"
   ]
  },
  {
   "cell_type": "markdown",
   "id": "f8038bbe-06a1-4bcf-9c23-fbdf698495d7",
   "metadata": {},
   "source": [
    "- <font color=blue>str.find(sub,[start[,end]])</font>\n",
    "    - 返回从<font color=red>左</font>开始第一次找到指定子字符串时的索引，找不到就返回-1\n",
    "    - sub: 指定子字符串\n",
    "    - start：字符串开始搜索的位置索引，默认为0\n",
    "    - end: 字符串中结束搜索的位置索引（不包括在[start:end]的切片里），默认为len(str)\n",
    "    - 注意：返回索引时，是返回原字符串中的索引值\n",
    "      \n",
    "- <font color=blue>str.rfind(sub,[start[,end]])</font>\n",
    "    - 返回从<font color=red>右</font>开始第一次找到指定子字符串时的索引，找不到就返回-1\n",
    "- <font color=blue>str.index(sub,[start[,end]])</font>\n",
    "    - 类似<font color=blue>find()</font>，唯一不同在于，找不到就会报错，其他都一样。\n",
    "- <font color=blue>str.rindex(sub,[start[,end]])</font>\n",
    "    - 类似<font color=blue>rfind()</font>，唯一不同在于，找不到就会报错，其他都一样。\n",
    " "
   ]
  },
  {
   "cell_type": "code",
   "execution_count": 58,
   "id": "8eccda84-7af3-45df-a394-1ba93560b891",
   "metadata": {},
   "outputs": [
    {
     "name": "stdout",
     "output_type": "stream",
     "text": [
      "2\n",
      "3\n",
      "-1\n",
      "-1\n",
      "9\n"
     ]
    }
   ],
   "source": [
    "string='hello world'\n",
    "print(string.find('l'))   # 2\n",
    "print(string.find('lo'))   # 3\n",
    "print(string.find('ol'))   # -1\n",
    "print(string.find('l',4,9))   # -1\n",
    "print(string.find('l',4,10))   # 9"
   ]
  },
  {
   "cell_type": "code",
   "execution_count": 59,
   "id": "693f5cb4-6ad2-42ab-b1c7-b68661bc7eaf",
   "metadata": {},
   "outputs": [
    {
     "name": "stdout",
     "output_type": "stream",
     "text": [
      "9\n",
      "3\n",
      "-1\n",
      "-1\n",
      "9\n"
     ]
    }
   ],
   "source": [
    "print(string.rfind('l'))   # 9\n",
    "print(string.rfind('lo'))   # 3\n",
    "print(string.rfind('ol'))   # -1\n",
    "print(string.rfind('l',4,9))   # -1\n",
    "print(string.rfind('l',4,10))   # 9"
   ]
  },
  {
   "cell_type": "code",
   "execution_count": 60,
   "id": "723a340e-13cf-4d26-8cbe-90815cee8872",
   "metadata": {},
   "outputs": [],
   "source": [
    "# print(string.inex('ol'))   # AttributeError: 'str' object has no attribute 'inex'\n"
   ]
  },
  {
   "cell_type": "markdown",
   "id": "73fa935a-3848-4e91-b1dc-7953cd8813f5",
   "metadata": {},
   "source": [
    "- <font color=blue>str.capitalize()</font>\n",
    "    - 见字符串的首字母变成大写，其他字母变小写，并返回\n",
    "- <font color=blue>str.title()</font>\n",
    "    - 见字符串中所有单词的首字母变成大写，其他字母变小写，并返回\n",
    "    - 判定单词的方法：连续的字母看成是一个单词\n",
    "- <font color=blue>str.upper()</font>\n",
    "    - 见字符串中所有字符变成大写，并返回\n",
    "- <font color=blue>str.lower()</font>\n",
    "    - 见字符串中所有字符变成小写，并返回\n",
    "- <font color=blue>str.swapcase()</font>\n",
    "    - 见字符串中所有大写字符变成小写，小写变成大写，并返回"
   ]
  },
  {
   "cell_type": "code",
   "execution_count": 61,
   "id": "337f4fca-a20b-452e-bcbb-446c23e1b5ff",
   "metadata": {},
   "outputs": [
    {
     "name": "stdout",
     "output_type": "stream",
     "text": [
      "你hel lo wo r+ld 好\n",
      "你Hel Lo Wo R+Ld 好\n",
      "你HEL LO WO R+LD 好\n",
      "你hel lo wo r+ld 好\n",
      "你HeL LO WO r+ld 好\n"
     ]
    }
   ],
   "source": [
    "string='你hEl lo wo R+LD 好'\n",
    "print(string.capitalize())   # '你hel lo wo r+ld 好'\n",
    "print(string.title())   # '你Hel Lo Wo R+Ld 好' : 连续的字母看成是一个单词\n",
    "print(string.upper())   # '你HEL LO WO R+LD 好'\n",
    "print(string.lower())   # '你hel lo wo r+ld 好'\n",
    "print(string.swapcase())   # '你HeL LO WO r+ld 好'"
   ]
  },
  {
   "cell_type": "markdown",
   "id": "986ac99b-52c0-4e4f-8188-7744de854e4a",
   "metadata": {},
   "source": [
    "- ### <b>列表1(List)</b>\n",
    "    - List是可变的，它是序列 (可以索引和切片）\n",
    "    - 在方括号中添加元素，并使用逗号隔开\n",
    "    - 列表只是对元素进行了引用（python中全是指针）\n",
    "    - 列表的元素是有顺序的，但是其中的数据元素在内存中不是连续放置的，而是随机开辟空间，随机存放的\n",
    "      \n",
    "    <img src='img\\list_1.png' width=500>"
   ]
  },
  {
   "cell_type": "code",
   "execution_count": 62,
   "id": "e07d2c0b-7c6c-45a0-ba66-ed4310b6d803",
   "metadata": {},
   "outputs": [
    {
     "name": "stdout",
     "output_type": "stream",
     "text": [
      "<class 'list'>\n",
      "world\n",
      "[[1357, 789], 'world', (5+6j), False, 5.67, 345]\n"
     ]
    }
   ],
   "source": [
    "lst=[345, 5.67, False, 5+6j, 'world', [1357, 789]]\n",
    "print(type(lst))    # <class 'list'>\n",
    "print(lst[-2])  # world\n",
    "print(lst[::-1])   # [[1357, 789], 'world', (5+6j), False, 5.67, 345]\n",
    "\n",
    "item1 =345\n",
    "item2 =5.67\n",
    "lst=[item1, item2, False, 5+6j, 'world', [1357, 789]]"
   ]
  },
  {
   "cell_type": "markdown",
   "id": "ce699158-56e5-4e91-a012-8789edb872cf",
   "metadata": {},
   "source": [
    "- <font color=blue>修改列表</font>\n",
    "    - 列表是<font color=red>可变的(mutable)</font>，所以我们可以通过索引和切片的方使来对列表的元素进行修改。\n",
    "    - lst[index]=object\n",
    "    - 批量操作可以利用切片的方式\n",
    "        - lst[start: end: step] = iterable\n",
    "        - 列表可以进行自动内存（伸缩）管理，2个位置可以放入三个新元素, 如：list[1:3]='abcd'\n",
    "      \n",
    "    <img src='img\\list_2.png' width=500>"
   ]
  },
  {
   "cell_type": "code",
   "execution_count": 63,
   "id": "33d7207b-db0a-48f5-857a-46630eead529",
   "metadata": {},
   "outputs": [
    {
     "name": "stdout",
     "output_type": "stream",
     "text": [
      "[345, 5.67, False, (5+6j), 'world', [1357, 789]] id: 2373134243776\n",
      "[345, 5.67, True, (5+6j), 'world', [1357, 789]] id: 2373134243776\n",
      "[345, 5.67, True, (5+6j), 'world', 'hello']\n",
      "[345, 5.67, 'a', 'b', 'world', 'hello']\n",
      "[345, 5.67, 'a', 'b', 'c', 'world', 'hello']\n",
      "[345, 5.67, 'abc', 'c', 'world', 'hello']\n",
      "[345, 5.67, True, (5+6j), 'world', [1357, 789]]\n",
      "[345, 567, True, 56, 'world', [1357, 789]]\n"
     ]
    }
   ],
   "source": [
    "# 列表是可变的，所以可以进行inplace操作(原地操作）\n",
    "lst=[345, 5.67, False, 5+6j, 'world', [1357, 789]]\n",
    "print(lst, 'id:',id(lst))  # [345, 5.67, False, (5+6j), 'world', [1357, 789]] id: 2691002095744\n",
    "\"\"\" lst[index]=object \"\"\"\n",
    "lst[2]=True\n",
    "print(lst,'id:',id(lst))   # [345, 5.67, True, (5+6j), 'world', [1357, 789]] id: 2691002095744\n",
    "\n",
    "lst[-1]='hello'  \n",
    "print(lst)  # [345, 5.67, True, (5+6j), 'world', 'hello']\n",
    "\n",
    "# 批量操作可以利用切片的方式\n",
    "\"\"\"  lst[start: end: step] = iterable \"\"\"\n",
    "# lst[2:4]=['a','b']  \n",
    "lst[2:4]='ab'  \n",
    "lst[2:4]='a','b'  # 用元组的元素进行修改\n",
    "print(lst)    # [345, 5.67, 'a', 'b', 'world', 'hello']\n",
    "\n",
    "# 列表可以进行自动内存（伸缩）管理，2个位置可以放入三个新元素\n",
    "lst[2:4]='abc'   \n",
    "print(lst)   # [345, 5.67, 'a', 'b', 'c', 'world', 'hello']\n",
    "\n",
    "# 多个位置可以只放入一个新元素\n",
    "lst[2:4]=['abc']  \n",
    "print(lst)   # [345, 5.67, 'abc', 'c', 'world', 'hello']\n",
    "\n",
    "# 用切片替换后一个元素，一个元素也需要表示为一维的（方括号括起来）\n",
    "lst=[345, 5.67, False, 5+6j, 'world', [1357, 789]]\n",
    "lst[2:3]= [True]\n",
    "print(lst)   # [345, 5.67, True, (5+6j), 'world', [1357, 789]]\n",
    "\n",
    "# 换掉第二个和第四个元素\n",
    "# 如果步长大于1，元素不是连续的，替换的元素个数与原切片的元素个数应该一样\n",
    "lst=[345, 5.67, True, (5+6j), 'world', [1357, 789]]\n",
    "lst[1:4:2]=[567,56]\n",
    "print(lst)    # [345, 567, True, 56, 'world', [1357, 789]]"
   ]
  },
  {
   "cell_type": "markdown",
   "id": "447e1568-5611-4a6a-824f-070ddce8638d",
   "metadata": {},
   "source": [
    "- <font color=blue>删除</font>\n",
    "    - 利用列表的多个位置可以只放入一个新元素的特性，可以对列表元素进行删除\n",
    "    - lst[index:index]=[]\n",
    "    - lst[start:end:step]=[]"
   ]
  },
  {
   "cell_type": "code",
   "execution_count": 64,
   "id": "00da3689-ebd9-4f7b-900e-19180737845c",
   "metadata": {},
   "outputs": [
    {
     "name": "stdout",
     "output_type": "stream",
     "text": [
      "[345, 567, 'world', [1357, 789]]\n"
     ]
    }
   ],
   "source": [
    "# 删除\n",
    "lst[2:4]=[]  \n",
    "print(lst)   # [345, 5.67, 'world', 'hello']，删掉了下标为2,3的元素"
   ]
  },
  {
   "cell_type": "markdown",
   "id": "a43cd509-4dfc-466f-b700-98fabdd45355",
   "metadata": {},
   "source": [
    "- <font color=blue>插入和追加</font>\n",
    "    - 插入：lst[index:index]=object\n",
    "    - 追加：lst[len(lst):len(lst)]=object\n",
    "    \n",
    "    <img src='img\\list_3.png' width=500>\n"
   ]
  },
  {
   "cell_type": "code",
   "execution_count": 65,
   "id": "205d48fa-8ba0-4dca-9d20-2b6fd5eb5d50",
   "metadata": {},
   "outputs": [
    {
     "name": "stdout",
     "output_type": "stream",
     "text": [
      "['h', 'e', 'l', 'l', 'o', 345, 5.67, True, (5+6j), 'world', [1357, 789]]\n",
      "[345, 5.67, True, (5+6j), 'world', [1357, 789], 'h', 'e', 'l', 'l', 'o']\n"
     ]
    }
   ],
   "source": [
    "# 插入\n",
    "lst=[345, 5.67, True, (5+6j), 'world', [1357, 789]]\n",
    "lst[0:0]='hello'\n",
    "print(lst)  # ['h', 'e', 'l', 'l', 'o', 345, 5.67, True, (5+6j), 'world', [1357, 789]]\n",
    "\n",
    "# 追加\n",
    "lst=[345, 5.67, True, (5+6j), 'world', [1357, 789]]\n",
    "# lst[len(lst):len(lst)]='hello'\n",
    "lst[len(lst):]='hello'\n",
    "print(lst)  # [345, 5.67, True, (5+6j), 'world', [1357, 789], 'h', 'e', 'l', 'l', 'o']"
   ]
  },
  {
   "cell_type": "markdown",
   "id": "11f046ea-c7c5-4a10-9306-3db8938f4a3d",
   "metadata": {},
   "source": [
    "- <font color=blue>封包</font>\n",
    "    - 当多个对象同时赋值给同一个变量时，这些对象会自动打包成一个元组"
   ]
  },
  {
   "cell_type": "code",
   "execution_count": 66,
   "id": "d1713ced-2fcd-4358-bae6-79df2f2e7c70",
   "metadata": {},
   "outputs": [
    {
     "name": "stdout",
     "output_type": "stream",
     "text": [
      "(1, 2, 3, 4)\n",
      "(1, 2)\n",
      "(1,)\n",
      "hello\n",
      "[345, 5.67, 'a', 'b', 'world', [1357, 789]]\n",
      "['h', 'e', 'l', 'l', 'o', 345, 5.67, True, (5+6j), 'world', [1357, 789]]\n",
      "['hello', 345, 5.67, True, (5+6j), 'world', [1357, 789]]\n"
     ]
    }
   ],
   "source": [
    "a=1,2,3,4\n",
    "print(a)   # (1, 2, 3, 4)\n",
    "\n",
    "a=1,2\n",
    "print(a)   #(1, 2)\n",
    "\n",
    "# 一个元组只有一个元素时，后面的逗号不能省略\n",
    "a=1,\n",
    "print(a)   # (1,)\n",
    "\n",
    "# 不加逗号，一个元素不是元组，括号这里是优先级\n",
    "tup=('hello')\n",
    "print(tup)  # 'hello'\n",
    "\n",
    "# 列表的批量操作可以利用切片的方式\n",
    "\"\"\"  lst[start: end: step] = iterable \"\"\"\n",
    "lst=[345, 5.67, True, (5+6j), 'world', [1357, 789]]\n",
    "lst[2:4]='a','b'  # 用元组的元素进行修改\n",
    "print(lst)  # [345, 5.67, 'a', 'b', 'world', [1357, 789]]\n",
    "\n",
    "lst=[345, 5.67, True, (5+6j), 'world', [1357, 789]]\n",
    "lst[0:0]='hello'\n",
    "print(lst)   # ['h', 'e', 'l', 'l', 'o', 345, 5.67, True, (5+6j), 'world', [1357, 789]]\n",
    "\n",
    "lst=[345, 5.67, True, (5+6j), 'world', [1357, 789]]\n",
    "lst[0:0]=('hello',)   \n",
    "print(lst)   # ['hello', 345, 5.67, True, (5+6j), 'world', [1357, 789]]"
   ]
  },
  {
   "cell_type": "markdown",
   "id": "a3cae5cd-2fc2-4b8f-9522-bc9163dad4af",
   "metadata": {},
   "source": [
    "- <font color=blue>list([iterable])</font>\n",
    "    - 将一个iterable对象转化为列表并返回，如果没有传入参数返回空的列表"
   ]
  },
  {
   "cell_type": "code",
   "execution_count": 67,
   "id": "d5b5d7de-7471-4bb8-ac67-f55088884b4e",
   "metadata": {},
   "outputs": [
    {
     "name": "stdout",
     "output_type": "stream",
     "text": [
      "[]\n",
      "['h', 'e', 'l', 'l', 'o', ' ', 'w', 'o', 'r', 'l', 'd']\n",
      "['h', 'e', 'l', 'l', 'o', ' ', 'w', 'o', 'r', 'l', 'd']\n",
      "hello world\n",
      "[1, 2, 3]\n"
     ]
    }
   ],
   "source": [
    "print(list())   # []\n",
    "\n",
    "# list([iterable])\n",
    "s=list('hello world')\n",
    "print(s)  # ['h', 'e', 'l', 'l', 'o', ' ', 'w', 'o', 'r', 'l', 'd']\n",
    "# str(object='')\n",
    "print(str(s))  # '['h', 'e', 'l', 'l', 'o', ' ', 'w', 'o', 'r', 'l', 'd']'\n",
    "print(''.join(s))   # 'hello world'\n",
    "\n",
    "print(list((1,2,3))) # [1,2,3]"
   ]
  },
  {
   "cell_type": "markdown",
   "id": "d9bd9623-b278-42b0-a930-8131bf69bc10",
   "metadata": {},
   "source": [
    "- ### <b>列表2--列表的对象方法</b>"
   ]
  },
  {
   "cell_type": "markdown",
   "id": "2e6b67db-704c-48f3-9bab-205018fb4742",
   "metadata": {},
   "source": [
    "- <font color=blue>list.append(x)</font>\n",
    "    - 在列表的<font color=red>末尾添加一个元素</font>（修改原列表，无返回值），相当于a[len(a:]=[x]\n",
    "    - 列表是可变的，可以<font color=red>直接修改列表</font>，而字符串不可变，所以只能在修改后产生新的字符串\n",
    "      \n",
    "    <img src='img/list_4.png' width=400>    \n",
    "      \n",
    "    <img src='img/list_5.png' width=400>"
   ]
  },
  {
   "cell_type": "code",
   "execution_count": 68,
   "id": "13479d49-8ca3-40f5-8cfc-c5bc5b9c49d5",
   "metadata": {},
   "outputs": [
    {
     "name": "stdout",
     "output_type": "stream",
     "text": [
      "[1, 2, 3, 4, 5, 6]\n",
      "123456\n",
      "12345\n"
     ]
    }
   ],
   "source": [
    "# 列表可以直接修改，没有返回值\n",
    "lst=[1,2,3,4,5]\n",
    "lst.append(6)\n",
    "# lst[len(lst):]=6,\n",
    "print(lst)     # [1, 2, 3, 4, 5, 6]\n",
    "\n",
    "# 字符串不可变，不能原地操作，\n",
    "string='12345'\n",
    "print(string.replace('5','56'))   # '123456'\n",
    "print(string)      # '12345'"
   ]
  },
  {
   "cell_type": "code",
   "execution_count": 69,
   "id": "e54ab412-fdab-4aa7-8906-4843303cd288",
   "metadata": {},
   "outputs": [
    {
     "name": "stdout",
     "output_type": "stream",
     "text": [
      "321456\n",
      "[1, 2, 3, 4, 5, 6, 7]\n"
     ]
    }
   ],
   "source": [
    "string='12345'\n",
    "print(string.replace('5','56').replace('123', '321'))  # '321456'\n",
    "\n",
    "\n",
    "lst=[1,2,3,4,5]\n",
    "# lst.append(6).append(7) #  AttributeError: 'NoneType' object has no attribute 'append'\n",
    "lst.append(6)\n",
    "lst.append(7)\n",
    "print(lst)   # [1, 2, 3, 4, 5, 6, 7]"
   ]
  },
  {
   "cell_type": "markdown",
   "id": "15840b3d-6e5b-4d27-839d-8d7dc885e166",
   "metadata": {},
   "source": [
    "- <font color=blue>list.extend(iterable)</font>\n",
    "    - 使用iterable中的所有元素来扩展列表（修改原列表，无返回值），相当于a[len(a):]=iterable"
   ]
  },
  {
   "cell_type": "code",
   "execution_count": 70,
   "id": "5b66320a-89a5-4b54-b45c-91f6ab3e0c66",
   "metadata": {},
   "outputs": [
    {
     "name": "stdout",
     "output_type": "stream",
     "text": [
      "[1, 2, 3, 4, 5, 6, 7]\n",
      "[1, 2, 3, 4, 5, 6, 7, 8, 9]\n"
     ]
    }
   ],
   "source": [
    "lst=[1,2,3,4,5]\n",
    "# lst.append(6)\n",
    "# lst.append(7)\n",
    "lst.extend([6,7])\n",
    "print(lst)         # [1, 2, 3, 4, 5, 6, 7]\n",
    "lst.extend({8,9})\n",
    "print(lst)      # [1, 2, 3, 4, 5, 6, 7, 8, 9]"
   ]
  },
  {
   "cell_type": "markdown",
   "id": "c709794b-381a-4511-ae50-1baf5fcda875",
   "metadata": {},
   "source": [
    "- <font color=blue>list.insert(i,x)</font>\n",
    "    - i: 要插入的元素的索引\n",
    "    - x: 要插入的元素\n",
    "    - 在给定的位置<font color=red>插入一个元素</font>(修改原列表，无返回值)"
   ]
  },
  {
   "cell_type": "code",
   "execution_count": 71,
   "id": "fe78b183-758f-4a9a-b089-daecef2d202f",
   "metadata": {},
   "outputs": [
    {
     "name": "stdout",
     "output_type": "stream",
     "text": [
      "[1, 2, 3, 3.5, 4, 5]\n",
      "[1, 2, 3, 4, 5, 6, 7]\n",
      "[1, 2, 3, 4, 5, 7, 6]\n"
     ]
    }
   ],
   "source": [
    "lst=[1,2,3,4,5]\n",
    "lst.insert(3,3.5)\n",
    "print(lst)   # [1, 2, 3, 3.5, 4, 5]\n",
    "\n",
    "# 实现append()\n",
    "lst=[1,2,3,4,5]\n",
    "lst.insert(len(lst),6)\n",
    "lst.insert(len(lst),7)\n",
    "print(lst)   # [1, 2, 3, 3.5, 4, 5, 6, 7]\n",
    "\n",
    "# 这个不是append(),length是固定的，不会永远在最后插入\n",
    "lst=[1,2,3,4,5]\n",
    "length=len(lst)\n",
    "lst.insert(length,6)\n",
    "lst.insert(length,7)\n",
    "print(lst)   # [1, 2, 3, 4, 5, 7, 6]"
   ]
  },
  {
   "cell_type": "markdown",
   "id": "a394b297-e81d-446d-9d1f-a435246184a0",
   "metadata": {},
   "source": [
    "- <font color=blue>list.sort([key], reverse=False)</font>\n",
    "    - 对原列表进行排序，没有返回值。\n",
    "    - key: 指定一个函数，在排序之前，列表每个元素<font color=red>先应用这个函数</font>，之后再对源数据进行排序。\n",
    "        - 将列表中的元素依次作为实参，传递给key指定的函数去调用，返回调用完函数的数据列表\n",
    "        - 然后根据返回的列表的大小对原数据进行排序\n",
    "    - reverse: 默认为False，代表升序，指定为True则降序。"
   ]
  },
  {
   "cell_type": "code",
   "execution_count": 72,
   "id": "37d10a93-1e44-40f7-b297-336b69876a3d",
   "metadata": {},
   "outputs": [
    {
     "name": "stdout",
     "output_type": "stream",
     "text": [
      "[1, 3, 4, 7, 8]\n",
      "[8, 7, 4, 3, 1]\n",
      "['100', '2', '8', '99']\n",
      "[[0, 1, 2, 4, 5], [1, 2, 3], [6]]\n"
     ]
    }
   ],
   "source": [
    "lst=[3,4,1,7,8]\n",
    "lst.sort()\n",
    "print(lst)   # [1, 3, 4, 7, 8]\n",
    "\n",
    "lst.sort(reverse=True) \n",
    "print(lst)   # [8, 7, 4, 3, 1]\n",
    "\n",
    "#对字符串排序时，是根据前面的字符进行比较（ASCII编码表的位置）\n",
    "lst=['99', '100', '8', '2']\n",
    "lst.sort()\n",
    "print(lst)   # ['100', '2', '8', '99']\n",
    "\n",
    "# 如果列表里的元素类型不同, 则报错\n",
    "lst=[99, '100', 8, '2']\n",
    "# lst.sort()   # TypeError: '<' not supported between instances of 'str' and 'int'\n",
    "\n",
    "# 如果列表的元素都是列表, 则根据每个子元素的前面的元素进行比较\n",
    "lst=[[1,2,3],[6],[0,1,2,4,5]]\n",
    "lst.sort()    \n",
    "print(lst)   #[[0, 1, 2, 4, 5], [1, 2, 3], [6]]"
   ]
  },
  {
   "cell_type": "code",
   "execution_count": 73,
   "id": "309b962a-4795-473d-9d75-a9a1e85744d7",
   "metadata": {},
   "outputs": [
    {
     "name": "stdout",
     "output_type": "stream",
     "text": [
      "8\n",
      "[-8, 7, 4, 3, 1]\n"
     ]
    }
   ],
   "source": [
    "# key\n",
    "# 对lst中的数据按照绝对值的大小进行降序\n",
    "lst=[3,4,1,7,-8]\n",
    "print(abs(-8))   # 8, abs(d)是绝对值函数\n",
    "\n",
    "# 将列表中的元素依次作为实参，传递给key指定的函数去调用\n",
    "# abs(3), abs(4), abs(1), abs(7), abs(-8)\n",
    "# 返回值分别为：3, 4, 1, 7, 8\n",
    "# 然后根据返回值的大小对原数据进行降序：-8, 7, 4,3, 1\n",
    "lst.sort(key=abs, reverse=True)\n",
    "print(lst)          # [-8, 7, 4, 3, 1]"
   ]
  },
  {
   "cell_type": "code",
   "execution_count": 74,
   "id": "c7a5bfb2-dec8-478e-9d74-38788cb2096b",
   "metadata": {},
   "outputs": [
    {
     "name": "stdout",
     "output_type": "stream",
     "text": [
      "['100', '2', '8', '9']\n",
      "['2', '8', '9', '100']\n"
     ]
    }
   ],
   "source": [
    "# 请对列表中的数据，根据数字的大小进行排序\n",
    "lst=['2','100','8','9']\n",
    "lst.sort()\n",
    "print(lst)  # ['100', '2', '8', '9']\n",
    "\n",
    "# 指定key的规则为Int()函数\n",
    "# int('2'), int('100'), int('8'), in('9')\n",
    "# 返回值分别为：2, 100, 8, 9\n",
    "# 然后根据返回值的大小进行排序：2, 100, 8, 9\n",
    "lst.sort(key=int)\n",
    "print(lst)     # ['2', '8', '9', '100']"
   ]
  },
  {
   "cell_type": "markdown",
   "id": "e6bca4cf-eb67-4e6d-88f2-00be9fe3d5e4",
   "metadata": {},
   "source": [
    "- <font color=blue>sorted(iterable, [eky], reverse=False)</font>\n",
    "    - 是内置函数，不是列表的方法\n",
    "    - 对可迭代对象进行排序（不对元数据进行操作），以<font color=red>表</font>形式<font color=red>返回</font>\n",
    "        - 不是所有可迭代对象都是可变的，所以列表是有返回值的\n",
    "    - iterable：可迭代对象（字符串、列表、元组、字典、集合等）\n",
    "    - key: 指定一个函数，在排序之前，列表每个元素<font color=red>先应用这个函数</font>，之后再对原数据进行排序。\n",
    "        - 将列表中的元素依次作为实参，传递给key指定的函数去调用，返回调用完函数的数据列表\n",
    "        - 然后根据返回的列表的大小对原数据进行排序\n",
    "    - reverse: 默认为False，代表升序，指定为True则降序。"
   ]
  },
  {
   "cell_type": "code",
   "execution_count": 75,
   "id": "3bc5b95d-a13e-4a04-b208-ac4262c2043c",
   "metadata": {},
   "outputs": [
    {
     "name": "stdout",
     "output_type": "stream",
     "text": [
      "['100', '2', '8', '99']\n",
      "['100', '99', '8', '2']\n",
      "[' ', 'R', 'd', 'e', 'h', 'l', 'l', 'l', 'o', 'o', 'w']\n"
     ]
    }
   ],
   "source": [
    "lst=['99', '100', '8', '2']\n",
    "print(sorted(lst))   # ['100', '2', '8', '99']\n",
    "\n",
    "new_lst=sorted(lst, key=int, reverse=True)\n",
    "print(new_lst)   # ['100', '99', '8', '2']\n",
    "\n",
    "# ASCII大写字母排在小写前面\n",
    "print(sorted('hello woRld'))  # [' ', 'R', 'd', 'e', 'h', 'l', 'l', 'l', 'o', 'o', 'w']"
   ]
  },
  {
   "cell_type": "markdown",
   "id": "bd0234eb-ad51-4a82-9a1f-7014c5bca4d4",
   "metadata": {},
   "source": [
    "- <font color=blue>list.reverse()</font>\n",
    "    - 对列表中的元素反向，无返回值"
   ]
  },
  {
   "cell_type": "code",
   "execution_count": 76,
   "id": "6abc00d5-c841-47b2-aff1-044553ae1027",
   "metadata": {},
   "outputs": [
    {
     "name": "stdout",
     "output_type": "stream",
     "text": [
      "[8, 7, 1, 4, 3]\n",
      "[8, 7, 1, 4, 3]\n",
      "[3, 4, 1, 7, 8]\n"
     ]
    }
   ],
   "source": [
    "lst=[3,4,1,7,8]\n",
    "lst.reverse()\n",
    "print(lst)   # [8, 7, 1, 4, 3]\n",
    "\n",
    "# 新建操作\n",
    "lst=[3,4,1,7,8]\n",
    "print(lst[::-1])   # [8, 7, 1, 4, 3]\n",
    "print(lst)   # [3, 4, 1, 7, 8]"
   ]
  },
  {
   "cell_type": "markdown",
   "id": "2474b3cb-463b-4944-8fc2-448e760aa7ca",
   "metadata": {},
   "source": [
    "- <font color=blue>reversed(seq)</font>\n",
    "    - 对给定序列返回一个反向迭代器\n",
    "    - 是内置函数，不是list方法\n",
    "    - 针对序列的操作，不是对原数据操作，返回一个反向迭代器\n",
    "        - 不是所有的序列都可变，所以不能原地操作，需要生成新的变量"
   ]
  },
  {
   "cell_type": "code",
   "execution_count": 77,
   "id": "c3ec621a-f7af-4142-a999-eac37d1b825d",
   "metadata": {},
   "outputs": [
    {
     "name": "stdout",
     "output_type": "stream",
     "text": [
      "<list_reverseiterator object at 0x0000022889C7DB10>\n",
      "[8, 7, 1, 4, 3]\n",
      "[]\n"
     ]
    }
   ],
   "source": [
    "lst=[3,4,1,7,8]\n",
    "# 返回迭代器对象的地址：0x000002728BEA4460\n",
    "# 1. 迭代器一定是iterable\n",
    "# 2. 迭代器只能迭代一次\n",
    "# 3. 可以转为列表, 因为list的语法: list([iterable])\n",
    "obj=(reversed(lst))\n",
    "print(obj) # <list_reverseiterator object at 0x000002728BEA4460>,\n",
    "\n",
    "print(list(obj))   # [8, 7, 1, 4, 3]\n",
    "print(list(obj))   # []"
   ]
  },
  {
   "cell_type": "markdown",
   "id": "8f78e09f-e27f-49c4-8156-0db3fa7600be",
   "metadata": {},
   "source": [
    "- <font color=blue>list.cout(x)</font>\n",
    "    - 返回元素x在列表中出现的次数\n",
    "    - 和str.count()的区别：str.count(x,start,end)"
   ]
  },
  {
   "cell_type": "code",
   "execution_count": 78,
   "id": "d3128fb7-6d3b-4a8d-8ec4-fa0c71af8da7",
   "metadata": {},
   "outputs": [
    {
     "name": "stdout",
     "output_type": "stream",
     "text": [
      "2\n",
      "1\n"
     ]
    }
   ],
   "source": [
    "lst=[3,4,1,7,8, 3, 9]\n",
    "print(lst.count(3))   # 2\n",
    "\n",
    "lst=[3,4,1,7,8,[1,2,3]]\n",
    "print(lst.count(1))  #1"
   ]
  },
  {
   "cell_type": "markdown",
   "id": "e5b54b8b-4b5f-491e-8764-1e336a1f3498",
   "metadata": {},
   "source": [
    "- <font color=blue>list.index(x,[start[,end]])</font>\n",
    "    - 返回从<font color=red>左</font>开始第一次找到指定数据时的索引，找不到则抛出ValueError异常\n",
    "    - x: 要找的值\n",
    "    - start：字符串开始搜索的位置索引，默认为0\n",
    "    - end: 字符串中结束搜索的位置索引（不包括在[start:end]的切片里），默认为len(str)\n",
    "    - 注意：返回索引时，是相对于整个序列开始计算的，而不是[start:end]子序列\n",
    "    - 列表中<font color=red><b>没有</b></font>index(), find(), rfind()"
   ]
  },
  {
   "cell_type": "markdown",
   "id": "9df9da43-769a-4446-98c4-fb51aaea3f95",
   "metadata": {},
   "source": [
    "- <font color=blue>list.pop([i])</font>\n",
    "    - i: 要删除元素的<font color=red><b>索引</b></font>\n",
    "    - <font color=red><b>删除</b></font>列表中<font color=red><b>给定位置i</b></font>的元素（修改原列表），并<font color=red><b>返回该元素</b></font>\n",
    "    - 如果没有给定位置，将会<font color=red><b>默认</b></font>删除并返回列表中的<font color=red><b>最后一个元素</b></font>\n",
    "    - pop()方法，一般删除什么，返回什么"
   ]
  },
  {
   "cell_type": "code",
   "execution_count": 79,
   "id": "b9f287c7-d8c4-4c3e-9f0b-4e8913af1cbe",
   "metadata": {},
   "outputs": [
    {
     "name": "stdout",
     "output_type": "stream",
     "text": [
      "[3, 4, 1, 7, 8]\n",
      "[1, 2, 3]\n",
      "[3, 4, 1, 7, [1, 2, 3]]\n",
      "8\n"
     ]
    }
   ],
   "source": [
    "lst=[3,4,1,7,8,[1,2,3]]\n",
    "x=lst.pop()  # 删除最后一个元素\n",
    "print(lst)   # [3, 4, 1, 7, 8]\n",
    "print(x)   # [1, 2, 3]\n",
    "\n",
    "lst=[3,4,1,7,8,[1,2,3]]\n",
    "x=lst.pop(-2)  # 删除下标为-2的元素（8）\n",
    "print(lst)   # [3, 4, 1, 7, [1, 2, 3]]\n",
    "print(x)\n"
   ]
  },
  {
   "cell_type": "markdown",
   "id": "243f272f-c163-4330-8025-6da1bf7982cb",
   "metadata": {},
   "source": [
    "- <font color=blue>list.remove(x)</font>\n",
    "    - <font color=red><b>移除</b></font>列表中<font color=red><b>第一个</b></font>匹配到的值为x的<font color=red><b>元素</b></font>（修改原列表，无返回值）\n",
    "    - 如果没有这样的元素，则抛出ValueError异常\n",
    "    - x：要移除的数据（而不是下标）"
   ]
  },
  {
   "cell_type": "code",
   "execution_count": 80,
   "id": "17bca118-d408-499e-8ae5-706eaa1f3a7c",
   "metadata": {},
   "outputs": [
    {
     "name": "stdout",
     "output_type": "stream",
     "text": [
      "[3, 4, 1, 7, 8, [1, 2, 3], 8]\n"
     ]
    }
   ],
   "source": [
    "lst=[3,4,8,1,7,8,[1,2,3],8]\n",
    "lst.remove(8)   # 删除列表中第一个8\n",
    "print(lst)  # [3, 4, 1, 7, 8, [1, 2, 3], 8]"
   ]
  },
  {
   "cell_type": "markdown",
   "id": "e92d7102-3ea1-43ad-abd9-b341e05a2032",
   "metadata": {},
   "source": [
    "- <font color=blue>list.copy()</font>\n",
    "    - 返回列表的一个浅拷贝，等价于a[:]"
   ]
  },
  {
   "cell_type": "code",
   "execution_count": 81,
   "id": "dc4535a7-2ddb-4c71-8205-0ee5c0b9fe60",
   "metadata": {},
   "outputs": [
    {
     "name": "stdout",
     "output_type": "stream",
     "text": [
      "2373133614592\n",
      "2373133997632\n"
     ]
    }
   ],
   "source": [
    "lst=[3,4,8,1,7,8,[1,2,3],8]\n",
    "new_lst=lst.copy()\n",
    "# new_lst=lst[::]  # 也是浅拷贝\n",
    "print(id(lst))   # 2690994897664\n",
    "print(id(new_lst))  # 2690994907776"
   ]
  },
  {
   "cell_type": "markdown",
   "id": "42b2f905-a794-4d43-b6d5-ae5cd3c8d569",
   "metadata": {},
   "source": [
    "- <font color=blue>list.clear()</font>\n",
    "    - 移除列表中所有元素（修改原列表，无返回值），等价于del a[:]"
   ]
  },
  {
   "cell_type": "code",
   "execution_count": 82,
   "id": "97f6f49f-daa6-45d7-a48e-f564dbf20e44",
   "metadata": {},
   "outputs": [
    {
     "name": "stdout",
     "output_type": "stream",
     "text": [
      "[]\n"
     ]
    }
   ],
   "source": [
    "lst=[3,4,8,1,7,8,[1,2,3],8]\n",
    "lst.clear()\n",
    "print(lst)   # []"
   ]
  },
  {
   "cell_type": "markdown",
   "id": "85bed802-bbdb-4043-9287-dc673df40e80",
   "metadata": {},
   "source": [
    "- ### <b>Del 语句</b>\n",
    "    - 原地操作，解除引用关系，而不是清空列表，然后object会被自动回收\n",
    "    - del object\n",
    "    - python的删除操作，一般都是接触引用，包括pop()方法。\n",
    "\n",
    "解除lst对列表数据的引用关系，但是lst2的引用还在。\n",
    " \n",
    "<img src='img/del_1.png' width=400>"
   ]
  },
  {
   "cell_type": "code",
   "execution_count": 83,
   "id": "71e6490d-d24c-48a4-af04-5603cac9ea78",
   "metadata": {},
   "outputs": [
    {
     "name": "stdout",
     "output_type": "stream",
     "text": [
      "[345, 789, 1305, 'hello', [456, 1789]]\n"
     ]
    }
   ],
   "source": [
    "lst=[345, 789, 1305, 'hello', [456, 1789]]\n",
    "lst2=lst\n",
    "del lst  # 解除lst对列表数据的引用关系，但是lst2的引用还在。\n",
    "print(lst2)   # [345, 789, 1305, 'hello', [456, 1789]]"
   ]
  },
  {
   "cell_type": "markdown",
   "id": "4b7c0e32-1409-4824-a5cc-cee3a9f24d3e",
   "metadata": {},
   "source": [
    "删除列表的单个元素，是解除列表对这个元素的引用，同时后面的元素位置向前走一位，pop()和remove()一样道理。\n",
    "\n",
    "<img src='img/del_2.png' width=400>"
   ]
  },
  {
   "cell_type": "code",
   "execution_count": 84,
   "id": "cf6cb28f-0e29-4cda-95de-3abae9901306",
   "metadata": {},
   "outputs": [
    {
     "name": "stdout",
     "output_type": "stream",
     "text": [
      "[345, 789, 1305, [456, 1789]]\n"
     ]
    }
   ],
   "source": [
    "lst=[345, 789, 1305, 'hello', [456, 1789]]\n",
    "del lst[3]  # 删除列表的单个元素，是解除列表对这个元素的引用，同时后面的元素位置向前走一位\n",
    "print(lst)   # [345, 789, 1305, [456, 1789]]"
   ]
  },
  {
   "cell_type": "markdown",
   "id": "49fdc8e8-b9c8-40f1-bbcd-3303d9565f2c",
   "metadata": {},
   "source": [
    "解除789和'hello'的引用\n",
    "\n",
    "<img src='img/del_5.png' width=400>"
   ]
  },
  {
   "cell_type": "code",
   "execution_count": 85,
   "id": "59a7e1b4-c3f1-4756-9f53-fb6feabe58fb",
   "metadata": {},
   "outputs": [
    {
     "name": "stdout",
     "output_type": "stream",
     "text": [
      "[345, 1305, [456, 1789]]\n",
      "[345, 1305, [456, 1789]]\n"
     ]
    }
   ],
   "source": [
    "# 可以删除多个元素\n",
    "# 解除789和'hello'的引用\n",
    "lst=[345, 789, 1305, 'hello', [456, 1789]]\n",
    "del lst[1::2]  \n",
    "print(lst)   # [345, 1305, [456, 1789]]\n",
    "\n",
    "lst=[345, 789, 1305, 'hello', [456, 1789]]\n",
    "del lst[3], lst[1]  # 需要先删除后一个元素，否则删除第一个元素后，后面的索引会变化\n",
    "# del lst[1], lst[-2] # 或者先删除第一个元素，第二个元素的索引用反向索引（反向索引不会变）\n",
    "print(lst)   # [345, 1305, [456, 1789]]"
   ]
  },
  {
   "cell_type": "markdown",
   "id": "b894eb68-02a2-4ffe-b64f-4425d941240a",
   "metadata": {},
   "source": [
    "删除全部元素，即解除对所有元素的引用关系\n",
    "\n",
    "<img src='img/del_3.png' width=400>"
   ]
  },
  {
   "cell_type": "code",
   "execution_count": 86,
   "id": "32b65b6a-3f0b-49d3-adb6-488dbe17ace8",
   "metadata": {},
   "outputs": [
    {
     "name": "stdout",
     "output_type": "stream",
     "text": [
      "[]\n"
     ]
    }
   ],
   "source": [
    "# 删除全部元素\n",
    "lst=[345, 789, 1305, 'hello', [456, 1789]]\n",
    "del lst[:]\n",
    "print(lst)   # []"
   ]
  },
  {
   "cell_type": "markdown",
   "id": "5350a8cf-41b8-4ce6-83cf-4f3c4d0c29ed",
   "metadata": {},
   "source": [
    "删除第二层列表中的元素\n",
    "\n",
    "<img src='img/del_4.png' width=400>"
   ]
  },
  {
   "cell_type": "code",
   "execution_count": 87,
   "id": "dabafa80-9d37-4c7b-a957-1a26fbd730fc",
   "metadata": {},
   "outputs": [
    {
     "name": "stdout",
     "output_type": "stream",
     "text": [
      "[345, 789, 1305, 'hello', [456]]\n"
     ]
    }
   ],
   "source": [
    "# 删除第二层列表中的元素\n",
    "lst=[345, 789, 1305, 'hello', [456, 1789]]\n",
    "del lst[-1][-1]\n",
    "print(lst)          # [345, 789, 1305, 'hello', [456]]"
   ]
  },
  {
   "cell_type": "markdown",
   "id": "0e9e1020-95a7-4778-b78f-dc40dd3e5b3b",
   "metadata": {},
   "source": [
    "- ### <b>元组(Tuple)</b>\n",
    "    - Tuple与List类似，它也是序列，但Tuple是不可变的\n",
    "    - 在圆括号中添加元素，并使用逗号隔开。（不加括号的元素集也认为是元组）\n",
    "    - 封包：多个对象赋给一个变量的话，会赋给一个元组\n",
    "    - 元组不可变：元组里的元素不能改变它的指向的"
   ]
  },
  {
   "cell_type": "code",
   "execution_count": 88,
   "id": "c4294b08-e1f5-4850-aeb3-754915f28ab3",
   "metadata": {},
   "outputs": [
    {
     "name": "stdout",
     "output_type": "stream",
     "text": [
      "6\n",
      "<class 'tuple'>\n",
      "1582\n",
      "('hello', 789)\n"
     ]
    }
   ],
   "source": [
    "tup=(345, 789, 1305, 'hello', [456, 1789], (1203, 1582))\n",
    "print(len(tup))       # 6\n",
    "print(type(tup))        # <class 'tuple'>\n",
    "print(tup[-1][-1])     # 1582\n",
    "print(tup[3::-2])      # ('hello', 789)"
   ]
  },
  {
   "cell_type": "code",
   "execution_count": 89,
   "id": "cb2f9d8b-0e9d-4957-80f0-51fefaf6adcd",
   "metadata": {},
   "outputs": [
    {
     "name": "stdout",
     "output_type": "stream",
     "text": [
      "('a', 'b', 'c')\n",
      "<class 'tuple'>\n"
     ]
    }
   ],
   "source": [
    "# 封包：多个对象赋给一个变量的话，会赋给一个元组\n",
    "tup='a','b','c'\n",
    "print(tup)    # ('a', 'b', 'c')\n",
    "print(type(tup))   # <class 'tuple'>"
   ]
  },
  {
   "cell_type": "markdown",
   "id": "0f3634a8-cd6d-4938-bb7a-4e5b327b55e5",
   "metadata": {},
   "source": [
    "元组不可变：元组里的元素不能改变它的指向关系的\n",
    "- 不可以把指向关系断开，然后指向另一个地方\n",
    "\n",
    "<img src='img/tuple_1.png' width=400>"
   ]
  },
  {
   "cell_type": "code",
   "execution_count": 90,
   "id": "a8f90372-8f56-45f0-984b-1ca7778d784f",
   "metadata": {},
   "outputs": [],
   "source": [
    "# 元组不可变：元组里的元素不能改变它的指向关系的\n",
    "# 不可以把指向关系断开，然后指向另一个地方\n",
    "tup=(345, 789, 1305, 'hello', [456, 1789])\n",
    "# tup[1]=987   # TypeError: 'tuple' object does not support item assignment"
   ]
  },
  {
   "cell_type": "markdown",
   "id": "49a89f6f-de3d-493c-8f3f-61260dcf330a",
   "metadata": {},
   "source": [
    "元组里的列表可以改变，因为列表是一个可变的数据类型\n",
    "- 元组的最后一个元素的指向没有发生改变，还是指向原来的地址，只不过这个地址上存储的数据本身发生了变化\n",
    "- 比如吃蛋糕，蛋糕本身没有变，还是原来的蛋糕，只不过是变质了\n",
    "\n",
    "<img src='img/tuple_2.png' width=400>"
   ]
  },
  {
   "cell_type": "code",
   "execution_count": 91,
   "id": "59e5dd72-f48a-4b20-b418-df6028f2a5c9",
   "metadata": {},
   "outputs": [
    {
     "name": "stdout",
     "output_type": "stream",
     "text": [
      "(345, 789, 1305, 'hello', [654, 1789])\n"
     ]
    }
   ],
   "source": [
    "# 元组里的列表可以改变，因为列表是一个可变的数据类型\n",
    "tup=(345, 789, 1305, 'hello', [456, 1789])\n",
    "tup[-1][0]=654\n",
    "print(tup)    # (345, 789, 1305, 'hello', [654, 1789])"
   ]
  },
  {
   "cell_type": "markdown",
   "id": "0f35d14a-bb5a-470c-ae4e-0c9a8cd73dd0",
   "metadata": {},
   "source": [
    "- <b><font color=blue>tuple([iterable])</font></b>\n",
    "    - 返回一个新的tuple对象，某元素来自于iterable，如果未指定iterable，则将返回空元组。"
   ]
  },
  {
   "cell_type": "code",
   "execution_count": 92,
   "id": "612a6342-ca37-4ba1-88a8-5c9e6071f35c",
   "metadata": {},
   "outputs": [
    {
     "name": "stdout",
     "output_type": "stream",
     "text": [
      "()\n",
      "('h', 'e', 'l', 'l', 'o', ' ', 'w', 'o', 'r', 'l', 'd')\n",
      "(1, 23, 1, 3, 23, '23')\n"
     ]
    }
   ],
   "source": [
    "print(tuple())          # ()\n",
    "print(tuple('hello world'))\n",
    "\n",
    "lst=[1,23,1,3,23,'23']\n",
    "tup=tuple(lst)\n",
    "print(tup)    # (1, 23, 1, 3, 23, '23')"
   ]
  },
  {
   "cell_type": "markdown",
   "id": "eb84e06e-895a-4a53-b8be-e62b37c28693",
   "metadata": {},
   "source": [
    "- <font color=blue><b>tuple.count(x)</b></font>\n",
    "    - 与list的方法一样"
   ]
  },
  {
   "cell_type": "markdown",
   "id": "23d09a76-3158-48ac-bd9b-7f641b669ca5",
   "metadata": {},
   "source": [
    "- <font color=blue><b>tuple.index(x[,start[,end]])</b></font>\n",
    "    - 与list的方法一样"
   ]
  },
  {
   "cell_type": "markdown",
   "id": "785b07da-9e9a-4367-8a2f-40f8aa9d4d4a",
   "metadata": {},
   "source": [
    "- 浅拷贝对不可变的数据没有任何意义\n",
    "    - <font color=blue><b>tuple.copy()</b></font>"
   ]
  },
  {
   "cell_type": "markdown",
   "id": "ca7a5a28-9a1d-4b89-a35b-9d67a652a72c",
   "metadata": {},
   "source": [
    "- ### <b>字典（Dictionary)</b>\n",
    "    - 字典的每个键值对用冒号：隔开，写成key:value的格式，每个键值对之间用逗号（，）隔开，包括再花括号中。\n",
    "    - 字典是一种<font color=red><b>映射结构</font></b>，由键映射到值。\n",
    "        - 键值对--<font color=red><b>{键：值}</font></b>\n",
    "        - 如字典，由页码映射到字\n",
    "    - 字典是可迭代对象\n",
    "        - 字典作为可迭代对象进行操作时，只有键参与迭代\n",
    "    - 字典是<font color=red><b>可变的</font></b>，它<font color=red><b>不是序列</font></b>\n",
    "        - <font color=red><b>序列是有下标的</font></b>，可以用来索引与切片\n",
    "        - 键有顺序，但是无法进行索引操作，所以不是序列\n",
    "    - 字典的<font color=red><b>键</font></b>必须为<font color=red><b>不可变类型</font></b>（如数字，字符串或元组）；值可以是任何数据类型，没有限制。\n",
    "    - 如果键重复，那么重复键对应的值后面会把前面的值覆盖，但是位置还是原来的位置\n",
    "    - 值可以是任意数据类型，并且可以重复"
   ]
  },
  {
   "cell_type": "code",
   "execution_count": 93,
   "id": "d140b070-74bd-4a83-8107-412e9bdf3a99",
   "metadata": {},
   "outputs": [
    {
     "name": "stdout",
     "output_type": "stream",
     "text": [
      "<class 'dict'>\n",
      "name age height\n",
      "{'name': 'Tom', 'age': 49, 'height': 178}\n",
      "{'name': 'Tom', 'age': 19, 'height': 178, 'score': 19}\n"
     ]
    }
   ],
   "source": [
    "d={}\n",
    "print(type(d))   #  <class 'dict'>\n",
    "\n",
    "# 字典作为可迭代对象进行操作时，只有键参与迭代\n",
    "d={'name':'Tom', 'age':19, 'height':178}\n",
    "print(' '.join(d))  # name age height\n",
    "\n",
    "# 如果键重复，那么重复键对应的值后面会把前面的值覆盖点\n",
    "d={'name':'Tom', 'age':19, 'height':178, 'age':39, 'age':49}  # {'name': 'Tom', 'age': 49, 'height': 178}\n",
    "print(d)\n",
    "\n",
    "# 值可以重复\n",
    "d={'name':'Tom', 'age':19, 'height':178, 'score':19}\n",
    "print(d)  # {'name': 'Tom', 'age': 19, 'height': 178, 'score': 19}"
   ]
  },
  {
   "cell_type": "markdown",
   "id": "39f41e76-c0dd-4751-b427-6cbfcd9106c4",
   "metadata": {},
   "source": [
    "- 创建字典的六种方式\n",
    "    - <font color=blue>直接在空字典{}里面写键值对</font>\n",
    "    - <font color=blue>定义一个空字典，再往里面添加键值对</font>\n",
    "    - <font color=blue>把键作为关键字代入</font>\n",
    "    - <font color=blue>可迭代对象方式来构造字典</font>\n",
    "        - 可迭代对象是以一对一对形式出现的\n",
    "    - <font color=blue>通过zip()把对应元素打包成元组，类似于上一种方法</font>\n",
    "        - zip是一个<font color=red><b>内置类型</b></font>（在builtins.py中定义），不属于标准数据类型，reverse也是内置类型，不属于标准数据类型\n",
    "    - <font color=blue>利用字典的静态类方法（fromkeys）创建</font>\n",
    "        - 局限性：只能创建所有值都一样的字典"
   ]
  },
  {
   "cell_type": "code",
   "execution_count": 94,
   "id": "03bbbada-0332-469a-9094-aa0c3093d66f",
   "metadata": {},
   "outputs": [
    {
     "name": "stdout",
     "output_type": "stream",
     "text": [
      "{'name': 'Tom', 'age': 28, 'height': 178}\n",
      "{'name': 'Tom', 'age': 28}\n",
      "{'name': 'Tom', 'age': 28}\n",
      "Tom\n",
      "19\n",
      "{'name': 'Tony', 'age': 39, 'height': 178, 'score': 19, 'weight': 67.5}\n",
      "{'height': 178, 'score': 19}\n"
     ]
    }
   ],
   "source": [
    "# 直接在空字典{}里面写键值对\n",
    "d={'name':'Tom', 'age':19, 'height':178, 'score':19}\n",
    "\n",
    "# 定义一个空字典，再往里面添加键值对\n",
    "d={}\n",
    "d['name']='Tom'\n",
    "d['age']=28\n",
    "d['height']=178\n",
    "print(d)    # {'name': 'Tom', 'age': 28, 'height': 178}\n",
    "\n",
    "# 把键作为关键字代入\n",
    "d=dict(name='Tom', age=28)\n",
    "print(d)    # {'name': 'Tom', 'age': 28}\n",
    "\n",
    "# 可迭代对象方式来构造字典\n",
    "d=dict([('name','Tom'),('age',28)]) # 这里用元组/列表/集合都是可以的\n",
    "print(d)    # {'name': 'Tom', 'age': 28}\n",
    "\n",
    "# 查：通过键查对应的值\n",
    "d={'name':'Tom', 'age':19, 'height':178, 'score':19}\n",
    "print(d['name'])  # Tom\n",
    "print(d['age'])  # 19\n",
    "# print(d['weight'])  # KeyError: 'weight'\n",
    "\n",
    "# 改：通过键改对应的值\n",
    "d={'name':'Tom', 'age':19, 'height':178, 'score':19}\n",
    "d['name']='Tony'\n",
    "d['age']=39\n",
    "d['weight']=67.5 # 如果键不存在，就会新增和一个键值对\n",
    "print(d)  # {'name': 'Tony', 'age': 39, 'height': 178, 'score': 19}\n",
    "\n",
    "# 删：\n",
    "d={'name':'Tom', 'age':19, 'height':178, 'score':19}\n",
    "del d['age'], d['name']\n",
    "print(d)  # {'height': 178, 'score': 19}"
   ]
  },
  {
   "cell_type": "markdown",
   "id": "9fec8bce-4d02-4769-a422-c227a8c7abe0",
   "metadata": {},
   "source": [
    "- <font color=blue><b>dict(**kwarg / dict(mapping) / dict(iterable)</b></font>\n",
    "    - 用于创建一个字典并返回"
   ]
  },
  {
   "cell_type": "markdown",
   "id": "e69c1f86-28f3-4f12-b69b-800141857529",
   "metadata": {},
   "source": [
    "- <font color=blue><b>1. dict(iterable)</b></font>\n",
    "    - 传入可迭代对象"
   ]
  },
  {
   "cell_type": "code",
   "execution_count": 95,
   "id": "145cfff8-be37-47fd-8449-5e3c1253e21b",
   "metadata": {},
   "outputs": [
    {
     "name": "stdout",
     "output_type": "stream",
     "text": [
      "{'name': 'Tom', 'age': 29}\n"
     ]
    }
   ],
   "source": [
    "# dict(iterable)\n",
    "# 传入可迭代对象\n",
    "d=dict([('name','Tom'),('age',29)])\n",
    "print(d)  # {'name': 'Tom', 'age': 29}"
   ]
  },
  {
   "cell_type": "markdown",
   "id": "b1aec789-b9db-4b62-aba1-acf365597ec6",
   "metadata": {},
   "source": [
    "- <font color=blue><b>zip(*iterables)</b></font>\n",
    "    - 返回一个元组的迭代器，其中的第i个元组包含来自每个可迭代对象的第i个元素\n",
    "    - 当所输入可迭代对象中最短的一个被耗尽时，迭代器将停止迭代\n",
    "    - 不带参数时，它将返回一个空迭代器\n",
    "    - 当只有一个可迭代对象参数时，它将返回一个单元组的迭代器"
   ]
  },
  {
   "cell_type": "code",
   "execution_count": 96,
   "id": "38a5a1fe-253f-44dc-8a98-f77ef890d590",
   "metadata": {},
   "outputs": [
    {
     "name": "stdout",
     "output_type": "stream",
     "text": [
      "[('h', 3), ('e', 1), ('l', 4), ('l', 2)]\n",
      "[('h', 3, 'a'), ('e', 1, 'b'), ('l', 4, 'c'), ('l', 2, 'd')]\n",
      "[('h', 3, 'a', 1), ('e', 1, 'b', 3)]\n"
     ]
    }
   ],
   "source": [
    "iter1='hello'\n",
    "iter2=(3,1,4,2)\n",
    "obj=zip(iter1, iter2)  # 返回一个迭代器对象\n",
    "# 可以转为列表或者元组等\n",
    "print(list(obj))  # [('h', 3), ('e', 1), ('l', 4), ('l', 2)]\n",
    "\n",
    "iter3=['a','b','c','d']\n",
    "obj=zip(iter1, iter2, iter3)\n",
    "print(list(obj))   # [('h', 3, 'a'), ('e', 1, 'b'), ('l', 4, 'c'), ('l', 2, 'd')]\n",
    "\n",
    "iter4={1:2, 3:4}\n",
    "obj=zip(iter1, iter2, iter3, iter4)\n",
    "print(list(obj))    # [('h', 3, 'a', 1), ('e', 1, 'b', 3)]"
   ]
  },
  {
   "cell_type": "markdown",
   "id": "4bf3aee7-4ccd-45e5-9f99-1b077e9064a0",
   "metadata": {},
   "source": [
    "- <font color=blue><b>2. dict(mapping)</b></font>\n",
    "    - 传入一个映射结构\n",
    "        - 字典\n",
    "        - zip结构"
   ]
  },
  {
   "cell_type": "code",
   "execution_count": 97,
   "id": "4ad8aff9-8695-40e4-9f97-c6d0bdffa58f",
   "metadata": {},
   "outputs": [
    {
     "name": "stdout",
     "output_type": "stream",
     "text": [
      "{'name': 'Tom', 'age': 28, 'height': 178}\n",
      "{'name': 'Tom', 'age': 19, 'height': 178}\n"
     ]
    }
   ],
   "source": [
    "# dict(mapping)\n",
    "# 传入一个映射结构\n",
    "\n",
    "d=dict({'name': 'Tom', 'age': 28, 'height': 178})\n",
    "print(d)  # {'name': 'Tom', 'age': 28, 'height': 178}\n",
    "\n",
    "\n",
    "# 用zip结构\n",
    "print(dict(zip(['name','age','height',],['Tom',19, 178])))  # {'name': 'Tom', 'age': 19, 'height': 178}"
   ]
  },
  {
   "cell_type": "markdown",
   "id": "e64e3f96-f815-46f0-9efa-b939da63b853",
   "metadata": {},
   "source": [
    "- <font color=blue><b>3. dict(**kwarg)</b></font>\n",
    "    - 传入一个不定长关键字参数\n",
    "    - *args: 可以接受【0,+∞】<font color=red><b>位置参数</b></font>，贪婪，把他们<font color=red><b>打包成一个元组</b></font>，如果没有接收到实参，则为空元组\n",
    "    - **kwargs：可以接受【0,+∞】<font color=red><b>关键字参数</b></font>，贪婪，把他们<font color=red><b>打包成一个字典</b></font>，如果没有接收到实参，则为空元组"
   ]
  },
  {
   "cell_type": "code",
   "execution_count": 98,
   "id": "e9d0b514-cfe3-43b3-bedb-278f3c8d71a1",
   "metadata": {},
   "outputs": [
    {
     "name": "stdout",
     "output_type": "stream",
     "text": [
      "(1, 2, 3, 4, 5, 6)\n",
      "{}\n",
      "{'a': 1, 'b': 2, 'c': 3}\n"
     ]
    }
   ],
   "source": [
    "# dict(**kwarg)\n",
    "# 不定长参数：\n",
    "# *args: 可以接受【0,+∞】位置参数，贪婪，把他们打包成一个元组，如果没有接收到实参，则为空元组\n",
    "# **kwargs：可以接受【0,+∞】关键字参数，贪婪，把他们打包成一个元组，如果没有接收到实参，则为空元组\n",
    "\n",
    "def func1(*args):\n",
    "    print(args)\n",
    "\n",
    "func1(1,2,3,4,5,6)   # (1, 2, 3, 4, 5, 6)\n",
    "\n",
    "def func2(**kwargs):\n",
    "    print(kwargs)\n",
    "\n",
    "func2()  # {}\n",
    "func2(a=1, b=2, c=3)  # {'a': 1, 'b': 2, 'c': 3}"
   ]
  },
  {
   "cell_type": "code",
   "execution_count": 99,
   "id": "2cd688be-7098-4181-9e40-af8601b27dde",
   "metadata": {},
   "outputs": [
    {
     "name": "stdout",
     "output_type": "stream",
     "text": [
      "{'name': 'Tom', 'age': 17, 'height': 178}\n",
      "{'name': 'Tom', 'age': 17, 'height': 178}\n"
     ]
    }
   ],
   "source": [
    "# dict(**kwarg)\n",
    "print(dict(name='Tom', age=17, height=178))   # {'name': 'Tom', 'age': 17, 'height': 178}\n",
    "\n",
    "def my_dict(**kwargs):\n",
    "    return kwargs\n",
    "\n",
    "print(my_dict(name='Tom', age=17, height=178))  # {'name': 'Tom', 'age': 17, 'height': 178}\n",
    "\n",
    "# 键不是字符串时,无法用关键字参数的形式定义字典\n",
    "d={1:2,3:4}\n",
    "# print(dict(1=2,3=4))  # SyntaxError: expression cannot contain assignment, perhaps you meant \"==\"?"
   ]
  },
  {
   "cell_type": "code",
   "execution_count": 100,
   "id": "4c157cff-ed9e-4327-b5a4-6cb109dd6d54",
   "metadata": {},
   "outputs": [
    {
     "name": "stdout",
     "output_type": "stream",
     "text": [
      "{'name': None, 'age': None, 'gender': None}\n",
      "{'h': None, 'e': None, 'l': None, 'o': None}\n",
      "{'h': 'abcd', 'e': 'abcd', 'l': 'abcd', 'o': 'abcd'}\n"
     ]
    }
   ],
   "source": [
    "# 利用字典的类方法fromkeys创建，是staticmethod，用类型名调用，而不是变量调用\n",
    "# 局限性：只能创建所有值都一样的字典\n",
    "dic1=dict.fromkeys(('name','age','gender'))\n",
    "print(dic1)  # {'name': None, 'age': None, 'gender': None}\n",
    "\n",
    "dic1=dict.fromkeys('hello')\n",
    "print(dic1)  # {'h': None, 'e': None, 'l': None, 'o': None}\n",
    "\n",
    "dic1=dict.fromkeys('hello','abcd')\n",
    "print(dic1)  # {'h': 'abcd', 'e': 'abcd', 'l': 'abcd', 'o': 'abcd'}"
   ]
  },
  {
   "cell_type": "markdown",
   "id": "e2eb03a3-fbc6-4429-81f0-57dfc1f026ea",
   "metadata": {},
   "source": [
    "- ### <b>字典2 -- 字典的对象方法</b>"
   ]
  },
  {
   "cell_type": "markdown",
   "id": "e73010bd-590f-4c0f-ab31-47a93da5fc4a",
   "metadata": {},
   "source": [
    "- <font color=blue><b>dict.keys()</b></font>\n",
    "    - 返回由字典键组成的一个新视图（dict_keys类型）\n",
    "        - 视图类似一个<font color=red><b>投影</b></font>（阳光下的影子）\n",
    "        - 当原视图发生改变时，<font color=red><b>视图也会发生改变</b></font>\n",
    "        - dict_keys是可迭代对象，可以转为列表或元组\n",
    "    - 返回的对象是视图对象，这意味着当字典改变时，视图也会相应改变"
   ]
  },
  {
   "cell_type": "markdown",
   "id": "7446fd70-0a10-41a4-946e-60d8a09fce07",
   "metadata": {},
   "source": [
    "- <font color=blue><b>dict.values()</b></font>\n",
    "    - 返回由字典值组成的一个新视图（dict_values类型）\n",
    "    - dict_values是可迭代对象，可以转为列表或元组\n",
    "- <font color=blue><b>dict.items()</b></font>\n",
    "    - 返回由字典键和值组成的一个新视图（dict_items类型）\n",
    "    - dict_items是可迭代对象，可以转为列表或元组"
   ]
  },
  {
   "cell_type": "code",
   "execution_count": 101,
   "id": "9a2aef3b-9ed0-42ac-b3cb-b3ee36afb379",
   "metadata": {},
   "outputs": [
    {
     "name": "stdout",
     "output_type": "stream",
     "text": [
      "3\n",
      "{'name': 'Tom', 'age': 17, 'height': 178}\n",
      "dict_values(['Tom', 17, 178])\n",
      "dict_keys(['name', 'age', 'height'])\n",
      "dict_items([('name', 'Tom'), ('age', 17), ('height', 178)])\n",
      "3\n",
      "['name', 'age', 'height']\n",
      "['Tom', 17, 178]\n",
      "[('name', 'Tom'), ('age', 17), ('height', 178)]\n",
      "\n",
      "{'name': 'Tom', 'age': 17, 'height': 178, 'weight': 76.5}\n",
      "dict_values(['Tom', 17, 178, 76.5])\n",
      "dict_keys(['name', 'age', 'height', 'weight'])\n",
      "dict_items([('name', 'Tom'), ('age', 17), ('height', 178), ('weight', 76.5)])\n",
      "3\n",
      "['name', 'age', 'height']\n",
      "['Tom', 17, 178]\n",
      "[('name', 'Tom'), ('age', 17), ('height', 178)]\n"
     ]
    }
   ],
   "source": [
    "d={'name': 'Tom', 'age': 17, 'height': 178}\n",
    "view_keys=d.keys()\n",
    "view_values=d.values()\n",
    "view_items=d.items()\n",
    "length=len(d)\n",
    "print(length)  # 3\n",
    "\n",
    "list_keys=list(view_keys)\n",
    "list_values=list(view_values)\n",
    "list_items=list(view_items)\n",
    "\n",
    "print(d)\n",
    "print(view_values)   # dict_values(['Tom', 17, 178])\n",
    "print(view_keys)   # dict_keys(['name', 'age', 'height'])\n",
    "print(view_items)  # dict_items([('name', 'Tom'), ('age', 17), ('height', 178)])\n",
    "print(length)  # 3\n",
    "print(list_keys)   # ['name', 'age', 'height']\n",
    "print(list_values)   # ['Tom', 17, 178]\n",
    "print(list_items)  # [('name', 'Tom'), ('age', 17), ('height', 178)]\n",
    "print()\n",
    "\n",
    "\n",
    "# 修改字典, 视图也会发生改变\n",
    "d['weight']=76.5\n",
    "print(d)\n",
    "# 视图会跟着发生改变\n",
    "print(view_values)   # dict_values(['Tom', 17, 178, 76.5])\n",
    "print(view_keys)   # dict_keys(['name', 'age', 'height', 'weight'])\n",
    "print(view_items)  # dict_items([('name', 'Tom'), ('age', 17), ('height', 178), ('weight', 76.5)])\n",
    "# length不是视图, 所以不会跟着字典改变\n",
    "print(length)  # 3\n",
    "# 列表不会跟着发生改变\n",
    "print(list_keys)   # ['name', 'age', 'height']\n",
    "print(list_values)   # ['Tom', 17, 178]\n",
    "print(list_items)  # [('name', 'Tom'), ('age', 17), ('height', 178)]\n"
   ]
  },
  {
   "cell_type": "markdown",
   "id": "fb009ff9-c436-45f4-b1f0-9a5adea4386a",
   "metadata": {},
   "source": [
    "视图和列表的指向没有关联，视图和原数据关联，列表与视图没有关联，返回新的数据\n",
    "\n",
    "修改原字典的时候，视图跟着变化，但是列表没有变\n",
    "\n",
    "<img src='img\\dict_1.png' width=500>"
   ]
  },
  {
   "cell_type": "code",
   "execution_count": null,
   "id": "5ab482c3-1fca-4217-a277-becf283231d5",
   "metadata": {},
   "outputs": [],
   "source": []
  },
  {
   "cell_type": "markdown",
   "id": "fbab756a-5f19-4fc2-ab95-0143f1b2af5b",
   "metadata": {},
   "source": [
    "- <font color=blue><b>dict.get(key, default=None)</b></font>\n",
    "    - 返回指定的键key对应的值，如果key不在字典中，则返回default\n",
    "    - key: 指定的键\n",
    "    - default: 如果指定的键不存在时，返回该值，默认为None"
   ]
  },
  {
   "cell_type": "code",
   "execution_count": 102,
   "id": "3775c861-c696-44c5-be53-e1b270f1984a",
   "metadata": {},
   "outputs": [
    {
     "name": "stdout",
     "output_type": "stream",
     "text": [
      "17\n",
      "17\n",
      "None\n",
      "25\n"
     ]
    }
   ],
   "source": [
    "d={'name': 'Tom', 'age': 17, 'height': 178}\n",
    "\n",
    "print(d['age'])\n",
    "print(d.get('age'))\n",
    "\n",
    "# 区别：索引不存在，则报错；get方法返回默认值\n",
    "# print(d['age1'])  # KeyError: 'age1'\n",
    "print(d.get('age1'))  # None\n",
    "print(d.get('age1', 25))  # 25"
   ]
  },
  {
   "cell_type": "markdown",
   "id": "71671a11-450b-4493-b6d4-4e1ef11e4449",
   "metadata": {},
   "source": [
    "- <font color=blue><b>dict.update([other])</b></font>\n",
    "    - 使用来自other的键/值对更新字典，如果键相同，则覆盖原有的键\n",
    "    - other: \n",
    "        - 可以是另一个字典对象；\n",
    "        - 一个包含键/值对的可迭代对象；\n",
    "        - 关键字参数"
   ]
  },
  {
   "cell_type": "code",
   "execution_count": 103,
   "id": "3e3efa79-4f2b-4dcb-accc-5520eabd91eb",
   "metadata": {
    "scrolled": true
   },
   "outputs": [
    {
     "name": "stdout",
     "output_type": "stream",
     "text": [
      "{'name': 'Tom', 'age': 17, 'height': 178}\n",
      "{'name': 'Tom', 'age': 29, 'height': 178, 'weight': 67.5}\n",
      "{'name': 'Tom', 'age': 44, 'height': 178, 'weight': 167.5}\n",
      "{'name': 'Tom', 'age': 42, 'height': 178, 'weight': 120.5}\n",
      "{'name': 'Tom', 'age': 30, 'height': 178, 'weight': 100}\n",
      "{'name': 'Tom', 'age': 29, 'height': 178, 'weight': 110}\n"
     ]
    }
   ],
   "source": [
    "d={'name': 'Tom', 'age': 17, 'height': 178}\n",
    "d.update()\n",
    "print(d)   # {'name': 'Tom', 'age': 17, 'height': 178}\n",
    "\n",
    "d.update((['age',29],['weight',67.5]))\n",
    "print(d)   # {'name': 'Tom', 'age': 29, 'height': 178, 'weight': 67.5}\n",
    "\n",
    "# 标准写法：\n",
    "d.update([('age',44),('weight',167.5)]) # {'name': 'Tom', 'age': 29, 'height': 178, 'weight': 67.5}\n",
    "print(d)  # {'name': 'Tom', 'age': 44, 'height': 178, 'weight': 167.5}\n",
    "\n",
    "# 传字典\n",
    "d.update({'age':42, 'weight':120.5})\n",
    "print(d)  # {'name': 'Tom', 'age': 42, 'height': 178, 'weight': 120.5}\n",
    "\n",
    "# 传zip，拉链操作\n",
    "d.update(zip(('age','weight'),(30, 100))) \n",
    "print(d)  # {'name': 'Tom', 'age': 30, 'height': 178, 'weight': 100}\n",
    "\n",
    "# 关键字参数\n",
    "d.update(age=29, weight=110)\n",
    "print(d)   # {'name': 'Tom', 'age': 29, 'height': 178, 'weight': 110}"
   ]
  },
  {
   "cell_type": "markdown",
   "id": "1b4372af-9b94-4486-b496-52a23700c4e5",
   "metadata": {},
   "source": [
    "- <font color=blue><b>dict.pop(key[, default])</b></font>\n",
    "    - 移除指定的键key，并返回对应的值，如果key不在字典中，则返回default\n",
    "    - key: 指定的键\n",
    "    - default: 指定当键不存在时，应该返回的值\n",
    "    - 如果default未给出，且key不存在于字典中，则会引发KeyError"
   ]
  },
  {
   "cell_type": "code",
   "execution_count": 104,
   "id": "d3123b45-2525-4c1f-88dc-d12632bbaa79",
   "metadata": {},
   "outputs": [
    {
     "name": "stdout",
     "output_type": "stream",
     "text": [
      "30\n",
      "{'name': 'Tom', 'height': 178, 'weight': 100}\n",
      "Noname\n"
     ]
    }
   ],
   "source": [
    "d={'name': 'Tom', 'age': 30, 'height': 178, 'weight': 100}\n",
    "print(d.pop('age'))  # 30\n",
    "print(d)    # {'name': 'Tom', 'height': 178, 'weight': 100}\n",
    "\n",
    "\n",
    "# print(d.pop('namee'))  # KeyError: 'namee'\n",
    "print(d.pop('namee', 'Noname'))  # Noname, 指定默认值，键不存在则返回Noname"
   ]
  },
  {
   "cell_type": "markdown",
   "id": "364274d3-dda0-42c0-b193-811c5258655b",
   "metadata": {},
   "source": [
    "- <font color=blue><b>dict.popitem()</b></font>\n",
    "    - 从字典中<font color=red><b>移除最后一个键值对</b></font>，并返回它们构成的元组（键，值）"
   ]
  },
  {
   "cell_type": "code",
   "execution_count": 105,
   "id": "8bba191f-d2e1-47a7-bec6-5cea8d550925",
   "metadata": {},
   "outputs": [
    {
     "name": "stdout",
     "output_type": "stream",
     "text": [
      "('weight', 100)\n",
      "{'name': 'Tom', 'age': 30, 'height': 178}\n"
     ]
    }
   ],
   "source": [
    "d={'name': 'Tom', 'age': 30, 'height': 178, 'weight': 100}\n",
    "print(d.popitem())   # ('weight', 100)\n",
    "print(d)  # {'name': 'Tom', 'age': 30, 'height': 178}"
   ]
  },
  {
   "cell_type": "markdown",
   "id": "c707d18e-2e8f-463a-a528-a2fcfdeba36e",
   "metadata": {},
   "source": [
    "- <font color=blue><b>dict.setdefault(key, default=None)</b></font>\n",
    "    - 如果字典存在键key，返回它的值\n",
    "    - 如果不存在，加入值为default的键key，并返回default，default默认为None"
   ]
  },
  {
   "cell_type": "code",
   "execution_count": 106,
   "id": "4d41d5f8-fbab-47a5-a2e0-de5feb13a2d8",
   "metadata": {},
   "outputs": [
    {
     "name": "stdout",
     "output_type": "stream",
     "text": [
      "30\n",
      "30\n",
      "None\n",
      "{'name': 'Tom', 'age': 30, 'height': 178}\n",
      "None\n",
      "{'name': 'Tom', 'age': 30, 'height': 178, 'weight': None}\n"
     ]
    }
   ],
   "source": [
    "d={'name': 'Tom', 'age': 30, 'height': 178}\n",
    "print(d.get('age'))         # 30\n",
    "print(d.setdefault('age'))  # 30\n",
    "\n",
    "\n",
    "print(d.get('weight'))         # None\n",
    "print(d)   # {'name': 'Tom', 'age': 30, 'height': 178}\n",
    "# setdefault 在get基础上，还做了一个新增\n",
    "print(d.setdefault('weight'))  # None\n",
    "print(d)    # {'name': 'Tom', 'age': 30, 'height': 178, 'weight': None}"
   ]
  },
  {
   "cell_type": "markdown",
   "id": "3fec1f55-c276-4777-af47-5c1d5b5ad91f",
   "metadata": {},
   "source": [
    "- <font color=blue><b>dict.copy()</b></font>\n",
    "    - 返回原字典的浅拷贝"
   ]
  },
  {
   "cell_type": "code",
   "execution_count": 107,
   "id": "4d4230cd-c26f-4118-9749-8213aafd75be",
   "metadata": {},
   "outputs": [
    {
     "name": "stdout",
     "output_type": "stream",
     "text": [
      "{'name': 'Tom', 'age': 30, 'height': 178}\n"
     ]
    }
   ],
   "source": [
    "d={'name': 'Tom', 'age': 30, 'height': 178}\n",
    "new_d=d.copy()\n",
    "print(new_d)   # {'name': 'Tom', 'age': 30, 'height': 178}\n"
   ]
  },
  {
   "cell_type": "markdown",
   "id": "26b9156a-8ac9-4d31-b47e-937fec679d7b",
   "metadata": {},
   "source": [
    "- <font color=blue><b>dict.clear()</b></font>\n",
    "    - 移除字典中的所有元素，无返回值\n",
    "    - 所有的可变类型数据都有浅拷贝copy和清空clear方法"
   ]
  },
  {
   "cell_type": "markdown",
   "id": "d5b5a64e-8d9d-4f4d-a12b-b852d2e8335b",
   "metadata": {},
   "source": [
    "- ### <b>集合1（set）</b>\n",
    "    - set<font color=red><b>可以改变</b></font>\n",
    "        - 集合不能嵌套，里面不能有可变的数据\n",
    "    - 它不是序列\n",
    "    - <font color=red><b>无序性</b></font>（集合元素是没有顺序的）\n",
    "        - 意味着不确定性，一般不拿来用\n",
    "    - 不重复性（元素是不重复的，即使有多个相同元素也会去重）\n",
    "    - 集合里只能包含<font color=red><b>不可变的数据类型</b></font>\n",
    "        - 不能放列表、字典等可变数据类型\n",
    "    - 可以使用<font color=red><b>花括号{}</b></font>或者set()函数创建集合\n",
    "    - <font color=red><b>创建空集合必须用set()</b></font>，因为{}是用来创建字典的\n",
    "    - 作用：\n",
    "        - <font color=red><b>去重</b></font>\n",
    "        - <font color=red><b>关系测试</b></font>"
   ]
  },
  {
   "cell_type": "code",
   "execution_count": 108,
   "id": "c5afa94d-74d0-4ca3-af25-6517f2641bee",
   "metadata": {},
   "outputs": [
    {
     "name": "stdout",
     "output_type": "stream",
     "text": [
      "<class 'set'>\n",
      "{False, (1479, 1), 345, 'hello', 78.9, (3+4j)}\n",
      "[False, (1479, 1), 345, 'hello', 78.9, (3+4j)]\n",
      "(False, (1479, 1), 345, 'hello', 78.9, (3+4j))\n",
      "{False, (1479, 1), 345, 'hello', 78.9, (3+4j)}\n"
     ]
    }
   ],
   "source": [
    "s={345,78.9,False, 3+4j,'hello', (1479,1)}\n",
    "print(type(s))           # <class 'set'>\n",
    "\n",
    "# 打印的顺序和定义不一样，因为集合时无序的\n",
    "print(s)       # {False, 'hello', (1479, 1), 345, 78.9, (3+4j)}\n",
    "\n",
    "print(list(s))   # [False, 'hello', (1479, 1), 345, 78.9, (3+4j)]\n",
    "print(tuple(s))  # (False, 'hello', (1479, 1), 345, 78.9, (3+4j))\n",
    "\n",
    "# 集合中不能存在可变的数据\n",
    "# s={345,78.9,False, 3+4j,'hello',(1479,1), [], {}}    # TypeError: unhashable type: 'list'\n",
    "\n",
    "# 集合去自动去除重复项\n",
    "s={345,78.9,False, 3+4j,'hello', (1479,1), 345, 345, 345}\n",
    "print(s)     # {False, 'hello', (1479, 1), 345, 78.9, (3+4j)}"
   ]
  },
  {
   "cell_type": "markdown",
   "id": "7e6c9db1-59c9-4629-9c2f-3d3c7df6ac44",
   "metadata": {},
   "source": [
    "- <b><font color=blue>set([iterable])</font></b>"
   ]
  },
  {
   "cell_type": "code",
   "execution_count": 109,
   "id": "bf74ac16-2396-432b-a629-3a07482bdc93",
   "metadata": {},
   "outputs": [
    {
     "name": "stdout",
     "output_type": "stream",
     "text": [
      "set()\n",
      "{1, 2, 3, 4}\n",
      "(1, 2, 3, 4)\n"
     ]
    }
   ],
   "source": [
    "# 定义空集合的为一方法 set()，不能用花括号\n",
    "s=set()\n",
    "print(set())    # set()\n",
    "\n",
    "\n",
    "tup=(1,2,3,1,1,2,3,4)\n",
    "new_s=set(tup)\n",
    "print(new_s)    # {1, 2, 3, 4}\n",
    "tup=tuple(new_s)   # 重新转为tuple，重复元素已经移除(去重)\n",
    "print(tup)   # (1, 2, 3, 4)"
   ]
  },
  {
   "cell_type": "markdown",
   "id": "a9b78b6e-82ba-4377-908c-aea25dd9e966",
   "metadata": {},
   "source": [
    "- <font color=blue><b>frozenset([iterable])</b></font>\n",
    "    - 返回一个新的frozenset对象，即不可变的集合，其元素来自于iterable，如果未指定参数，则返回冻结的空集合。\n",
    "    - 作用：set中的元素必须时不可变类型的，而frozenset是可以作为set元素的。"
   ]
  },
  {
   "cell_type": "code",
   "execution_count": 110,
   "id": "8802c457-107c-4f56-93b1-29f79b09565d",
   "metadata": {},
   "outputs": [
    {
     "name": "stdout",
     "output_type": "stream",
     "text": [
      "frozenset()\n",
      "frozenset({1, 2, 3, 4})\n",
      "(1, 2, 3, 4)\n",
      "['h', 'e', 'l', 'l', 'o', ' ', 'w', 'o', 'r', 'l', 'd']\n",
      "('h', 'e', 'l', 'l', 'o', ' ', 'w', 'o', 'r', 'l', 'd')\n",
      "{'e', 'r', 'o', 'l', 'h', 'd', 'w', ' '}\n",
      "frozenset({'e', 'r', 'o', 'l', 'h', 'd', 'w', ' '})\n",
      "{False, frozenset({'a', 'b', 'c'}), (1479, 1), 78.9, (3+4j), frozenset({1, 2, 3, 4}), 345, 'hello'}\n"
     ]
    }
   ],
   "source": [
    "print(frozenset())        # frozenset()\n",
    "\n",
    "tup=(1,2,3,1,1,2,3,4)\n",
    "new_s=frozenset(tup)\n",
    "print(new_s)    # frozenset({1, 2, 3, 4})\n",
    "tup=tuple(new_s)   # 重新转为tuple，重复元素已经移除(去重)\n",
    "print(tup)      # (1, 2, 3, 4)\n",
    "\n",
    "string='hello world'\n",
    "print(list(string))   # ['h', 'e', 'l', 'l', 'o', ' ', 'w', 'o', 'r', 'l', 'd']\n",
    "print(tuple(string))   # ('h', 'e', 'l', 'l', 'o', ' ', 'w', 'o', 'r', 'l', 'd')\n",
    "print(set(string))  # {' ', 'l', 'o', 'w', 'r', 'h', 'd', 'e'}\n",
    "print(frozenset(string))  # frozenset({' ', 'l', 'o', 'w', 'r', 'h', 'd', 'e'})\n",
    "\n",
    "# 集合中可以放frozenset()\n",
    "s={345,78.9,False, 3+4j,'hello',(1479,1), frozenset([1,2,3,4]), frozenset({'a':1, 'b':2, 'c':3})}\n",
    "print(s)   # {False, 'hello', (1479, 1), frozenset({'a', 'b', 'c'}), 78.9, (3+4j), frozenset({1, 2, 3, 4}), 345}"
   ]
  },
  {
   "cell_type": "markdown",
   "id": "5aed3007-5e7d-4685-b060-abdf8306d167",
   "metadata": {},
   "source": [
    "- 关系测试\n",
    "- \n",
    "<img src='img/set_1.png' width=300>\n",
    "\n",
    "<img src='img/set_2.png' width=300>\n",
    "\n",
    "<img src='img/set_3.png' width=350>\n",
    "\n",
    "<img src='img/set_4.png' width=300>"
   ]
  },
  {
   "cell_type": "code",
   "execution_count": 111,
   "id": "a6a893fe-4113-4d9e-a32f-64be29363fb6",
   "metadata": {},
   "outputs": [
    {
     "name": "stdout",
     "output_type": "stream",
     "text": [
      "True\n",
      "True\n",
      "True\n",
      "{'f', 5}\n",
      "{'f', '4', 5, 4, 6, 'a'}\n",
      "{'4', 'a'}\n",
      "{4, 6}\n",
      "{'4', 4, 6, 'a'}\n"
     ]
    }
   ],
   "source": [
    "s1={'4','a','f',5}\n",
    "s2={4,5,'f',6}\n",
    "s3={'a',5}\n",
    "\n",
    "# 判定父子关系\n",
    "print(s3<s1) # 真子集  True\n",
    "print(s3<=s1) # 子集  True\n",
    "print(s1>s3)  # True\n",
    "\n",
    "# 求交集\n",
    "print(s1 & s2)   # {5, 'f'}\n",
    "\n",
    "# 求并集\n",
    "print(s1 | s2)  # {4, 5, 6, 'f', '4', 'a'}\n",
    "\n",
    "\n",
    "# 求差集\n",
    "print(s1-s2)   # {'a', '4'}, 从s1中去掉s2的元素\n",
    "print(s2-s1)   # {4, 6}\n",
    "\n",
    "# 对称差集 (异或符号）\n",
    "print(s1 ^ s2)  # {4, 6, '4', 'a'}\n"
   ]
  },
  {
   "cell_type": "markdown",
   "id": "d05a2dec-fd19-4c01-93f3-36e6b58ac1d6",
   "metadata": {},
   "source": [
    "- 复杂情况: 优先级\n",
    "    -  \\- & ^ |\n",
    "\n",
    "<img src='img/set_5.png' width=300>"
   ]
  },
  {
   "cell_type": "code",
   "execution_count": 112,
   "id": "097a40ce-317b-430c-af41-284d16cc64f4",
   "metadata": {},
   "outputs": [
    {
     "name": "stdout",
     "output_type": "stream",
     "text": [
      "{'4', 'f', 5, 4, 6, 'a'}\n"
     ]
    }
   ],
   "source": [
    "s1={'4','a','f',5}\n",
    "s2={4,5,'f',6}\n",
    "s3={'a',5}\n",
    "# s2-s3: {4, 'f', 6}\n",
    "# {4, 'f', 6}&s1: {'f'}\n",
    "# s1^{'f'}: {'4','a','f',5}\n",
    "# {'4','a','f',5}|s2: {'4','a','f',5, 4,6}\n",
    "print(s1^s2-s3&s1|s2)  # {4, 5, 6, 'f', 'a', '4'}"
   ]
  },
  {
   "cell_type": "markdown",
   "id": "76e06000-43cb-4de5-8dda-cfb91d39e52f",
   "metadata": {},
   "source": [
    "- ### <b>集合2 -- 集合的对象方法</b>\n",
    "\n",
    "- <font color=red><b>set和frozenset对象都可用</b></frozenset>\n",
    "- frozenset不可变，所以这些方法都不是原地操作\n",
    "\n",
    "- <font color=blue><b>isdisjoint(other)</b></font>\n",
    "    - other: Iterable\n",
    "    - 如果集合中没有与other共有的元素, 则返回True\n"
   ]
  },
  {
   "cell_type": "code",
   "execution_count": 113,
   "id": "3c860913-e0c0-4819-b3f3-bd6beb8c82c7",
   "metadata": {},
   "outputs": [
    {
     "name": "stdout",
     "output_type": "stream",
     "text": [
      "True\n",
      "True\n"
     ]
    }
   ],
   "source": [
    "s1={'4','a','f',5}\n",
    "s2={4,5,'f',6}\n",
    "s3={'a',5}\n",
    "f_set=frozenset('hello world')\n",
    "\n",
    "print(s1.isdisjoint([1,2,3,4]) )    #  True\n",
    "print(f_set.isdisjoint(s1))   # True"
   ]
  },
  {
   "cell_type": "markdown",
   "id": "72056810-94df-4429-872e-32c8e9bb633e",
   "metadata": {},
   "source": [
    "- <font color=blue><b>issubset(other)</b></font>\n",
    "    - other: Iterable\n",
    "    - 如果集合中的每个元素都在other之中，则返回True\n",
    "        - other 是否时父集合\n",
    "    - 对应的运算符版本set<=other，要求参数为集合"
   ]
  },
  {
   "cell_type": "code",
   "execution_count": 114,
   "id": "e2ff44ae-58bf-44f7-9260-798baeb0ba5d",
   "metadata": {},
   "outputs": [
    {
     "name": "stdout",
     "output_type": "stream",
     "text": [
      "True\n",
      "False\n",
      "True\n"
     ]
    }
   ],
   "source": [
    "s1={'4','a','f',5}\n",
    "s2={4,5,'f',6}\n",
    "s3={'a',5}\n",
    "f_set=frozenset('hello world')\n",
    "\n",
    "# other 可以是集合或者可迭代对象\n",
    "print(s3.issubset(s1))   # True\n",
    "print(s3.issubset([1,2,3,4]))   # False\n",
    "# s3和s1必须是集合  \n",
    "print(s3 <=s1)     # True"
   ]
  },
  {
   "cell_type": "markdown",
   "id": "f6d2a84b-706b-4673-9f45-931aff1d77f8",
   "metadata": {},
   "source": [
    "- <font color=blue><b>issuperset(other)</b></font>\n",
    "    - other: Iterable\n",
    "    - 如果other中的每个元素都在集合之中，则返回True\n",
    "        - other 是否时子集合\n",
    "    - 对应的运算符版本set>=other，要求参数为集合"
   ]
  },
  {
   "cell_type": "markdown",
   "id": "d8732778-c7d5-4e1f-ab28-4a43a7dac4fd",
   "metadata": {},
   "source": [
    "- <font color=blue><b>union(*others)</b></font>\n",
    "    - other: Iterable，可接受多个可迭代对象\n",
    "    - 返回一个新集合，其中包含来自原集合以及others指定的所有集合中的元素（即<font color=red><b>并集</b></font>）\n",
    "    - 对应的运算符半分set|other|...，要求参数为集合"
   ]
  },
  {
   "cell_type": "code",
   "execution_count": null,
   "id": "cdc41cb5-4f00-4fec-9392-d3184c720280",
   "metadata": {},
   "outputs": [],
   "source": []
  },
  {
   "cell_type": "code",
   "execution_count": 115,
   "id": "0fbe526a-731c-4b25-bba2-acce277e2694",
   "metadata": {},
   "outputs": [
    {
     "name": "stdout",
     "output_type": "stream",
     "text": [
      "{1, 2, 3, 4, 5, 'c', 'b', 'a'}\n"
     ]
    }
   ],
   "source": [
    "# 字典作为可迭代对象，只对key进行操作\n",
    "s1={'4','a','f',5}\n",
    "s2={4,5,'f',6}\n",
    "s3={'a',5}\n",
    "f_set=frozenset('hello world')\n",
    "\n",
    "print(s3.union('abc',[1,2],(3,4),{1:2,5:6},{1,2,3}))  # {1, 2, 3, 4, 'c', 5, 'b', 'a'}"
   ]
  },
  {
   "cell_type": "markdown",
   "id": "591d8722-39e6-49ff-b22b-53bd613dd6ac",
   "metadata": {},
   "source": [
    "- <font color=blue><b>intersection(*others)</b></font>\n",
    "    - other: Iterable，可接受多个可迭代对象\n",
    "    - 返回一个新集合，其中包含在原集合以及others指定的的元素（即<font color=red><b>交集</b></font>）\n",
    "    - 对应的运算符半分set&other&...，要求参数为集合"
   ]
  },
  {
   "cell_type": "code",
   "execution_count": 116,
   "id": "70253706-9bc7-4f7a-a54e-dd4da7740fc6",
   "metadata": {},
   "outputs": [
    {
     "name": "stdout",
     "output_type": "stream",
     "text": [
      "set()\n",
      "{'a'}\n"
     ]
    }
   ],
   "source": [
    "s1={'4','a','f',5}\n",
    "s2={4,5,'f',6}\n",
    "s3={'a',5}\n",
    "f_set=frozenset('hello world')\n",
    "\n",
    "print(s3.intersection('abc',[1,2],(3,4),{1:2,5:6},{1,2,3}))  # set() , 空集合\n",
    "print(s3.intersection('abc',[1,2,'a'],(3,4,'a'),{1:2,5:6,'a':7},{1,3,'a'}))  # {'a'}"
   ]
  },
  {
   "cell_type": "markdown",
   "id": "7e57d18d-f3e4-434e-8ac2-e453844ff158",
   "metadata": {},
   "source": [
    "- <font color=blue><b>difference(*others)</b></font>\n",
    "    - other: Iterable，可接受多个可迭代对象\n",
    "    - 返回一个新集合，其中包含在原集合中在others指定的其他集合中不存在的元素（即<font color=red><b>差集</b></font>）\n",
    "    - 对应的运算符半分set-other-...，要求参数为集合"
   ]
  },
  {
   "cell_type": "code",
   "execution_count": 117,
   "id": "7f2d2dcc-eb47-485f-b673-f5e436a9bf44",
   "metadata": {},
   "outputs": [
    {
     "name": "stdout",
     "output_type": "stream",
     "text": [
      "{5}\n"
     ]
    }
   ],
   "source": [
    "print(s3.difference('abc',[1,2,'a'],(3,4,'a'),{1:2,a:6},{1,'a',3}))  # {5}"
   ]
  },
  {
   "cell_type": "markdown",
   "id": "de1c7a26-f5f1-400f-a99b-1ef6682d0c26",
   "metadata": {},
   "source": [
    "- <font color=blue><b>symmetric_difference(other)</b></font>\n",
    "    - other: Iterable\n",
    "    - 返回一个新集合，其中的元素或属于原籍和，或属于other指定的其他集合，但不能同时属于两者（即<font color=red><b>对称差</b></font>）\n",
    "    - 对应的运算符半分set^other，要求参数为集合"
   ]
  },
  {
   "cell_type": "code",
   "execution_count": 118,
   "id": "37d60a2e-1263-4d6c-bbaf-7f05b540c566",
   "metadata": {},
   "outputs": [
    {
     "name": "stdout",
     "output_type": "stream",
     "text": [
      "{'4', 4, 5, 6, '5', '6'}\n"
     ]
    }
   ],
   "source": [
    "s1={'4','a','f',5}\n",
    "s2={4,5,'f',6}\n",
    "\n",
    "print(s2.symmetric_difference('45f6'))   # {4, '6', 5, 6, '4', '5'}"
   ]
  },
  {
   "cell_type": "markdown",
   "id": "75b4ac9f-f7d2-4ee6-8179-8b981f09fdcd",
   "metadata": {},
   "source": [
    "- <font color=blue><b>copy()</b></font>\n",
    "    - 返回原集合的浅拷贝"
   ]
  },
  {
   "cell_type": "markdown",
   "id": "45e66ef6-58f8-4627-92ad-52cbf85811ce",
   "metadata": {},
   "source": [
    "- <font color=red><b>仅set对象可用</b></frozenset>\n",
    "\n",
    "- <font color=blue><b>update(*others)</b></font>\n",
    "    - others: Iterable，可传多个迭代对象\n",
    "    - 跟辛几何，添加来自others中的所有元素\n",
    "    - <font color=red><b>原地操作版本的求并集</b></font>"
   ]
  },
  {
   "cell_type": "code",
   "execution_count": 119,
   "id": "380431f2-a501-406d-b864-f672ed677eca",
   "metadata": {},
   "outputs": [
    {
     "name": "stdout",
     "output_type": "stream",
     "text": [
      "{1, 2, 3, 4, 5, 'c', 'b', 'a'}\n",
      "{1, 2, 3, 4, 5, 'c', 'b', 'a'}\n"
     ]
    }
   ],
   "source": [
    "print(s3.union('abc',[1,2],(3,4),{1:2,5:6},{1,2,3}))  # {1, 2, 3, 4, 'c', 5, 'b', 'a'}\n",
    "\n",
    "s3.update('abc',[1,2],(3,4),{1:2,5:6},{1,2,3})\n",
    "print(s3)   # {1, 2, 3, 4, 'c', 5, 'b', 'a'}"
   ]
  },
  {
   "cell_type": "markdown",
   "id": "a1536b94-3428-4c8e-ace3-6dca9ca481d1",
   "metadata": {},
   "source": [
    "- <font color=blue><b>intersection_update(*others)</b></font>\n",
    "    - <font color=red><b>原地操作版本的求交集</b></font>\n",
    "- <font color=blue><b>difference_update(*others)</b></font>\n",
    "    - <font color=red><b>原地操作版本的求差集</b></font>\n",
    "- <font color=blue><b>symmetric_differen_update(other)</b></font>\n",
    "    - <font color=red><b>原地操作版本的求对称差集</b></font>\n"
   ]
  },
  {
   "cell_type": "code",
   "execution_count": 120,
   "id": "53aadcc2-99ec-44d2-aa52-9890ee5fba76",
   "metadata": {},
   "outputs": [
    {
     "name": "stdout",
     "output_type": "stream",
     "text": [
      "{5}\n",
      "{5}\n"
     ]
    }
   ],
   "source": [
    "s3={'a',5}\n",
    "print(s3.difference('abc',[1,2,'a'],(3,4,'a'),{1:2,a:6},{1,'a',3}))  # {5}\n",
    "s3.difference_update('abc',[1,2,'a'],(3,4,'a'),{1:2,a:6},{1,'a',3})   # {5}\n",
    "\n",
    "print(s3)"
   ]
  },
  {
   "cell_type": "markdown",
   "id": "758158d3-bf27-4eda-ab48-fcd8f8b948de",
   "metadata": {},
   "source": [
    "- <font color=blue><b>add(elem)</b></font>\n",
    "    - 将元素elem添加到集合中，如果元素已经存在，则没有影响"
   ]
  },
  {
   "cell_type": "code",
   "execution_count": 121,
   "id": "9e5ad7f1-5eb6-4311-83a4-25d2eebae5f7",
   "metadata": {},
   "outputs": [
    {
     "name": "stdout",
     "output_type": "stream",
     "text": [
      "{'a', 5, 6}\n"
     ]
    }
   ],
   "source": [
    "s3={'a',5}\n",
    "s3.add(6)\n",
    "s3.add(6)\n",
    "print(s3)   # {'a', 5, 6}"
   ]
  },
  {
   "cell_type": "markdown",
   "id": "22a53a7b-fcb9-42db-bf71-56dec63b7cd9",
   "metadata": {},
   "source": [
    "- <font color=blue><b>remove(elem)</b></font>\n",
    "    - 从集合中移除元素elem，如果元素不存在于集合中，则会引发KeyError。"
   ]
  },
  {
   "cell_type": "code",
   "execution_count": 122,
   "id": "e4ffb3ef-60aa-48c6-a087-358858477e54",
   "metadata": {},
   "outputs": [
    {
     "name": "stdout",
     "output_type": "stream",
     "text": [
      "(1,)\n"
     ]
    }
   ],
   "source": [
    "s={1,2,3,4}\n",
    "s.remove(3)\n",
    "# s.remove(3)  # KeyError\n",
    "print(a)   # {1, 2, 4}"
   ]
  },
  {
   "cell_type": "markdown",
   "id": "e996d65a-7705-4aed-89c2-da4111bd5cd1",
   "metadata": {},
   "source": [
    "- <font color=blue><b>discard(elem)</b></font>\n",
    "    - 从集合中移除元素elem，如果元素不存在于集合中，则不做任何操作"
   ]
  },
  {
   "cell_type": "code",
   "execution_count": 123,
   "id": "1afc0190-46f1-4730-b677-6a07d10288ad",
   "metadata": {},
   "outputs": [
    {
     "name": "stdout",
     "output_type": "stream",
     "text": [
      "{1, 2, 4}\n"
     ]
    }
   ],
   "source": [
    "s={1,2,3,4}\n",
    "s.discard(3)\n",
    "s.discard(3)  \n",
    "print(s)"
   ]
  },
  {
   "cell_type": "markdown",
   "id": "92d4fff0-8d0f-4551-a465-96a744a543e4",
   "metadata": {},
   "source": [
    "- <font color=blue><b>pop()</b></font>\n",
    "    - 从集合中移除并返回任意一个元素，如果集合为空，则引发KeyError\n",
    "    - 固定删除第一个元素"
   ]
  },
  {
   "cell_type": "code",
   "execution_count": 124,
   "id": "145f2f03-eb8b-4a6c-a081-336ca5c44c4a",
   "metadata": {},
   "outputs": [
    {
     "name": "stdout",
     "output_type": "stream",
     "text": [
      "1\n",
      "2\n",
      "3\n",
      "4\n"
     ]
    }
   ],
   "source": [
    "s={1,2,3,4}\n",
    "print(s.pop())   # 1\n",
    "print(s.pop())   # 1\n",
    "print(s.pop())   # 1\n",
    "print(s.pop())   # 1"
   ]
  },
  {
   "cell_type": "markdown",
   "id": "0764ce15-8662-4b52-8295-eaab439e9b6e",
   "metadata": {},
   "source": [
    "- <font color=blue><b>clear()</b></font>\n",
    "    - 从集合中移除所有元素"
   ]
  },
  {
   "cell_type": "code",
   "execution_count": 125,
   "id": "626faad7-ec1b-4da1-a59c-324a89d140ef",
   "metadata": {},
   "outputs": [
    {
     "name": "stdout",
     "output_type": "stream",
     "text": [
      "set()\n"
     ]
    }
   ],
   "source": [
    "s={1,2,3,4}\n",
    "s.clear()\n",
    "print(s)   # set(), 不是{}"
   ]
  },
  {
   "cell_type": "code",
   "execution_count": null,
   "id": "0576a2b7-e22d-469c-90f7-12578e512f50",
   "metadata": {},
   "outputs": [],
   "source": []
  },
  {
   "cell_type": "code",
   "execution_count": null,
   "id": "3ec03b81-3f81-474f-ab29-5db3916d4a4d",
   "metadata": {},
   "outputs": [],
   "source": []
  },
  {
   "cell_type": "markdown",
   "id": "78a0396f-1154-4c77-959b-547d7fd89e12",
   "metadata": {},
   "source": [
    "## 2. 序列的索引和切片\n",
    "***\n",
    "六个标准的数据类型中是<b><font color=red>序列</font></b>的有：<b><font color=red>字符串（string）、列表（list）、元组（tuple）</font></b>\n",
    "\n",
    "通过索引和切片的方式可以访问序列中的元素\n",
    "\n",
    "- ### <b>序列索引</b>\n",
    "    - 可以提取序列中的一个元素\n",
    "    - 每个元素都有两个索引，一个是正向的正数索引，一个是反向的负数索引\n",
    "    - 如果索引超出范围，则返回IndexError错误\n",
    "    - 正向索引最大值是(n-1)\n",
    "    - 反向索引最小值是-n\n",
    "\n",
    "    <img src='img\\index_1.png' width=300>"
   ]
  },
  {
   "cell_type": "code",
   "execution_count": 126,
   "id": "dbdab3cf",
   "metadata": {},
   "outputs": [
    {
     "name": "stdout",
     "output_type": "stream",
     "text": [
      "牛\n",
      "牛\n"
     ]
    }
   ],
   "source": [
    "# ‘牛’字的正负项索引\n",
    "string='Hello 1牛3 Python'\n",
    "print(string[7])\n",
    "print(string[-9])"
   ]
  },
  {
   "cell_type": "code",
   "execution_count": 127,
   "id": "a40a997b",
   "metadata": {},
   "outputs": [],
   "source": [
    "# 如果索引超出范围，则返回IndexError\n",
    "# print(string[16]) # IndexError: string index out of range"
   ]
  },
  {
   "cell_type": "markdown",
   "id": "a8875fbb",
   "metadata": {},
   "source": [
    "- ### <b>len(s)<b>\n",
    "    - 返回对象的长度（元素个数）\n",
    "    - s可以是序列（如string、tuple、list或range等）或集合（如dictionary、set或frozenset等）\n"
   ]
  },
  {
   "cell_type": "code",
   "execution_count": 128,
   "id": "7deeec28",
   "metadata": {},
   "outputs": [
    {
     "name": "stdout",
     "output_type": "stream",
     "text": [
      "4\n",
      "6\n"
     ]
    }
   ],
   "source": [
    "# len\n",
    "print(len('abcd'))  # 4\n",
    "print(len([1,2,3,5,7,9]))  # 6"
   ]
  },
  {
   "cell_type": "code",
   "execution_count": 129,
   "id": "4ef70984",
   "metadata": {},
   "outputs": [
    {
     "name": "stdout",
     "output_type": "stream",
     "text": [
      "n\n",
      "n\n"
     ]
    }
   ],
   "source": [
    "# 最后一个字符'n'的正向和反向索引\n",
    "string='Hello 1牛3 Python'\n",
    "print(string[len(string)-1])  # n\n",
    "print(string[-1])  # n"
   ]
  },
  {
   "cell_type": "code",
   "execution_count": 130,
   "id": "6479ac4c",
   "metadata": {},
   "outputs": [
    {
     "name": "stdout",
     "output_type": "stream",
     "text": [
      "5\n",
      "4j\n",
      "4j\n",
      "r\n"
     ]
    }
   ],
   "source": [
    "lst=[123, 3.45, False, 4j, 'hello world']\n",
    "print(len(lst))  # 5\n",
    "print(lst[-2])   # 4j\n",
    "print(lst[3])   # 4j\n",
    "print(lst[-1][-3])  # r"
   ]
  },
  {
   "cell_type": "markdown",
   "id": "e4712c30",
   "metadata": {},
   "source": [
    "- ### <b>序列的切片</b>\n",
    "    - 格式：[start: end: step] \n",
    "        - start: 起始索引，包括在切片中(闭区间），默认为0\n",
    "        - end: 结束索引，不包括在切片中（开区间），默认为n，保证最后一个元素包括在内\n",
    "        - step: 步长，如没指定，默认为1\n",
    "    - 从序列中截取起始索引到结束索引的那部分子序列\n",
    "    - 切片包括起始索引，但不包括结束索引\n",
    "    - 当起始索引没有指定时，默认为0\n",
    "    - 当结束索引没有指定时，默认为序列的长度（前提：步长为正）\n",
    "    - 步长不写默认为1，\n",
    "    - 步长为1时，切片时索引依次+1来选择元素；如果步长为2，则切片时索引依次+2来选择元素\n",
    "    - 如果步长为正数，则从左往右开始切片\n",
    "    - 如果步长为负数，则从后面（右往左）开始切片，索引依次做减法\n",
    "    - 步长为正数时，start默认为0；end默认为len(string)；\n",
    "    - 步长为负数时，start默认为-1; end默认为-(len(string)+1)\n",
    "    - 切片操作，如果索引超出范围，不会报错。\n",
    "    - 索引降维（返回一个数据值），切片不降维（返回序列）"
   ]
  },
  {
   "cell_type": "markdown",
   "id": "5db37f9f",
   "metadata": {},
   "source": [
    "- 取‘牛3 P’\n",
    "\n",
    "<img src='img\\index_1.png' width=300 align=left>"
   ]
  },
  {
   "cell_type": "code",
   "execution_count": 131,
   "id": "df692a1b",
   "metadata": {},
   "outputs": [
    {
     "name": "stdout",
     "output_type": "stream",
     "text": [
      "牛3 P\n",
      "牛3 P\n",
      "牛3 P\n",
      "牛3 P\n",
      "牛3 P\n"
     ]
    }
   ],
   "source": [
    "# 序列切片： seq[start: end: step]\n",
    "string='Hello 1牛3 Python'\n",
    "print(string[7:11:1])   # 牛3 P\n",
    "print(string[7:11])   # 牛3 P\n",
    "print(string[-9:-5])   # 牛3 P\n",
    "print(string[7:-5])   # 牛3 P\n",
    "print(string[-9:11])   # 牛3 P"
   ]
  },
  {
   "cell_type": "markdown",
   "id": "1bc37495",
   "metadata": {},
   "source": [
    "<img src='img\\index_2.png' width=300 align=left>"
   ]
  },
  {
   "cell_type": "code",
   "execution_count": 132,
   "id": "9bd5252c",
   "metadata": {},
   "outputs": [
    {
     "name": "stdout",
     "output_type": "stream",
     "text": [
      "yhn\n",
      "yhn\n",
      "Hello 1牛3 Python\n",
      "Hello 1牛3 Python\n"
     ]
    }
   ],
   "source": [
    "# 索引最大为n-1=15， 切片时使用n=16，或[11:16]则保证包括最后一个元素\n",
    "print(string[11:16:2])    # yhn\n",
    "print(string[11:1600:2])  # yhn\n",
    "\n",
    "\n",
    "print(string[::])  # Hello 1牛3 Python\n",
    "print(string[0:16:]) # Hello 1牛3 Python"
   ]
  },
  {
   "cell_type": "markdown",
   "id": "3aaeee56",
   "metadata": {},
   "source": [
    "<img src='img\\index_3.png' width=300 align=left>"
   ]
  },
  {
   "cell_type": "code",
   "execution_count": 133,
   "id": "d50f3874",
   "metadata": {},
   "outputs": [
    {
     "name": "stdout",
     "output_type": "stream",
     "text": [
      "Ho\n",
      "Ho\n"
     ]
    }
   ],
   "source": [
    "print(string[0:5:4])   # Ho\n",
    "print(string[:5:4])   # Ho 起始0可以省略\n"
   ]
  },
  {
   "cell_type": "code",
   "execution_count": 134,
   "id": "6c735483-d5ae-453a-a42e-e5b6f9e2d96e",
   "metadata": {},
   "outputs": [
    {
     "name": "stdout",
     "output_type": "stream",
     "text": [
      "Hello 1牛3 Python\n",
      "Hello 1牛3 Python\n"
     ]
    }
   ],
   "source": [
    "# 取全部\n",
    "print(string[:])\n",
    "print(string[::])"
   ]
  },
  {
   "cell_type": "markdown",
   "id": "ebc1766b-b475-4747-8fd0-68de7561b836",
   "metadata": {},
   "source": [
    "取倒序: 步长为负数\n",
    "\n",
    "<img src='img\\index_4.png' width=300 align=left>"
   ]
  },
  {
   "cell_type": "code",
   "execution_count": 135,
   "id": "bf1a1635-f17c-468a-bf45-012800e44c58",
   "metadata": {},
   "outputs": [
    {
     "name": "stdout",
     "output_type": "stream",
     "text": [
      " 3牛1 \n",
      " 3牛1 \n"
     ]
    }
   ],
   "source": [
    "print(string[9:4:-1])   #  3牛1 \n",
    "print(string[-7:-12:-1])  #  3牛1 "
   ]
  },
  {
   "cell_type": "markdown",
   "id": "bb7ed4c2-2615-426d-aec6-45ea192c8e0f",
   "metadata": {},
   "source": [
    "<img src='img\\index_5.png' width=300 align=left>"
   ]
  },
  {
   "cell_type": "code",
   "execution_count": 136,
   "id": "50fba53d-87b1-4625-837c-6c150d13a0c5",
   "metadata": {},
   "outputs": [
    {
     "name": "stdout",
     "output_type": "stream",
     "text": [
      "P 3牛\n"
     ]
    }
   ],
   "source": [
    "# 步长为负数时，从后面开始切片（从右往左切片）\n",
    "print(string[10:6:-1]) # P 3牛"
   ]
  },
  {
   "cell_type": "markdown",
   "id": "204d625d-6800-45ed-acda-0b89c01b8290",
   "metadata": {},
   "source": [
    "<img src='img\\index_6.png' width=300 align=left>"
   ]
  },
  {
   "cell_type": "code",
   "execution_count": 137,
   "id": "1cc6594e-3dc7-44a5-9d8e-66f70eb72b7d",
   "metadata": {},
   "outputs": [
    {
     "name": "stdout",
     "output_type": "stream",
     "text": [
      "hP牛o\n"
     ]
    }
   ],
   "source": [
    "print(string[13:3:-3])  # hP牛o"
   ]
  },
  {
   "cell_type": "markdown",
   "id": "b9e3f9b5-b80f-45f5-aed0-2af951410dc1",
   "metadata": {},
   "source": [
    "<img src='img\\index_7.png' width=300 align=left>"
   ]
  },
  {
   "cell_type": "code",
   "execution_count": 138,
   "id": "f5f564ae-cea9-4461-88bf-fb91a7ee0f2e",
   "metadata": {},
   "outputs": [
    {
     "name": "stdout",
     "output_type": "stream",
     "text": [
      "olH\n",
      "olH\n"
     ]
    }
   ],
   "source": [
    "# end为-17\n",
    "# 步长为正数时，end默认为len(string)\n",
    "# 步长为负数时，end默认为-(len(string)+1)\n",
    "print(string[4:-17:-2])   # olH\n",
    "print(string[4::-2])      # olH"
   ]
  },
  {
   "cell_type": "markdown",
   "id": "a3b6c965-1959-4d06-b6e0-111fc985ecd4",
   "metadata": {},
   "source": [
    "<img src='img\\index_8.png' width=300 align=left>"
   ]
  },
  {
   "cell_type": "code",
   "execution_count": 139,
   "id": "9d5ba847-c383-4891-b7a5-ac344f3c452d",
   "metadata": {},
   "outputs": [
    {
     "name": "stdout",
     "output_type": "stream",
     "text": [
      "noht\n",
      "noht\n"
     ]
    }
   ],
   "source": [
    "print(string[-1:-5:-1])   # noht\n",
    "print(string[:-5:-1])      # noht"
   ]
  },
  {
   "cell_type": "code",
   "execution_count": 140,
   "id": "5cae5326-dd0f-49c4-8c19-bc7ceec0db60",
   "metadata": {},
   "outputs": [
    {
     "name": "stdout",
     "output_type": "stream",
     "text": [
      "nohtyP 3牛1 olleH\n"
     ]
    }
   ],
   "source": [
    "# 把string倒序输出\n",
    "print(string[::-1])         # nohtyP 3牛1 olleH"
   ]
  },
  {
   "cell_type": "code",
   "execution_count": 141,
   "id": "a063cdd3-6ccf-4961-91f7-bc4d07f79468",
   "metadata": {},
   "outputs": [
    {
     "name": "stdout",
     "output_type": "stream",
     "text": [
      "[3.45, 4j]\n"
     ]
    }
   ],
   "source": [
    "lst=[123, 3.45, False, 4j, 'hello world']\n",
    "print(lst[1:5:2]) # [3.45, 4j]"
   ]
  },
  {
   "cell_type": "markdown",
   "id": "8a8e8f4e-b19c-41f4-b87b-0e9b2be02e1e",
   "metadata": {},
   "source": [
    "<b>切片不降维，输出一个列表片段</b>"
   ]
  },
  {
   "cell_type": "code",
   "execution_count": 142,
   "id": "da97452b-203c-4168-adf4-6a418d86f287",
   "metadata": {},
   "outputs": [
    {
     "name": "stdout",
     "output_type": "stream",
     "text": [
      "[False]\n"
     ]
    }
   ],
   "source": [
    "print(lst[2:3])   # [False]  #切片不降维，输出一个列表片段"
   ]
  },
  {
   "cell_type": "code",
   "execution_count": 143,
   "id": "c90f6108-e8a1-4880-940f-98e49ee440e0",
   "metadata": {},
   "outputs": [
    {
     "data": {
      "text/plain": [
       "'l'"
      ]
     },
     "execution_count": 143,
     "metadata": {},
     "output_type": "execute_result"
    }
   ],
   "source": [
    "string='hello world'\n",
    "string[2]"
   ]
  },
  {
   "cell_type": "code",
   "execution_count": 144,
   "id": "60e10b7d-c0dc-4370-8573-a5be8c844658",
   "metadata": {},
   "outputs": [],
   "source": [
    "item1=1\n",
    "item2=2\n",
    "item3=3\n",
    "item4=4\n",
    "item5=5\n",
    "item6=6\n",
    "item7=7\n",
    "item8=8\n",
    "item9=9"
   ]
  },
  {
   "cell_type": "code",
   "execution_count": 145,
   "id": "2349e067-7b16-464b-a567-bad1912e597a",
   "metadata": {},
   "outputs": [
    {
     "name": "stdout",
     "output_type": "stream",
     "text": [
      "2\n",
      "5\n"
     ]
    }
   ],
   "source": [
    "# 类比一维数据，多个 0维数据放在一起构成一条线\n",
    "lst1=[item1,item2,item3]\n",
    "lst2=[item4,item5,item6]\n",
    "lst3=[item7,item8,item9]\n",
    "print(lst1[1])  # 2\n",
    "print(lst2[1])  # 5"
   ]
  },
  {
   "cell_type": "code",
   "execution_count": 146,
   "id": "7f68e45e-80dd-441c-94d2-81a1855eb324",
   "metadata": {},
   "outputs": [
    {
     "name": "stdout",
     "output_type": "stream",
     "text": [
      "[[1, 2, 3], [4, 5, 6], [7, 8, 9]]\n",
      "[4, 5, 6]\n",
      "5\n"
     ]
    }
   ],
   "source": [
    "# 类比二维数据，多个一维数据构成一个平面\n",
    "# [[1, 2, 3],\n",
    "#  [4, 5, 6], \n",
    "#  [7, 8, 9]]\n",
    "lst4=[lst1,lst2,lst3]\n",
    "print(lst4)       # [[1, 2, 3], [4, 5, 6], [7, 8, 9]]\n",
    "print(lst4[1])    # [4, 5, 6] ,二维数据进行索引，降维后得到一维数据\n",
    "print(lst4[1][1]) # 5"
   ]
  },
  {
   "cell_type": "code",
   "execution_count": 147,
   "id": "1b1c4bc4-3a7b-4bb2-85d7-bd6292cdf745",
   "metadata": {},
   "outputs": [
    {
     "name": "stdout",
     "output_type": "stream",
     "text": [
      "[7, 9]\n",
      "[7]\n"
     ]
    }
   ],
   "source": [
    "# 切片不会降维，只是数据量变少了\n",
    "print(lst3[::2])  # [7, 9] \n",
    "print(lst3[::2][::2][::2][::2])  # [7]"
   ]
  },
  {
   "cell_type": "code",
   "execution_count": 148,
   "id": "9a2e2f75-e2af-4c41-9302-eddf2a4eb254",
   "metadata": {},
   "outputs": [
    {
     "name": "stdout",
     "output_type": "stream",
     "text": [
      "[[1, 2, 3], [7, 8, 9]]\n"
     ]
    }
   ],
   "source": [
    "print(lst4[::2])   # [[1, 2, 3], [7, 8, 9]]"
   ]
  },
  {
   "cell_type": "code",
   "execution_count": 149,
   "id": "ccbe7022-95b7-45f8-ba6a-fea27b204266",
   "metadata": {},
   "outputs": [
    {
     "name": "stdout",
     "output_type": "stream",
     "text": [
      "[[1, 2, 3]]\n"
     ]
    }
   ],
   "source": [
    "print(lst4[::2][::2][::2])    # [[1, 2, 3]]"
   ]
  },
  {
   "cell_type": "code",
   "execution_count": 150,
   "id": "25149035-0b14-4040-b37a-0fdcac01e24e",
   "metadata": {},
   "outputs": [
    {
     "name": "stdout",
     "output_type": "stream",
     "text": [
      "[1]\n"
     ]
    }
   ],
   "source": [
    "print(lst4[::2][0][::2][::2])   # [1]\n",
    "# lst4[::2] ==> [[1, 2, 3], [7, 8, 9]]\n",
    "# [[1, 2, 3], [7, 8, 9]][0] ==>[1, 2, 3]\n",
    "# [1, 2, 3][::2] ==> [1,3]\n",
    "# [1,3][::2] ==> [1]\n",
    "# [1][::2] ==> [1]"
   ]
  },
  {
   "cell_type": "code",
   "execution_count": 151,
   "id": "d06a7fda-9809-4841-bfbe-6eb456afa090",
   "metadata": {},
   "outputs": [
    {
     "name": "stdout",
     "output_type": "stream",
     "text": [
      "el\n",
      "\n",
      " l\n",
      "\n",
      "[]\n"
     ]
    }
   ],
   "source": [
    "string='hello world'\n",
    "print(string[1:5:2]) # 'el'\n",
    "print(string[5:1:2]) # ''  # 起始终点 为正向，步长为负向，方向不对，所以是空字符串\n",
    "print(string[5:1:-2]) # 'l'\n",
    "print(string[1:5:-2]) # '' # 起始终点 为负向，步长为正向，方向不对，所以是空字符串\n",
    "\n",
    "lst=[1,2,3,4,5,6]\n",
    "print(lst[-5:5:-1]) # [] # 起始终点为正向，步长为负向，方向不对，返回空列表"
   ]
  }
 ],
 "metadata": {
  "kernelspec": {
   "display_name": "Python 3 (ipykernel)",
   "language": "python",
   "name": "python3"
  },
  "language_info": {
   "codemirror_mode": {
    "name": "ipython",
    "version": 3
   },
   "file_extension": ".py",
   "mimetype": "text/x-python",
   "name": "python",
   "nbconvert_exporter": "python",
   "pygments_lexer": "ipython3",
   "version": "3.11.9"
  }
 },
 "nbformat": 4,
 "nbformat_minor": 5
}
