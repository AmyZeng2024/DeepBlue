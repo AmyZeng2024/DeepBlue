{
 "cells": [
  {
   "cell_type": "markdown",
   "id": "1a9118f6-73a9-4586-9da3-b1797d62ef8e",
   "metadata": {},
   "source": [
    "## 1. Python基础语法\n",
    "***\n",
    "- ### <b>结构</b>\n",
    "    - 一个Python程序可分为许多逻辑行，一般来说：一个语句就是一行代码，不会跨越多行\n",
    "\n",
    "    - 比如下面的Python程序，一共有3个逻辑行，每一行都通过print()输出一个结果\n",
    "   \n",
    "      <img src='img/code_1.png'>\n",
    "      \n",
    "    - 而如果时下面这种写法，程序执行是会报错的，因为print()一个语句跨越了2行\n",
    "\n",
    "      <img src='img/code_6.png' width=400>\n",
    "      \n",
    "    - 也可以把多个语句里用英文输入下的分号(;)写在一行之内，不过通常不会这么做    \n",
    "   \n",
    "      <img src='img/code_3.png'>\n",
    "      \n",
    "    - 也有语句是可以跨越多行的，比如：函数定义和一些复合语句，复合语句可由多行子语句组成，它通常会跨越多行。\n",
    "    - 比如if-else语句是一个复合语句，它跨越了多行   \n",
    "   \n",
    "      <img src='img/code_4.png'>\n",
    "\n",
    "    - 有的时候，整个复合语句也可能包含于一行之内\n",
    "    - 下面这种写法，叫做三元表达式，它把if-else复合语句卸载了一行之内 \n",
    "   \n",
    "      <img src='img/code_5.png'>"
   ]
  },
  {
   "cell_type": "code",
   "execution_count": 1,
   "id": "a7bc341a-aa15-4f61-aea0-ff4b56af1ff5",
   "metadata": {},
   "outputs": [
    {
     "name": "stdout",
     "output_type": "stream",
     "text": [
      "3.6666666666666665\n"
     ]
    }
   ],
   "source": [
    "# 虽然可以执行，但一般不这样写\n",
    "print(1 +\n",
    "    2 /\n",
    "    3 *\n",
    "    4)"
   ]
  },
  {
   "cell_type": "code",
   "execution_count": 2,
   "id": "aa750064-979f-4e37-92a0-0468cb63f01e",
   "metadata": {},
   "outputs": [
    {
     "name": "stdout",
     "output_type": "stream",
     "text": [
      "you will get a prize\n",
      "you will get a prize\n"
     ]
    }
   ],
   "source": [
    "score = 99\n",
    "\n",
    "# 条件语句, 根据语法需要多行\n",
    "if score >=90:\n",
    "    print('you will get a prize')\n",
    "else:\n",
    "    print('you will get a beat')\n",
    "\n",
    "# 条件语句的特殊写法,可以写在一行\n",
    "print('you will get a prize') if score>=90 else print('you will get a beat')"
   ]
  },
  {
   "cell_type": "code",
   "execution_count": 3,
   "id": "37d5c03a-6a71-43bd-865b-678fae62b1cf",
   "metadata": {},
   "outputs": [],
   "source": [
    "# 函数定义需要多行\n",
    "def f(x,y,z):\n",
    "    return x+y+z"
   ]
  },
  {
   "cell_type": "markdown",
   "id": "53a5a445-fd50-4f2a-8af9-3d87b40174f9",
   "metadata": {},
   "source": [
    "- ### <b>缩进</b>\n",
    "    - 一个逻辑行开头处的空白被用来计算该行的缩进等级，以决定语句段落的组织结构\n",
    "    - 比如前面提到的if语句，可以看到这里的第一个print()前面是有空白的，这就是缩进，它说明了第一个print()是if语句的下级，第二个print()前面没有缩进，那么他和if语句是平级的，如果if条件不成立，那么第一个print()不会执行，因为他是if语句的夏季，而第二个print()仍会执行，因为它和if语句是评级的，并会不受if条件的影响。\n",
    "   \n",
    "      <img src='img/indent_1.png'>\n",
    "      \n",
    "    - 在IDE中写程序时，需要缩进的语句，一般敲回车换行会自动缩进的，一般缩进是占4个空格，我们在写代码需要缩进时通常用Tab键，而不用按4次空格(Tab键一般可以把光标缩进4个空格，通常这是IDE可设置的）\n",
    "    - PyCharm在右下角显示缩进的空格数，如果不是4 spaces，可以点击此处-->Configur indents for Python-->在弹出窗口更改设置。\n",
    "\n",
    "      <img src='img/indent.png' width=500>\n",
    "\n",
    "      更改缩进的设置：\n",
    "      \n",
    "      <img src='img/indent_3.png' width=200>\n",
    "      \n",
    "    - 缩进的空格数是可变的，并非固定4个空格，但是同一个代码块（同一级别）的语句必须包含相同的缩进空格数。\n",
    "\n",
    "      <img src='img/indent_2.png'>"
   ]
  },
  {
   "cell_type": "markdown",
   "id": "e33110c2-3779-4749-8a5f-0290e9ea9def",
   "metadata": {},
   "source": [
    "- ### <b>注释</b>\n",
    "    - 注释在Python解释器的语法分析中会被忽略，通常的说，注释是给人看的，而程序员执行时会被无视\n",
    "    - 单行注释：以 # 开头\n",
    "        - 放在代码的前一行\n",
    "        - 放在同一行代码的后面，通常空两个空格再写注释\n",
    "    - 多行注释：\n",
    "        - 每一行都用一个 # 开头\n",
    "        - 或用三个引号（单、双引号都可以），把注释内容括起来\n",
    "\n",
    "        <img src='img/comments.png'>\n",
    "\n",
    "    - 用途：\n",
    "        - 给自己或其他程序员看，了解程序逻辑\n",
    "        - 暂时不执行的代码可以注释掉"
   ]
  },
  {
   "cell_type": "code",
   "execution_count": 4,
   "id": "5fe2b7a7-c62d-40eb-818c-ff317956f44d",
   "metadata": {},
   "outputs": [
    {
     "name": "stdout",
     "output_type": "stream",
     "text": [
      "prize!\n"
     ]
    }
   ],
   "source": [
    "# 单行注释：这是一个条件语句\n",
    "if score>=90:\n",
    "    print('prize!')  # 单行注释：空两个空格后写注释, 分数好时给奖励\n",
    "else:\n",
    "    print('bang!')  # 单行注释：空两个空格后写注释, 分数不好给一个大棒子"
   ]
  },
  {
   "cell_type": "code",
   "execution_count": 5,
   "id": "1a93a987-b0ef-419d-9945-e6bc775de5d5",
   "metadata": {},
   "outputs": [
    {
     "name": "stdout",
     "output_type": "stream",
     "text": [
      "prize!\n"
     ]
    }
   ],
   "source": [
    "# 多行注释\n",
    "# 这是一个条件语句：\n",
    "# 分数好时给奖励\n",
    "# 分数不好给一个大棒子\n",
    "\n",
    "\"\"\"\n",
    "多行注释可以用三个引号：\n",
    "这是一个条件语句：\n",
    "分数好时给奖励\n",
    "分数不好给一个大棒子\n",
    "\"\"\"\n",
    "if score>=90:\n",
    "    print('prize!')  \n",
    "else:\n",
    "    print('bang!')  "
   ]
  },
  {
   "cell_type": "markdown",
   "id": "ec2ba044-a0a6-4dd8-843c-a9202fce8f3c",
   "metadata": {},
   "source": [
    "- ### <b>拼接</b>\n",
    "    - 显示的行拼接：Python通常是一行写完一条语句，但是如果语句很长，可以使用续行符(\\)来实现多行语句\n",
    "\n",
    "    <img src='img/concatenate.png'>\n",
    "    \n",
    "    - 隐示的行拼接：圆括号、方括号或花括号以内的多行语句，无需使用续行符(\\)\n",
    "\n",
    "    <img src='img/concatenate_1.png'>\n",
    "\n",
    "    - Python的列表(list)，元组(tuple)和字典(dictionary)和集合(set)的元素是用方括号、圆括号和花括号括起来，这些元素可以换行输入。终端显示时(pirnt)，会自动拼接成一行。\n",
    "      \n",
    "    <img src='img/concatenate_2.png'>"
   ]
  },
  {
   "cell_type": "code",
   "execution_count": 6,
   "id": "c0d176ee-f5ae-415d-93d8-50c815d2520c",
   "metadata": {},
   "outputs": [
    {
     "name": "stdout",
     "output_type": "stream",
     "text": [
      "163\n"
     ]
    }
   ],
   "source": [
    "# 现在的python版本，圆括号内的内容默认为一行）\n",
    "print(1 + 2 +3 + 4 + 5 +6 + 7 \n",
    "      + 2 +3 + 4 + 5 +6 + 7 \n",
    "      + 2 +3 + 4 + 5 +6 + 7 \n",
    "      + 2 +3 + 4 + 5 +6 + 7 \n",
    "      + 2 +3 + 4 + 5 +6 + 7 \n",
    "      + 2 +3 + 4 + 5 +6 + 7)"
   ]
  },
  {
   "cell_type": "code",
   "execution_count": 7,
   "id": "d3fb5bee-0b04-49fc-b221-a6ec625ba273",
   "metadata": {},
   "outputs": [
    {
     "name": "stdout",
     "output_type": "stream",
     "text": [
      "29\n"
     ]
    }
   ],
   "source": [
    "# 没有在括号内的, 需要续行符 \\\n",
    "b=1+ \\\n",
    "23+ \\\n",
    "5\n",
    "print(b)"
   ]
  },
  {
   "cell_type": "code",
   "execution_count": 8,
   "id": "cfb072da-efa4-4116-973f-a17981b5c7d9",
   "metadata": {},
   "outputs": [
    {
     "name": "stdout",
     "output_type": "stream",
     "text": [
      "['', 'January', 'February', 'March', 'April', 'May', 'June', 'July', 'August', 'September', 'October', 'November', 'December']\n"
     ]
    }
   ],
   "source": [
    "# 列表可以自动换行，终端显示时(pirnt)，会自动拼接成一行\n",
    "months=['', 'January', 'February', 'March', 'April'\n",
    "        , 'May', 'June', 'July', 'August'\n",
    "        , 'September', 'October', 'November'\n",
    "        , 'December']\n",
    "print(months)"
   ]
  },
  {
   "cell_type": "markdown",
   "id": "f07494e1-ae14-438a-972a-98a990b3b0d7",
   "metadata": {},
   "source": [
    "- ### <b>变量</b>\n",
    "    - 变量就是可以变化的量，是计算机语言中能储存计算结果或能表示值的抽象概念\n",
    "    - 变量需要先定义再使用，解释器执行到变量定义的代码时会申请内存空间存放变量值，然后将变量值的内存地址绑定给变量名\n",
    "    - 变量的定义由三部分组成：\n",
    "        - 变量名：指向值所在的内存地址，通过它访问值\n",
    "        - 等于号（=）：赋值符号，用来将数据的内存地址绑定给变量名\n",
    "        - 值：变量的值就是i内存地址对应存储的数据\n",
    "\n",
    "        <img src='img/variable_1.png' width=500></img>\n",
    "        \n",
    "    - 标识符：用于变量、函数、类、模块等的名称\n",
    "    - 标识符命名规范：\n",
    "        - 变量名只能包括字母、数字和下划线；变量名不能以数字开头\n",
    "        - 变量名不能包括空格，可以使用下划线来分隔多个单词\n",
    "        - 不能使用Python的关键字及内置函数名做变量名\n",
    "          \n",
    "          <img src='img/keywords.png'>\n",
    "          \n",
    "        - 变量名要尽量简短及具描述性，尽量做到<b>短小精悍，见名知义</b>。\n",
    "            - number = 123\n",
    "            - name = 'john'\n",
    "        - Python中变量名是区分大小写的，例如，Name和name是两个不同的变量名\n",
    "        - 可以参考：蛇形命名法，驼峰命名法\n",
    "            - 蛇形命名：this_number_is = 123\n",
    "            - 小驼峰法：thisNumberIs = 123\n",
    "            - 大驼峰法(或Pascal case)：ThisNumberIs = 123\n",
    "\n",
    "    - 关键字查询：\n",
    "      \n",
    "      <img src='img/keywords.png'>\n",
    "\n",
    "    - 内置函数(builtins.py)：\n",
    "        - Python解释器内置了很多函数和类型，可以直接使用它们\n",
    "          \n",
    "        <img src='img/builtins.png' width=500>\n",
    "\n",
    "        - 查看Python的内置函数\n",
    "            - import builtins\n",
    "            - print(dir(builtins)) , dir内置函数将搜集所有在builtins.py里面定义的名称列表  \n"
   ]
  },
  {
   "cell_type": "code",
   "execution_count": 9,
   "id": "ef69701a-36b7-4139-b1f9-b95be51a5297",
   "metadata": {},
   "outputs": [
    {
     "name": "stdout",
     "output_type": "stream",
     "text": [
      "\n",
      "Here is a list of the Python keywords.  Enter any keyword to get more help.\n",
      "\n",
      "False               class               from                or\n",
      "None                continue            global              pass\n",
      "True                def                 if                  raise\n",
      "and                 del                 import              return\n",
      "as                  elif                in                  try\n",
      "assert              else                is                  while\n",
      "async               except              lambda              with\n",
      "await               finally             nonlocal            yield\n",
      "break               for                 not                 \n",
      "\n"
     ]
    }
   ],
   "source": [
    "# 查看Python的关键字\n",
    "help(\"keywords\")"
   ]
  },
  {
   "cell_type": "code",
   "execution_count": 10,
   "id": "27a1ba25-e110-4391-92ce-7da99b484df4",
   "metadata": {},
   "outputs": [
    {
     "name": "stdout",
     "output_type": "stream",
     "text": [
      "['False', 'None', 'True', 'and', 'as', 'assert', 'async', 'await', 'break', 'class', 'continue', 'def', 'del', 'elif', 'else', 'except', 'finally', 'for', 'from', 'global', 'if', 'import', 'in', 'is', 'lambda', 'nonlocal', 'not', 'or', 'pass', 'raise', 'return', 'try', 'while', 'with', 'yield']\n"
     ]
    }
   ],
   "source": [
    "# 查看Python的关键字，方法二\n",
    "import keyword\n",
    "\n",
    "print(keyword.kwlist)"
   ]
  },
  {
   "cell_type": "code",
   "execution_count": 11,
   "id": "8578da9c-e27c-4f6a-9615-76ad4a9f2c2a",
   "metadata": {},
   "outputs": [
    {
     "name": "stdout",
     "output_type": "stream",
     "text": [
      "['ArithmeticError', 'AssertionError', 'AttributeError', 'BaseException', 'BaseExceptionGroup', 'BlockingIOError', 'BrokenPipeError', 'BufferError', 'BytesWarning', 'ChildProcessError', 'ConnectionAbortedError', 'ConnectionError', 'ConnectionRefusedError', 'ConnectionResetError', 'DeprecationWarning', 'EOFError', 'Ellipsis', 'EncodingWarning', 'EnvironmentError', 'Exception', 'ExceptionGroup', 'False', 'FileExistsError', 'FileNotFoundError', 'FloatingPointError', 'FutureWarning', 'GeneratorExit', 'IOError', 'ImportError', 'ImportWarning', 'IndentationError', 'IndexError', 'InterruptedError', 'IsADirectoryError', 'KeyError', 'KeyboardInterrupt', 'LookupError', 'MemoryError', 'ModuleNotFoundError', 'NameError', 'None', 'NotADirectoryError', 'NotImplemented', 'NotImplementedError', 'OSError', 'OverflowError', 'PendingDeprecationWarning', 'PermissionError', 'ProcessLookupError', 'RecursionError', 'ReferenceError', 'ResourceWarning', 'RuntimeError', 'RuntimeWarning', 'StopAsyncIteration', 'StopIteration', 'SyntaxError', 'SyntaxWarning', 'SystemError', 'SystemExit', 'TabError', 'TimeoutError', 'True', 'TypeError', 'UnboundLocalError', 'UnicodeDecodeError', 'UnicodeEncodeError', 'UnicodeError', 'UnicodeTranslateError', 'UnicodeWarning', 'UserWarning', 'ValueError', 'Warning', 'WindowsError', 'ZeroDivisionError', '__IPYTHON__', '__build_class__', '__debug__', '__doc__', '__import__', '__loader__', '__name__', '__package__', '__spec__', 'abs', 'aiter', 'all', 'anext', 'any', 'ascii', 'bin', 'bool', 'breakpoint', 'bytearray', 'bytes', 'callable', 'chr', 'classmethod', 'compile', 'complex', 'copyright', 'credits', 'delattr', 'dict', 'dir', 'display', 'divmod', 'enumerate', 'eval', 'exec', 'execfile', 'filter', 'float', 'format', 'frozenset', 'get_ipython', 'getattr', 'globals', 'hasattr', 'hash', 'help', 'hex', 'id', 'input', 'int', 'isinstance', 'issubclass', 'iter', 'len', 'license', 'list', 'locals', 'map', 'max', 'memoryview', 'min', 'next', 'object', 'oct', 'open', 'ord', 'pow', 'print', 'property', 'range', 'repr', 'reversed', 'round', 'runfile', 'set', 'setattr', 'slice', 'sorted', 'staticmethod', 'str', 'sum', 'super', 'tuple', 'type', 'vars', 'zip']\n"
     ]
    }
   ],
   "source": [
    "# 查看Python的内置函数\n",
    "import builtins\n",
    "print(dir(builtins))"
   ]
  },
  {
   "cell_type": "markdown",
   "id": "4c4f1d5e-cccc-4b9a-9e87-2d63ed33aad8",
   "metadata": {},
   "source": [
    "- ### <b>常量</b>\n",
    "    - 常量就是不变化的量，在程序运行过程中，有些值是固定的、不应该被改变，比如圆周率3.141592653...\n",
    "    - 所以但从语法层面讲，常量的使用与变量一致\n",
    "    - Python在严格意义上讲，没有常量\n",
    "    - 业界约定，如果把变量定义为常量，把字母全部大写\n",
    "    - 在程序中不会改变值的变量，一般定义为常量。"
   ]
  },
  {
   "cell_type": "code",
   "execution_count": 12,
   "id": "79e22338-0c3c-453f-8070-efb0cd11e923",
   "metadata": {},
   "outputs": [],
   "source": [
    "PI = 3.141592653"
   ]
  },
  {
   "cell_type": "code",
   "execution_count": 13,
   "id": "62a0dc1e-8776-47e0-9a0f-cd063e211284",
   "metadata": {},
   "outputs": [
    {
     "name": "stdout",
     "output_type": "stream",
     "text": [
      "0\n",
      "1\n",
      "2\n"
     ]
    }
   ],
   "source": [
    "import io\n",
    "\n",
    "print(io.SEEK_SET)\n",
    "print(io.SEEK_CUR)\n",
    "print(io.SEEK_END)"
   ]
  },
  {
   "cell_type": "markdown",
   "id": "507818ef-385b-411e-89f1-f198b50e16d1",
   "metadata": {},
   "source": [
    "## 2. python变量的内存管理\n",
    "- 参考：https://www.pythontutorial.net/advanced-python/python-references/\n",
    "- 将数字100的地址赋给counter和max，100所在地址的变量引用数为2\n",
    "\n",
    "<img src='img/memory_1.png' width=400/>\n",
    "<img src='img/memory_2.png' width=500/>\n",
    "\n",
    "- 将数字999的地址赋给max，100所在地址的引用变量数为2-1=1， 999所在地址的变量引用数为1\n",
    "\n",
    "<img src='img/memory_3.png' width=400/>\n",
    "<img src='img/memory_4.png' width=500/>\n",
    "\n",
    "- 将数字1的地址赋给counter，100所在地址的变量引用数为2-1-1=0， 999所在地址的变量引用数为1，1所在地址的变量引用数为1。\n",
    "- 当某一个数据，它的计数为0时，这个数据已经无法在引用（使用）了，那么会把这个数据当成一个垃圾数据，Python会自动回收（内存释放，这个位置腾出来，可以给别的数据继续使用）。\n",
    "\n",
    "<img src='img/memory_5.png' width=400/>\n",
    "<img src='img/memory_6.png' width=500/>"
   ]
  },
  {
   "cell_type": "code",
   "execution_count": 14,
   "id": "7f478fc1-7660-4e24-87fa-03d96426ab24",
   "metadata": {},
   "outputs": [
    {
     "name": "stdout",
     "output_type": "stream",
     "text": [
      "456\n",
      "2573655629008\n",
      "456\n",
      "2573655629008\n",
      "789\n",
      "2573655635184\n",
      "456\n",
      "2573655629008\n",
      "789\n",
      "2573655635184\n"
     ]
    }
   ],
   "source": [
    "a = 456 # 将456所在的内存地址赋给a\n",
    "print(a) # 输出变量名指代的数据\n",
    "# 变量a的地址\n",
    "print(id(a))\n",
    "\n",
    "b=a # a 是地址，将地址赋给了b\n",
    "print(b) # b所存地址所指代的数据\n",
    "print(id(b)) \n",
    "\n",
    "a=789 # 随机开辟空间，把新地址a\n",
    "print(a)\n",
    "print(id(a))\n",
    "print(b)\n",
    "print(id(b))\n",
    "\n",
    "b=a\n",
    "print(b)\n",
    "print(id(b))"
   ]
  },
  {
   "cell_type": "markdown",
   "id": "4b5e0504-dffe-4152-bc12-570c2a312a5a",
   "metadata": {},
   "source": [
    "<img src='img/variable_2.png' width=500>"
   ]
  },
  {
   "cell_type": "code",
   "execution_count": 15,
   "id": "f543ab24-38df-4d37-a918-5b01cbf52c3e",
   "metadata": {},
   "outputs": [
    {
     "name": "stdout",
     "output_type": "stream",
     "text": [
      "1\n",
      "2\n",
      "1\n",
      "0\n"
     ]
    }
   ],
   "source": [
    "# 内存地址的引用计数器例子\n",
    "import ctypes\n",
    "import time \n",
    "\n",
    "\n",
    "def ref_count(address):\n",
    "    return ctypes.c_long.from_address(address).value\n",
    "\n",
    "\n",
    "numbers = [1, 2, 3]\n",
    "numbers_id = id(numbers) # numers_id为[1,2,3]所在内存\n",
    "\n",
    "print(ref_count(numbers_id))  # 1\n",
    "\n",
    "ranks = numbers\n",
    "print(ref_count(numbers_id))  # 2\n",
    "\n",
    "ranks = None\n",
    "print(ref_count(numbers_id))  # 1\n",
    "\n",
    "numbers = None\n",
    "time. sleep(0.1)\n",
    "print(ref_count(numbers_id))  # 0"
   ]
  },
  {
   "cell_type": "markdown",
   "id": "09fa69a3-c1bf-43ff-a75f-605b8268a641",
   "metadata": {},
   "source": [
    "## 3. 输出 & 输入\n",
    "***\n",
    "\n",
    "- ### <b>输出</b>\n",
    "    - print(*objects, sep='', end='\\n', file=sys.stdout, flush=False)\n",
    "    - objects: 输出的对象，输出多个对象时，需要用逗号(,)分隔，对象会被转成字符串再输出\n",
    "        - 星号（*）开头的参数是不定长参数，可以接受0到无限个未知参数。\n",
    "        - 遵循贪婪原则：对于未知参数，尽可能多的接收\n",
    "        - print(1,2,3,4,5)：会把五个实参都传递给第一个形参*objects\n",
    "        - 如果给后面的形参指定实参的话，需要指定关键字参数名\n",
    "    - sep: 输出的对象用什么间隔开来，默认值时一个空格\n",
    "    - end: 输出最后用什么结尾，默认值是换行符（\\n)\n",
    "    - file: 要写入的文件对象，默认为sys.stdout, 指向控制台\n",
    "    - flush: 通常输出是否被缓存决定于flush，如果flush参数为True，会被强制刷新\n"
   ]
  },
  {
   "cell_type": "code",
   "execution_count": 16,
   "id": "a80e1a45-e461-4471-abd8-3aad6de95ec0",
   "metadata": {},
   "outputs": [
    {
     "name": "stdout",
     "output_type": "stream",
     "text": [
      "1 2 3 4 5\n",
      "1-2-3-4-5\n"
     ]
    }
   ],
   "source": [
    "print(1,2,3,4,5)   # 1 2 3 4 5\n",
    "print(1,2,3,4,5, sep='-')   # 1-2-3-4-5"
   ]
  },
  {
   "cell_type": "code",
   "execution_count": 17,
   "id": "8c53ebd6-0b1e-4331-a73e-9ade1b4c4470",
   "metadata": {},
   "outputs": [
    {
     "name": "stdout",
     "output_type": "stream",
     "text": [
      "678\n",
      "357\n",
      "524\n"
     ]
    }
   ],
   "source": [
    "print(678)   # 678\n",
    "print(357)   # 357\n",
    "print(524)   # 524"
   ]
  },
  {
   "cell_type": "code",
   "execution_count": 18,
   "id": "1dd66c11-112b-440c-85d0-e27a7b9e98ac",
   "metadata": {},
   "outputs": [
    {
     "name": "stdout",
     "output_type": "stream",
     "text": [
      "678   357   524"
     ]
    }
   ],
   "source": [
    "# end\n",
    "print(678, end='   ') \n",
    "print(357, end='   ') \n",
    "print(524, end='') \n",
    "# 678   357   524"
   ]
  },
  {
   "cell_type": "code",
   "execution_count": 19,
   "id": "58edd787-1902-46ca-8374-ad60bc13aef8",
   "metadata": {},
   "outputs": [],
   "source": [
    "# file\n",
    "# 每次执行都生成myfile.txt，内容为1343242\n",
    "with open('./myfile.txt','w') as f:\n",
    "    print(1343242, file=f)"
   ]
  },
  {
   "cell_type": "code",
   "execution_count": 20,
   "id": "5c1a578f-c0f6-4975-86ae-29719e615756",
   "metadata": {},
   "outputs": [
    {
     "name": "stdout",
     "output_type": "stream",
     "text": [
      "...................."
     ]
    }
   ],
   "source": [
    "# flush\n",
    "import time\n",
    "# flush默认为False\n",
    "# 在Python命令行下执行，十秒后一次输出20个点\n",
    "# 因为每次输出时, 没有立刻显示在终端, 而是输入到了缓冲区\n",
    "# 直到循环结束的时候，自动去刷新缓冲区，然后把缓冲区内的20个点一次输出来\n",
    "for _ in range(20):\n",
    "    # 如果这里flush为False，则要等10次循环结束之后，终端才会显示结果\n",
    "    # 如果flush为True则每次循环都会刷新一次结果，看起来就是动态的效果。\n",
    "    print('.', end='')\n",
    "    time.sleep(0.5)"
   ]
  },
  {
   "cell_type": "code",
   "execution_count": 21,
   "id": "a5092c35-a5d4-4b95-89cb-2ac1683aa2b6",
   "metadata": {},
   "outputs": [
    {
     "name": "stdout",
     "output_type": "stream",
     "text": [
      "...................."
     ]
    }
   ],
   "source": [
    "# 如果flush为True则每次循环都会刷新一次结果，看起来就是动态的效果。\n",
    "for _ in range(20):\n",
    "    print('.', end='', flush=True)\n",
    "    time.sleep(0.5)"
   ]
  },
  {
   "cell_type": "markdown",
   "id": "b735e481-01da-49e6-970c-6010462b1413",
   "metadata": {},
   "source": [
    "- ## <b>输入</b>\n",
    "    - input([prompt])\n",
    "    - prompt：提示信息\n",
    "    - 函数接收一个标准输入数据，则返回为string类型\n"
   ]
  },
  {
   "cell_type": "code",
   "execution_count": 22,
   "id": "2dc20d80-1e7c-440a-b1dd-7ac50303c9a7",
   "metadata": {},
   "outputs": [
    {
     "name": "stdin",
     "output_type": "stream",
     "text": [
      " abc\n"
     ]
    },
    {
     "name": "stdout",
     "output_type": "stream",
     "text": [
      "abc\n"
     ]
    }
   ],
   "source": [
    "# 输入和输出, 互为逆过程\n",
    "# input 永远返回字符串类型\n",
    "rec = input()\n",
    "print(rec)"
   ]
  },
  {
   "cell_type": "code",
   "execution_count": 23,
   "id": "f73f0f53-ed5f-454d-b185-615fdafcb733",
   "metadata": {},
   "outputs": [
    {
     "name": "stdin",
     "output_type": "stream",
     "text": [
      "请输入你的姓名: 张三\n"
     ]
    },
    {
     "name": "stdout",
     "output_type": "stream",
     "text": [
      "张三,很高兴认识你！\n"
     ]
    }
   ],
   "source": [
    "name = input('请输入你的姓名:')\n",
    "print(name, '很高兴认识你！', sep=',')"
   ]
  }
 ],
 "metadata": {
  "kernelspec": {
   "display_name": "Python 3 (ipykernel)",
   "language": "python",
   "name": "python3"
  },
  "language_info": {
   "codemirror_mode": {
    "name": "ipython",
    "version": 3
   },
   "file_extension": ".py",
   "mimetype": "text/x-python",
   "name": "python",
   "nbconvert_exporter": "python",
   "pygments_lexer": "ipython3",
   "version": "3.11.9"
  }
 },
 "nbformat": 4,
 "nbformat_minor": 5
}
